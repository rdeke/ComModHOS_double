{
 "cells": [
  {
   "attachments": {},
   "cell_type": "markdown",
   "metadata": {},
   "source": [
    "# Tutorial 6.2: Dynamic string (Example only)\n",
    "\n",
    "In this tutorial we will learn how to describe the motion of an oscillating axially deformed string. Here, we will use the FEM to solve a geometrically nonlinear structure subject to gravity loading in a dynamic configuration. The equation of motion of an axially deformed string can be obtained by coupling a string and a rod EOMs, giving the following system of PDEs:\n",
    "\n",
    "$$ m\\ddot{u} -EAu'' = q $$\n",
    "\n",
    "$$ m \\ddot{v} -T v'' = p $$\n",
    "\n",
    "As usual, we first define the parameters:"
   ]
  },
  {
   "cell_type": "code",
   "execution_count": null,
   "metadata": {},
   "outputs": [],
   "source": [
    "import numpy as np\n",
    "import matplotlib.pyplot as plt\n",
    "import scipy.integrate as scp\n",
    "\n",
    "L = 60      # [m] string length\n",
    "D = 0.75*L  # [m] distance between supports\n",
    "EA = 1e6    # [Pa] stiffness\n",
    "m = 1       # [kg] mass\n",
    "g = 9.81    # [m/s^2] gravity constant"
   ]
  },
  {
   "cell_type": "markdown",
   "metadata": {},
   "source": [
    "We now define a parameter that will be used as a flag to determine if the string can handle tension only or if it can also handle compression. By default we set it to 1 (tension only). If you want to add the possibility to handle compressions, set it to 0."
   ]
  },
  {
   "cell_type": "code",
   "execution_count": null,
   "metadata": {},
   "outputs": [],
   "source": [
    "TENSION_ONLY = 1"
   ]
  },
  {
   "cell_type": "markdown",
   "metadata": {},
   "source": [
    "## Step 1: discretize the domain\n",
    "\n",
    "We will use the FEM to solve this problem. Then, we start by discretizing the domain in such a way that the maximum element length $l_{max}$ is 1 m."
   ]
  },
  {
   "cell_type": "code",
   "execution_count": null,
   "metadata": {},
   "outputs": [],
   "source": [
    "lmax = 5                    # [m] maximum length of each string(wire) element\n",
    "nElem = int(np.ceil(L/lmax))# [-] number of elements   \n",
    "lElem = L/nElem             # [m] actual tensionless element size\n",
    "nNode = nElem + 1           # [-] number of nodes "
   ]
  },
  {
   "cell_type": "markdown",
   "metadata": {},
   "source": [
    "We create the nodal coordinates vector and an array with the properties of the element: node connectivity and material properties."
   ]
  },
  {
   "cell_type": "code",
   "execution_count": null,
   "metadata": {},
   "outputs": [],
   "source": [
    "NodeCoord = np.zeros((nNode, 2))\n",
    "Element = np.zeros((nElem, 5))\n",
    "\n",
    "for iElem in np.arange(0, nElem):\n",
    "    NodeLeft = iElem\n",
    "    NodeRight = iElem + 1\n",
    "    NodeCoord[NodeRight] = NodeCoord[NodeLeft] + [lElem, 0]\n",
    "    Element[iElem, :] = [NodeLeft, NodeRight, m, EA, lElem]"
   ]
  },
  {
   "cell_type": "markdown",
   "metadata": {},
   "source": [
    "Let's plot the undeformed (horizontal) position of the string, together with the position of the supports"
   ]
  },
  {
   "cell_type": "code",
   "execution_count": null,
   "metadata": {},
   "outputs": [],
   "source": [
    "# plot the undeformed wire\n",
    "plt.figure()\n",
    "for iElem in np.arange(0, nElem):\n",
    "    NodeLeft = int(Element[iElem, 0])\n",
    "    NodeRight = int(Element[iElem, 1])\n",
    "\n",
    "    plt.plot([NodeCoord[NodeLeft][0], NodeCoord[NodeRight][0]], [NodeCoord[NodeLeft][1], NodeCoord[NodeRight][1]], 'g')\n",
    "    \n",
    "# plot the supports\n",
    "plt.plot(D, 0, 'vr')\n",
    "plt.axis('equal');"
   ]
  },
  {
   "cell_type": "markdown",
   "metadata": {},
   "source": [
    "Note that the distance between supports is smaller than the string length. Therefore, the final string position will take a catenary shape between these two points."
   ]
  },
  {
   "cell_type": "markdown",
   "metadata": {},
   "source": [
    "## Step 2: Dynamic system:\n",
    "\n",
    "In this tutorial we assume that we have a string that initially is at its static equilibrium position. Then, we add a mass on the left of the string and release the left support.\n",
    "\n",
    "#### Step 2.1: Find the initial static position\n",
    "\n",
    "In order to get the initial string shape, we solve a static problem as done in tutorial 8."
   ]
  },
  {
   "cell_type": "code",
   "execution_count": null,
   "metadata": {},
   "outputs": [],
   "source": [
    "nDof = 2*nNode                          # number of DOFs\n",
    "FreeDof = np.arange(0, nDof)            # free DOFs \n",
    "FixedDof = [0,1, -2, -1]                # fixed DOFs\n",
    "FreeDof = np.delete(FreeDof, FixedDof)  # remove the fixed DOFs from the free DOFs array\n",
    "\n",
    "# free & fixed array indices\n",
    "fx = FreeDof[:, np.newaxis]\n",
    "fy = FreeDof[np.newaxis, :]\n",
    "\n",
    "SAG = 20                            # Let us assume a big sag - this will assure that all elements\n",
    "                                    # are under tension, which may be necesary for the convergence\n",
    "                                    # of the solver\n",
    "s = np.array([i[0] for i in NodeCoord])\n",
    "x = D*(s/L)\n",
    "y = -4*SAG*((x/D)-(x/D)**2)\n",
    "u = np.zeros((nDof))\n",
    "u[0:nDof+1:2] = x - np.array([i[0] for i in NodeCoord])\n",
    "u[1:nDof+1:2] = y - np.array([i[1] for i in NodeCoord])\n",
    "# The displacement of the node corresponds to the actual position minus the initial position\n",
    "# Remember that we use a Global Coordinate System (GCS) here.\n",
    "\n",
    "Pext = np.zeros((nDof))\n",
    "for iElem in np.arange(0, nElem):\n",
    "    NodeLeft = int(Element[iElem, 0])\n",
    "    NodeRight = int(Element[iElem, 1])\n",
    "    DofsLeft = 2*NodeLeft \n",
    "    DofsRight = 2*NodeRight\n",
    "    l0 = Element[iElem, 4]\n",
    "    m = Element[iElem, 2]\n",
    "    Pelem = -g*l0*m/2           # Half weight to each node\n",
    "    Pext[DofsLeft + 1] += Pelem\n",
    "    Pext[DofsRight + 1] += Pelem\n",
    "\n",
    "from module_imports.StringForcesAndStiffness import StringForcesAndStiffness\n",
    "# Convergence parameters\n",
    "CONV = 0\n",
    "PLOT = False\n",
    "kIter = 0\n",
    "nMaxIter = 100\n",
    "TENSION = np.zeros((nElem))\n",
    "\n",
    "while CONV == 0:\n",
    "    kIter += 1\n",
    "    # Check stability - define a number of maximum iterations. If solution\n",
    "    # hasn't converged, check what is going wrong (if something).\n",
    "    if kIter > nMaxIter:\n",
    "        break\n",
    "    \n",
    "    # Assemble vector with internal forces and stiffnes matrix\n",
    "    K = np.zeros((nDof*nDof)) \n",
    "    Fi = np.zeros((nDof))\n",
    "    for iElem in np.arange(0, nElem):\n",
    "        NodeLeft = int(Element[iElem, 0])\n",
    "        NodeRight = int(Element[iElem, 1])\n",
    "        DofsLeft = 2*NodeLeft \n",
    "        DofsRight = 2*NodeRight\n",
    "        l0 = Element[iElem, 4]\n",
    "        EA = Element[iElem, 3]\n",
    "        NodePos = ([NodeCoord[NodeLeft][0] + u[DofsLeft], NodeCoord[NodeRight][0] + u[DofsRight]], \n",
    "                    [NodeCoord[NodeLeft][1] + u[DofsLeft + 1], NodeCoord[NodeRight][1] + u[DofsRight + 1]])\n",
    "        Fi_elem, K_elem, Tension, WARN = StringForcesAndStiffness(NodePos, EA, l0, TENSION_ONLY)\n",
    "        TENSION[iElem] = Tension\n",
    "        \n",
    "        Fi[DofsLeft:DofsLeft + 2] += Fi_elem[0]\n",
    "        Fi[DofsRight:DofsRight + 2] += Fi_elem[1]\n",
    "\n",
    "        # Assemble the matrices at the correct place\n",
    "            # Get the degrees of freedom that correspond to each node\n",
    "        Dofs_Left = 2*(NodeLeft) + np.arange(0, 2)\n",
    "        Dofs_Right = 2*(NodeRight) + np.arange(0, 2)\n",
    "        nodes = np.append(Dofs_Left , Dofs_Right)\n",
    "        for i in np.arange(0, 4):\n",
    "            for j in np.arange(0, 4):\n",
    "                ij = nodes[i] + nodes[j]*nDof\n",
    "                K[ij] = K[ij] + K_elem[i, j]\n",
    "\n",
    "    K = K.reshape((nDof, nDof))\n",
    "\n",
    "    # Calculate residual forces\n",
    "    R = Pext - Fi\n",
    "\n",
    "    # Check for convergence\n",
    "    if np.linalg.norm(R[FreeDof])/np.linalg.norm(Pext[FreeDof]) < 1e-3:\n",
    "        CONV = 1\n",
    "\n",
    "    # Calculate increment of displacements\n",
    "    du = np.zeros((nDof))\n",
    "    du[FreeDof] = np.linalg.solve(K[fx, fy], R[FreeDof])\n",
    "\n",
    "    # Apply archlength to help with convergence\n",
    "    Scale = np.min(np.append(np.array([1]), lElem/np.max(np.abs(du))))\n",
    "    du = du*Scale   # Enforce that each node does not displace\n",
    "                    # more (at each iteration) than the length\n",
    "                    # of the elements\n",
    "\n",
    "    # Update displacement of nodes\n",
    "    u += du\n",
    "\n",
    "    # plot the updated configuration\n",
    "    if PLOT:\n",
    "        for iElem in np.arange(0, nElem):\n",
    "            NodeLeft = int(Element[iElem, 0])\n",
    "            NodeRight = int(Element[iElem, 1])\n",
    "            DofsLeft = 2*NodeLeft \n",
    "            DofsRight = 2*NodeRight\n",
    "            plt.plot([NodeCoord[NodeLeft][0] + u[DofsLeft], NodeCoord[NodeRight][0] + u[DofsRight]], \n",
    "                        [NodeCoord[NodeLeft][1] + u[DofsLeft + 1], NodeCoord[NodeRight][1] + u[DofsRight + 1]], '-ok')\n",
    "            \n",
    "        # plot the supports\n",
    "        plt.plot([0, D], [0, 0], 'vr')\n",
    "        plt.axis('equal')\n",
    "        plt.xlabel(\"x [m]\")\n",
    "        plt.ylabel(\"y [m]\")\n",
    "        plt.title(\"Iteration: \"+str(kIter))\n",
    "        plt.pause(0.05)\n",
    "\n",
    "if CONV == 1:\n",
    "    for iElem in np.arange(0, nElem):\n",
    "            NodeLeft = int(Element[iElem, 0])\n",
    "            NodeRight = int(Element[iElem, 1])\n",
    "            DofsLeft = 2*NodeLeft \n",
    "            DofsRight = 2*NodeRight\n",
    "            plt.plot([NodeCoord[NodeLeft][0] + u[DofsLeft], NodeCoord[NodeRight][0] + u[DofsRight]], \n",
    "                        [NodeCoord[NodeLeft][1] + u[DofsLeft + 1], NodeCoord[NodeRight][1] + u[DofsRight + 1]], '-ok')\n",
    "            \n",
    "    # plot the supports\n",
    "    plt.plot(D, 0, 'vr')\n",
    "    plt.axis('equal')\n",
    "    plt.xlabel(\"x [m]\")\n",
    "    plt.ylabel(\"y [m]\")\n",
    "    plt.title(\"Converged solution at iteration: \"+str(kIter))\n",
    "else:\n",
    "    print(\"Solution did not converge\")"
   ]
  },
  {
   "cell_type": "markdown",
   "metadata": {},
   "source": [
    "#### Step 2.2: solve the dynamic problem\n",
    "\n",
    "First, we define the mass on the left node and some damping. "
   ]
  },
  {
   "cell_type": "code",
   "execution_count": null,
   "metadata": {},
   "outputs": [],
   "source": [
    "Mass = 100\n",
    "C = 0.001*EA"
   ]
  },
  {
   "cell_type": "markdown",
   "metadata": {},
   "source": [
    "The external force will be the same as the one used to find the initial position, so here we only need to compute the mass matrix."
   ]
  },
  {
   "cell_type": "code",
   "execution_count": null,
   "metadata": {},
   "outputs": [],
   "source": [
    "M = np.zeros((nDof*nDof))\n",
    "M[0] = Mass                         # Add mass at the left node\n",
    "M[nDof + 1] = Mass                  # Add mass at the left node\n",
    "Pext[1] = Pext[1] - Mass*g          # Add weight to the left node\n",
    "for iElem in np.arange(0, nElem):\n",
    "        NodeLeft = int(Element[iElem, 0])\n",
    "        NodeRight = int(Element[iElem, 1])\n",
    "        DofsLeft = 2*NodeLeft \n",
    "        DofsRight = 2*NodeRight\n",
    "        l0 = Element[iElem, 4]\n",
    "        EA = Element[iElem, 3]\n",
    "        M_elem = m*l0/6*np.array([[2, 0, 1, 0], \n",
    "                                    [0, 2, 0, 1], \n",
    "                                    [1, 0, 2, 0], \n",
    "                                    [0, 1, 0, 2]])\n",
    "        # Assemble the matrices at the correct place\n",
    "        # Get the degrees of freedom that correspond to each node\n",
    "        Dofs_Left = 2*(NodeLeft) + np.arange(0, 2)\n",
    "        Dofs_Right = 2*(NodeRight) + np.arange(0, 2)\n",
    "        nodes = np.append(Dofs_Left , Dofs_Right)\n",
    "        for i in np.arange(0, 4):\n",
    "            for j in np.arange(0, 4):\n",
    "                ij = nodes[i] + nodes[j]*nDof\n",
    "                M[ij] = M[ij] + M_elem[i, j]\n",
    "M = M.reshape((nDof, nDof))"
   ]
  },
  {
   "cell_type": "markdown",
   "metadata": {},
   "source": [
    "We define the fixed and free DOFs of the system."
   ]
  },
  {
   "cell_type": "code",
   "execution_count": null,
   "metadata": {},
   "outputs": [],
   "source": [
    "# Release the left support\n",
    "nDof = 2*nNode                          # number of DOFs\n",
    "FreeDof = np.arange(0, nDof)            # free DOFs \n",
    "FixedDof = [-2, -1]                     # fixed DOFs\n",
    "FreeDof = np.delete(FreeDof, FixedDof)  # remove the fixed DOFs from the free DOFs array\n",
    "\n",
    "# free & fixed array indices\n",
    "fx = FreeDof[:, np.newaxis]\n",
    "fy = FreeDof[np.newaxis, :]"
   ]
  },
  {
   "cell_type": "markdown",
   "metadata": {},
   "source": [
    "Now, we have all we need to perform the time integration. We initialize the state vector with zero initial velocities. To solve the ODE we use the `solve_ivp` function, calling the `ACCELERATIONS` function as an ode function. You can find the definition of this function below."
   ]
  },
  {
   "attachments": {},
   "cell_type": "markdown",
   "metadata": {},
   "source": [
    "##### Auxiliar function:\n",
    "\n",
    "The `ACCELERATIONS` function computes the accelerations based on the equation:\n",
    "\n",
    "$$ \\boldsymbol{M} \\ddot{\\boldsymbol{u}}_{n+1} = \\boldsymbol{F}_{ext} - \\boldsymbol{F}_{int}(\\boldsymbol{u}_n, \\dot{\\boldsymbol{u}}_n) $$"
   ]
  },
  {
   "cell_type": "code",
   "execution_count": null,
   "metadata": {},
   "outputs": [],
   "source": [
    "from module_imports.StringDynamicForces import StringDynamicForces\n",
    "def ACCELERATIONS(t, U, NodeCoord, Element, FreeDof, C, M, Pext, TENSION_ONLY):\n",
    "    nDof = len(U)\n",
    "    u = U[:nDof//2]\n",
    "    v = U[nDof//2:]\n",
    "\n",
    "    # free & fixed array indices\n",
    "    fx = FreeDof[:, np.newaxis]\n",
    "    fy = FreeDof[np.newaxis, :]\n",
    "\n",
    "    # Calculate internal forces\n",
    "    FintDyn = np.zeros((nDof))\n",
    "    for iElem in np.arange(0, len(Element)):\n",
    "        NodeLeft = int(Element[iElem, 0])\n",
    "        NodeRight = int(Element[iElem, 1])\n",
    "        DofsLeft = 2*NodeLeft \n",
    "        DofsRight = 2*NodeRight\n",
    "        l0 = Element[iElem, 4]\n",
    "        EA = Element[iElem, 3]\n",
    "        NodePos = ([NodeCoord[NodeLeft][0] + u[DofsLeft], NodeCoord[NodeRight][0] + u[DofsRight]], \n",
    "            [NodeCoord[NodeLeft][1] + u[DofsLeft + 1], NodeCoord[NodeRight][1] + u[DofsRight + 1]])\n",
    "        NodeVel = ([v[DofsLeft], v[DofsRight]], \n",
    "                    [v[DofsLeft + 1], v[DofsRight + 1]])\n",
    "        Fint = StringDynamicForces(NodePos, NodeVel, EA, C, l0)\n",
    "        FintDyn[DofsLeft:DofsLeft + 2] += Fint[0]\n",
    "        FintDyn[DofsRight:DofsRight + 2] += Fint[1]\n",
    "\n",
    "    # Calculate the new acceleration\n",
    "    a = np.zeros((nDof//2))\n",
    "    a[FreeDof] = np.linalg.solve(M[fx, fy], (Pext[FreeDof]-FintDyn[FreeDof]))\n",
    "    \n",
    "    # Store the derivative of phase\n",
    "    dU = np.append(v, a)\n",
    "    #print(\"Time = \"+str(t)+\" s\")\n",
    "    return dU\n"
   ]
  },
  {
   "cell_type": "code",
   "execution_count": null,
   "metadata": {},
   "outputs": [],
   "source": [
    "v = u*0\n",
    "U0 = np.append(u, v)\n",
    "dt = 0.1\n",
    "Tend = 10\n",
    "tspan = np.arange(0, Tend, dt)\n",
    "\n",
    "def odefun(t, U):\n",
    "    # print(t) # Can add to follow progress - may take a few minutes\n",
    "    return ACCELERATIONS(t, U, NodeCoord, Element, FreeDof, C, M, Pext, TENSION_ONLY)\n",
    "\n",
    "sol = scp.solve_ivp(fun=odefun, t_span=[tspan[0], tspan[-1]], y0=U0, t_eval=tspan)  "
   ]
  },
  {
   "cell_type": "markdown",
   "metadata": {},
   "source": [
    "Once we have the solution, we can plot the evolution of the string."
   ]
  },
  {
   "cell_type": "code",
   "execution_count": null,
   "metadata": {},
   "outputs": [],
   "source": [
    "%matplotlib inline\n",
    "import time\n",
    "from IPython import display\n",
    "\n",
    "for iT in np.arange(0, len(sol.t)):\n",
    "    try: \n",
    "        u = sol.y[:nDof, iT]\n",
    "        for iElem in np.arange(0, nElem):\n",
    "            NodeLeft = int(Element[iElem, 0])\n",
    "            NodeRight = int(Element[iElem, 1])\n",
    "            DofsLeft = 2*NodeLeft \n",
    "            DofsRight = 2*NodeRight\n",
    "            plt.plot([NodeCoord[NodeLeft][0] + u[DofsLeft], NodeCoord[NodeRight][0] + u[DofsRight]], \n",
    "                        [NodeCoord[NodeLeft][1] + u[DofsLeft + 1], NodeCoord[NodeRight][1] + u[DofsRight + 1]], '-ok')\n",
    "        # plot the supports\n",
    "        plt.plot(D, 0, 'vr')     \n",
    "        plt.axis('equal')\n",
    "        plt.xlabel(\"x [m]\")\n",
    "        plt.ylabel(\"y [m]\")\n",
    "        display.display(plt.gcf())\n",
    "        display.clear_output(wait=True)\n",
    "        plt.clf()\n",
    "        time.sleep(0.01)\n",
    "    except KeyboardInterrupt:\n",
    "        break\n",
    "\n",
    "u = sol.y[:nDof, -1]\n",
    "for iElem in np.arange(0, nElem):\n",
    "    NodeLeft = int(Element[iElem, 0])\n",
    "    NodeRight = int(Element[iElem, 1])\n",
    "    DofsLeft = 2*NodeLeft \n",
    "    DofsRight = 2*NodeRight\n",
    "    plt.plot([NodeCoord[NodeLeft][0] + u[DofsLeft], NodeCoord[NodeRight][0] + u[DofsRight]], \n",
    "                [NodeCoord[NodeLeft][1] + u[DofsLeft + 1], NodeCoord[NodeRight][1] + u[DofsRight + 1]], '-ok')\n",
    "# plot the supports\n",
    "plt.plot(D, 0, 'vr') \n",
    "plt.axis('equal')\n",
    "plt.xlabel(\"x [m]\")\n",
    "plt.ylabel(\"y [m]\");"
   ]
  }
 ],
 "metadata": {
  "kernelspec": {
   "display_name": "Python 3",
   "language": "python",
   "name": "python3"
  },
  "language_info": {
   "codemirror_mode": {
    "name": "ipython",
    "version": 3
   },
   "file_extension": ".py",
   "mimetype": "text/x-python",
   "name": "python",
   "nbconvert_exporter": "python",
   "pygments_lexer": "ipython3",
   "version": "3.10.9"
  },
  "vscode": {
   "interpreter": {
    "hash": "cbd884b27ce8a521f14a4395d2fc856cd6c799b684d9efdb8253cb562c6eeba0"
   }
  }
 },
 "nbformat": 4,
 "nbformat_minor": 2
}
