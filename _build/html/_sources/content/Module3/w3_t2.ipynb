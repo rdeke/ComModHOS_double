{
 "cells": [
  {
   "attachments": {},
   "cell_type": "markdown",
   "id": "ee48ddb8",
   "metadata": {},
   "source": [
    "# Tutorial 3.2: Solving a cantilever beam with Finite Differences\n",
    "\n",
    "In this tutorial we will learn how to obtain the motion of a cantilever beam using Finite Differences\n",
    "\n",
    "The equation of motion of the beam is:\n",
    "\n",
    "$$\\rho A \\ddot{w} + EI w'''' = q(x,t)$$\n",
    "\n",
    "where $w(t)$ is the deflection of the beam, $\\rho$ its density, $A$ its cross-sectional area, $E$ its Young's modulus, $I$ its second moment of area and $q(x,t)$ a distributed force applied to the beam. \n",
    "\n",
    "The boundary conditions for a cantilever beam are:\n",
    "\n",
    "$$ w(0) = w'(0) = \\dot{w}(0) = \\ddot{w}(0) = 0 $$\n",
    "\n",
    "$$EI\\ w^{'''}(L) = F_{\\mathrm{ext}}(t) $$\n",
    "\n",
    "$$EI\\ w^{''}(L) = M_{\\mathrm{ext}}(t) $$\n",
    "\n",
    "## The roadmap to finde the beam deflection  using Finite Differences\n",
    "\n",
    "The steps needed to discretize the beam are listed next. \n",
    "1. Discretize space into $N + 1$ points.\n",
    "2. Discretize the EOM of the beam. To do this, you will have to approximate the 4th order derivative with FD. Use a second order approximation. You can find the coefficients [here](https://en.wikipedia.org/wiki/Finite_difference_coefficient) (or google `finite difference coefficients' and click the Wikipedia page)}.\n",
    "3. Apply the boundary conditions. Use the definition of discrete derivatives and EOM to find the relation between the ghost points and the interior points.\n",
    "4. Combine all equations into matrices. \n",
    "5. Solve the resulting ODE system"
   ]
  },
  {
   "cell_type": "code",
   "execution_count": 2,
   "id": "954667af",
   "metadata": {},
   "outputs": [],
   "source": [
    "# Load packages\n",
    "%matplotlib inline\n",
    "import matplotlib.pyplot as plt\n",
    "from matplotlib import cm\n",
    "import numpy as np\n",
    "import scipy as sp\n",
    "from scipy.integrate import solve_ivp"
   ]
  },
  {
   "cell_type": "markdown",
   "id": "f89a080a",
   "metadata": {},
   "source": [
    "### Step 1: Discretize space"
   ]
  },
  {
   "cell_type": "code",
   "execution_count": 3,
   "id": "cf8e0c07",
   "metadata": {},
   "outputs": [],
   "source": [
    "# Your code goes here\n"
   ]
  },
  {
   "attachments": {},
   "cell_type": "markdown",
   "id": "7052edd7",
   "metadata": {},
   "source": [
    "### Step 2: Discretize the EOM of the beam\n",
    "\n",
    "Using the coefficients for a centered FD scheme for 4th order derivatives with 2nd order accuracy we have:\n",
    "\n",
    "$$ w_i^{''''} = \\frac{w_{i-2}-4w_{i-1}+6w_i-4w_{i+1}+w_{i+2}}{\\Delta x^4}$$\n",
    "\n",
    "The equivalent scheme for the 3rd order derivative is:\n",
    "\n",
    "$$ w_i^{'''} = \\frac{-0.5w_{i-2}+w_{i-1}-w_{i+1}+0.5w_{i+2}}{\\Delta x^3}$$\n",
    "\n",
    "For the 2nd order derivative:\n",
    "\n",
    "$$ w_i^{''} = \\frac{w_{i-1}-2w_i+w_{i+1}}{\\Delta x^2}$$\n",
    "\n",
    "And for the 1st order derivative:\n",
    "\n",
    "$$ w_i^{'} = \\frac{-0.5w_{i-1}+0.5w_{i+1}}{\\Delta x}$$\n",
    "\n",
    "Replacing these expressions into the equation of motion we get the discrete system:\n",
    "\n",
    "> Your derivations go here"
   ]
  },
  {
   "attachments": {},
   "cell_type": "markdown",
   "id": "76a2ea71",
   "metadata": {
    "tags": []
   },
   "source": [
    "### Step 3: Apply boundary conditions\n",
    "\n",
    "> Your derivations go here"
   ]
  },
  {
   "attachments": {},
   "cell_type": "markdown",
   "id": "fa6e2296",
   "metadata": {},
   "source": [
    "### Step 4: Matrix form\n",
    "\n",
    "Summarizing we have the following discrete (in space) equations:\n",
    "\n",
    "- For $i=1$:\n",
    "> Your derivations go here\n",
    "\n",
    "- For $i=2$:\n",
    "> Your derivations go here\n",
    "\n",
    "- For $i=3,...,N-2$:\n",
    "> Your derivations go here\n",
    "\n",
    "- For $i=N-1$:\n",
    "> Your derivations go here\n",
    "\n",
    "- For $i=N$:\n",
    "> Your derivations go here\n",
    "\n",
    "\n",
    "This is equivalent to the following system in compact form:\n",
    "> Your derivations go here\n",
    "\n",
    "with vectors  $\\boldsymbol{w}$ and $\\boldsymbol{F}$, and matrices $\\boldsymbol{M}$ and $\\boldsymbol{K}$ equal to:\n",
    "> Your derivations go here\n"
   ]
  },
  {
   "attachments": {},
   "cell_type": "markdown",
   "id": "b6410057",
   "metadata": {},
   "source": [
    "Some info for the coming exercises:"
   ]
  },
  {
   "cell_type": "code",
   "execution_count": 4,
   "id": "0f6774a3",
   "metadata": {},
   "outputs": [],
   "source": [
    "def qfunc(x_i,t): # Can choose whatever you need, x are the free node coordinates in an array, so here without w_0\n",
    "    return (x_i[1:]**2 - 3*x_i[1:] - 1)*np.sin(t) * 1e2\n",
    "def F_ext(t):\n",
    "    return 1e3 *np.cos(t)\n",
    "def M_ext(t):\n",
    "    return 1e4 *(np.sin(t)+np.cos(t))\n",
    "rho = 7850 # kg/m3, steel\n",
    "\n",
    "b = 0.2\n",
    "h = 0.5\n",
    "A = b*h # m2\n",
    "E = 1 # For increased stability, added later\n",
    "EI = 1/3*b*h**3*E"
   ]
  },
  {
   "cell_type": "code",
   "execution_count": 5,
   "id": "077a3197",
   "metadata": {},
   "outputs": [],
   "source": [
    "# Construct the matrices and external force vector\n"
   ]
  },
  {
   "cell_type": "markdown",
   "id": "2bf74fbc",
   "metadata": {},
   "source": [
    "# Step 5: Solve the ODE system\n",
    "\n",
    "Now, we just need to apply what we learned in the previous session to solve the dynamic problem. The main novelty is that here we work with matrices."
   ]
  },
  {
   "cell_type": "code",
   "execution_count": 6,
   "id": "838e3ca4",
   "metadata": {},
   "outputs": [],
   "source": [
    "# Define the ODE function\n",
    "\n",
    "# Define initial state\n",
    "\n",
    "# Define time interval and time evaluation points\n",
    "\n",
    "\n",
    "# Solve\n",
    "\n",
    "\n",
    "# Plot\n"
   ]
  },
  {
   "cell_type": "markdown",
   "id": "6a45c09f",
   "metadata": {},
   "source": [
    "## Exercise: Add a point mass at the extreme of the beam"
   ]
  },
  {
   "cell_type": "code",
   "execution_count": null,
   "id": "c0198348",
   "metadata": {},
   "outputs": [],
   "source": []
  },
  {
   "attachments": {},
   "cell_type": "markdown",
   "id": "d9fde550",
   "metadata": {},
   "source": [
    "-----------------------------------------------------------------------------------------------------\n",
    "[The solution can be found here.](w3_t2_sol.ipynb)"
   ]
  }
 ],
 "metadata": {
  "kernelspec": {
   "display_name": "Python 3",
   "language": "python",
   "name": "python3"
  },
  "language_info": {
   "codemirror_mode": {
    "name": "ipython",
    "version": 3
   },
   "file_extension": ".py",
   "mimetype": "text/x-python",
   "name": "python",
   "nbconvert_exporter": "python",
   "pygments_lexer": "ipython3",
   "version": "3.10.9"
  },
  "vscode": {
   "interpreter": {
    "hash": "cbd884b27ce8a521f14a4395d2fc856cd6c799b684d9efdb8253cb562c6eeba0"
   }
  }
 },
 "nbformat": 4,
 "nbformat_minor": 5
}
