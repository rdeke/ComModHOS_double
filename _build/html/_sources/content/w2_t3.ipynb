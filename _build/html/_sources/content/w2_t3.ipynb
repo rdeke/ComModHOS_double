{
 "cells": [
  {
   "attachments": {},
   "cell_type": "markdown",
   "metadata": {},
   "source": [
    "# Tutorial 2.3: Wave simulation (Example only)\n",
    "\n",
    "In this tutorial you will learn how to simulate a wave elevation using the wave spectrum and assuming potential theory to describe the water kinematics. \n",
    "\n",
    "In this example we assume one wave direction (long-crested waves) only.\n",
    "\n",
    "NOTE: you will require `wave_spectrum.py`"
   ]
  },
  {
   "cell_type": "markdown",
   "metadata": {},
   "source": [
    "## Part 1: Calculate harmonic wave component parameters from a wave spectrum.\n",
    "We start by defining the numerical values of all the parameters that will be needed:\n",
    "\n",
    "- `spectrum_type` =1, ITTC-Modified Pierson_Moskowitz (p1=Hs,p2=T0)\n",
    "- `spectrum_type` =2, JONSWAP (p1=Hs,p2=w0,p3=gamma)\n",
    "- `spectrum_type` =3, Torsethaugen (p1=Hs,p2=W0)\n",
    "\n",
    "\n",
    "- `hs`          - Significant wave heigh in sea state [m]\n",
    "- `T0`          - Spectrum period at peak frequency in spectrum [s]\n",
    "- `omega_peak`  - Peak frequency in spectrum [rad/s]\n",
    "- `depth`       - Average water depth, for calculation of wave numbers [m]\n",
    "- `nfreq`       - Number of frequency components [-]\n",
    "- `omega_max`   - Cutoff frequency of spectrum = cutoff*omega_mean [rad]\n",
    "- `rand_seed`   - Random number seed, applies to all random numbers (phase, rand frequency)"
   ]
  },
  {
   "cell_type": "code",
   "execution_count": null,
   "metadata": {},
   "outputs": [],
   "source": [
    "from module_imports.wave_spectrum_generator import wave_spectrum\n",
    "import numpy as np\n",
    "import matplotlib.pyplot as plt\n",
    "\n",
    "# Parameters\n",
    "spectrum_type = 3\n",
    "hs = 1.0\n",
    "T0 = 9\n",
    "omega_peak = 2*np.pi/T0\n",
    "depth = 20\n",
    "nfreq = 20\n",
    "omega_max = 3*omega_peak\n",
    "rand_seed = 584\n",
    "g = 9.81"
   ]
  },
  {
   "cell_type": "markdown",
   "metadata": {},
   "source": [
    "With the given parameters we need to generate the following harmonic wave component parameters required for the time-simulations.\n",
    "\n",
    "- `zeta_a`  - Vector of harmonic wave amplitudes\n",
    "- `omega`   - Vector of harmonic wave frequencies\n",
    "- `phase`   - Vector of harmonic wave phases (random)\n",
    "- `wavenum` - Vector of harmonic wave numbers"
   ]
  },
  {
   "cell_type": "code",
   "execution_count": null,
   "metadata": {},
   "outputs": [],
   "source": [
    "# Frequency step\n",
    "delta_omega = omega_max/nfreq\n",
    "\n",
    "# Maximum simulation time (before the signal gets repeated)\n",
    "max_time_sim = 2*np.pi/delta_omega\n",
    "\n",
    "print(\"Max simulation time: \"+str(max_time_sim))\n",
    "\n",
    "# Frequency vector, starting at delta_omega\n",
    "omega_vec = np.arange(delta_omega,omega_max + delta_omega,delta_omega)"
   ]
  },
  {
   "cell_type": "markdown",
   "metadata": {},
   "source": [
    "Set random generator required to create the same set of random number based on the seed number. If this line is commented or unused, everytime we run the code we will have different random numbers. "
   ]
  },
  {
   "cell_type": "code",
   "execution_count": null,
   "metadata": {},
   "outputs": [],
   "source": [
    "np.random.seed(rand_seed)\n",
    "\n",
    "# Create evenly distributed random phases\n",
    "phase = np.random.randn(1,nfreq)*2*np.pi\n",
    "\n",
    "# Generate the spectral densities using the provided function\n",
    "s_omega = wave_spectrum(spectrum_type, [hs, T0], omega_vec, 0)"
   ]
  },
  {
   "cell_type": "markdown",
   "metadata": {},
   "source": [
    "Use: `S = wave_spectrum(SpecType, Par, W, PlotFlag)`\n",
    "\n",
    "Input:\n",
    "\n",
    "`SpecType`  - Spectrum type \n",
    "\n",
    "`Par`       - Spectrum parameters\n",
    "\n",
    "`W`         - List of wave frequencies [rad/s]\n",
    "\n",
    "`PlotFlag`  - `1` to plot the spectrum, `0` for no plot\n",
    "\n",
    "Output:\n",
    "\n",
    "`S`         - List of wave spectrum values [m^2 s]; evaluated at W[k]\n",
    "\n",
    "We can plot the spectrum and the frequencies employed:"
   ]
  },
  {
   "cell_type": "code",
   "execution_count": null,
   "metadata": {},
   "outputs": [],
   "source": [
    "plt.figure()\n",
    "plt.plot(omega_vec, s_omega)\n",
    "plt.plot(omega_vec, s_omega, 'r*')\n",
    "plt.xlabel(\"$\\omega$ [rad/s]\")\n",
    "plt.ylabel(\"S [m$^2$s]\")\n",
    "plt.title(\"Long-crested wave spectrum, \"+str(nfreq)+\" harmonic components as red stars\");"
   ]
  },
  {
   "cell_type": "markdown",
   "metadata": {},
   "source": [
    "You can try using different number of harmonic components and check the simulation time.\n",
    "\n",
    "Now we need to calculate the wave amplitude and wave number for every harmonic component."
   ]
  },
  {
   "cell_type": "code",
   "execution_count": null,
   "metadata": {},
   "outputs": [],
   "source": [
    "from scipy.optimize import root_scalar\n",
    "zeta_a = []\n",
    "wavenum = []\n",
    "for ii in np.arange(0, nfreq):\n",
    "    # Calculate the wave amplitude.\n",
    "    # The area under the spectrum represents 0.5*zeta_a^2\n",
    "    # here we assume that this area is simply calculated by the S(w)*Deltaw.\n",
    "    zeta_a.append(np.sqrt(2*s_omega[ii]*delta_omega))\n",
    "\n",
    "    # Calculate the wave numbers using the dispersion relation\n",
    "    # we are going to use the root_scaler function to solve the non-\n",
    "    # linear equation\n",
    "    wavenum_0 = omega_vec[ii]**2/g\n",
    "    def func(k):\n",
    "        return k*np.tanh(k*depth) - omega_vec[ii]**2/g\n",
    "    sol = root_scalar(func, method='toms748', bracket=[wavenum_0, 1e10])\n",
    "    wavenum.append(sol.root)\n",
    "omega = omega_vec"
   ]
  },
  {
   "cell_type": "markdown",
   "metadata": {},
   "source": [
    "Now we have defined all our required parameters!"
   ]
  },
  {
   "cell_type": "markdown",
   "metadata": {},
   "source": [
    "## Part 2: Create time domain simulation of wave eleveation\n",
    "\n",
    "List of time values for simulation\n",
    "Note: depending on number of frequency components (`nfreq`), the time response will be repeated after $2\\pi/$`delta_omega`"
   ]
  },
  {
   "cell_type": "code",
   "execution_count": null,
   "metadata": {},
   "outputs": [],
   "source": [
    "t = np.arange(0, 100.1, 0.1)\n",
    "\n",
    "# Define position\n",
    "x = 0.0"
   ]
  },
  {
   "cell_type": "markdown",
   "metadata": {},
   "source": [
    "For each time step the wave elevation is obtained as the superpostiion of the different harmonic components. Please note that it can be done in a vectorial way for all frequencies and is not necessary to use a for loop."
   ]
  },
  {
   "cell_type": "code",
   "execution_count": null,
   "metadata": {},
   "outputs": [],
   "source": [
    "zeta = []\n",
    "for i in np.arange(0, len(t)):\n",
    "    zeta.append(np.sum(zeta_a*np.cos(omega*t[i] + phase - np.array(wavenum)*x)))\n",
    "\n",
    "plt.figure()\n",
    "plt.plot(t, zeta)\n",
    "plt.xlabel(\"t [s]\")\n",
    "plt.ylabel(\"Surface elevation $zeta$ [m]\");"
   ]
  },
  {
   "attachments": {},
   "cell_type": "markdown",
   "metadata": {},
   "source": [
    "-----------------------------------------------------------\n",
    "\n",
    "**Problem**: Calculate the heave force and roll moment on a rectangular barge of dimensions 50x50 m. Plot the results in the time domain over an adequate time period.\n",
    "\n",
    "*Hint*: You will need to make use of potential theory to calculate velocites and accelerations at the required positions. At this point, this step should be straightforward since the wave parameters for the different harmonic components are already calculated in this tutorial. Note that the position where the velocites and accelerations are required, change according to the motion of the structure. Also note that the time step of calculation will be given by the ode solver and is not predefined as we did in this example. \n",
    "\n",
    "------------------------------------------------------------\n",
    "Some additional parameters:\n",
    "- Barge dimensions: 50x50x4 m, in deep water\n",
    "- Barge draft: 0.5 m in seawater $\\rho$ = 1025 $kg/m^3$, assume uniform weight distribution\n",
    "- Hydrodynamic added mass (in heave and roll) = 10% and damping = 1% of dry mass\n",
    "- $H_s$ = 1.0 m, $T_0$ = 9 s, g = 9.81 N/kg (Same as before)"
   ]
  },
  {
   "cell_type": "code",
   "execution_count": null,
   "metadata": {},
   "outputs": [],
   "source": [
    "# Implement here ...\n",
    "from scipy.integrate import solve_ivp\n",
    "\n",
    "# Preparation work ----------------------------------------------------------------------------\n",
    "\n",
    "# Primary parameterss\n",
    "L_barge = 50     # m\n",
    "B_barge = 50     # m\n",
    "H_barge = 4      # m\n",
    "T_barge = 0.5    # m\n",
    "rho_w = 1025     # kg/m3\n",
    "mass_add = 0.1   # -\n",
    "damp_fac = 0.01  # -\n",
    "H_s = 2          # m\n",
    "T_s = 10         # s\n",
    "g = 9.81         # N/kg\n",
    "# Retake irregular waves from earlier waves\n",
    "zeta_a = zeta_a\n",
    "wavenum = wavenum\n",
    "omega = omega\n",
    "\n",
    "# Deducing additional parameters\n",
    "W_barge = L_barge*B_barge*T_barge*rho_w # kg,   Barge weight\n",
    "k_heave = L_barge*B_barge*rho_w*g       # N/m,  Heave stiffness = A*rho*g\n",
    "\n",
    "nabla_s = B_barge*L_barge*T_barge     # Submerged volume, taken in neutral position\n",
    "KB_s = T_barge/2\n",
    "J = 1/12*W_barge*(B_barge**2 + T_barge**2)\n",
    "BM_s = J/nabla_s\n",
    "KG_s = H_barge/2\n",
    "GM_s = (KB_s + BM_s - KG_s)\n",
    "k_roll = rho_w*g*nabla_s*GM_s         # Nm/rad, Roll stiffness = rho*g*nabla_s*GM_s\n",
    "\n",
    "# Pressures and forces for regular waves --------------------------------------------------------------------------------------\n",
    "# Pressure determination \n",
    "def Phi(zeta_a_i, omega_i, wavenum_i, t,x,y,z,mu=0):\n",
    "    return zeta_a_i*g/omega_i * np.exp(wavenum_i*z) * np.sin(wavenum_i*x*np.cos(mu)+wavenum_i*y*np.sin(mu)-omega_i*t)\n",
    "def pressure(zeta_a_i, omega_i, wavenum_i, t,x,y,z,mu=0):\n",
    "    fac = 0.0001 # For numerical derivatives\n",
    "    dt = max(t*fac,0.001) # Max limits 0-entry errors in denominator\n",
    "    dpdt = (Phi(zeta_a_i, omega_i, wavenum_i, t+dt,x,y,z)-Phi(zeta_a_i, omega_i, wavenum_i, t,x,y,z)) / dt\n",
    "    dx = max(x*fac,0.001)\n",
    "    u = (Phi(zeta_a_i, omega_i, wavenum_i, t,x+dx,y,z)-Phi(zeta_a_i, omega_i, wavenum_i, t,x,y,z)) / dx\n",
    "    dy = max(y*fac,0.001)\n",
    "    v = (Phi(zeta_a_i, omega_i, wavenum_i, t,x,y+dy,z)-Phi(zeta_a_i, omega_i, wavenum_i, t,x,y,z)) / dy\n",
    "    dz = max(z*fac,0.001)\n",
    "    w = (Phi(zeta_a_i, omega_i, wavenum_i, t,x,y,z+dz)-Phi(zeta_a_i, omega_i, wavenum_i, t,x,y,z)) / dz\n",
    "    return rho_w*dpdt - 0.5*rho_w*(u**2+v**2+w**2) - rho_w*g*z\n",
    "# Force function\n",
    "def F_wave(zeta_a_i, omega_i, wavenum_i, t,z_centre, ang_pont, mu=0):    \n",
    "    xlist = np.linspace(-L_barge/2, L_barge/2, n_points)\n",
    "    plist = np.zeros(n_points)\n",
    "    for i in range(len(xlist)):\n",
    "        x = xlist[i]\n",
    "        y = 1 # Not needed in practice, only for 3D\n",
    "        z = z_centre+x*np.sin(ang_pont)\n",
    "        plist[i] = -pressure(zeta_a_i, omega_i, wavenum_i, t,x,y,z) # Minus sign since push is on -z-direction face\n",
    "    return np.trapz(plist,xlist)\n",
    "# Moment function (around centre)\n",
    "def M_wave(zeta_a_i, omega_i, wavenum_i, t,z_centre, ang_pont, mu=0):    \n",
    "    xlist = np.linspace(-L_barge/2, L_barge/2, n_points)\n",
    "    plist = np.zeros(n_points)\n",
    "    for i in range(len(xlist)):\n",
    "        x = xlist[i]\n",
    "        y = 1 # Not needed in practice, only for 3D\n",
    "        z = z_centre+x*np.sin(ang_pont)\n",
    "        plist[i] = -pressure(zeta_a_i, omega_i, wavenum_i, t,x,y,z)*x # Minus sign since push is on -z-direction face\n",
    "    return np.trapz(plist,xlist)\n",
    "\n",
    "# Irregular superposition -------------------------------------------------------------------------------\n",
    "def F_irreg(zeta_a, omega, wavenum, t, z_centre, ang_pont, mu=0):\n",
    "    F_irregular = 0\n",
    "    for i in range(len(zeta_a)):\n",
    "        F_irregular += F_wave(zeta_a[i], omega[i], wavenum[i], t, z_centre, ang_pont)\n",
    "    return F_irregular\n",
    "def M_irreg(zeta_a, omega, wavenum, t, z_centre, ang_pont, mu=0):\n",
    "    M_irregular = 0\n",
    "    for i in range(len(zeta_a)):\n",
    "        M_irregular += M_wave(zeta_a[i], omega[i], wavenum[i], t, z_centre, ang_pont)\n",
    "    return M_irregular\n",
    "\n",
    "\n",
    "# Result calculation ----------------------------------------------------------------------------------------\n",
    "def fun_irreg(t, q):\n",
    "    print(t) # to follow progress\n",
    "    u3 = q[0]\n",
    "    u6 = q[1]\n",
    "    v3 = q[2]\n",
    "    v6 = q[3]\n",
    "    a3 = (-k3*u3 - c3*v3 + F_irreg(zeta_a,omega,wavenum, t,u3,u6))/W_barge # From the equation of motion we can compute the acceleration\n",
    "    a6 = (-k6*u6 - c6*v6 + M_irreg(zeta_a,omega,wavenum, t,u3,u6))/J       # From the equation of motion we can compute the acceleration\n",
    "    return [v3, v6, a3, a6]\n",
    "def RK4(tspan):\n",
    "    return solve_ivp(fun=fun_irreg,t_span=[t_0,t_f],y0=q_0, t_eval=tspan)"
   ]
  },
  {
   "cell_type": "code",
   "execution_count": null,
   "metadata": {},
   "outputs": [],
   "source": [
    "t_0 =            0          # initial time [s]\n",
    "t_f =            T0         # final time [s], Increase to see full force development (takes long)\n",
    "q_0 = [0, 0, 0, 0]\n",
    "m3 = W_barge*(1+mass_add)\n",
    "c3 = W_barge*damp_fac\n",
    "k3 = k_heave\n",
    "m6 = J*(1+mass_add)\n",
    "c6 = J*damp_fac\n",
    "k6 = k_roll\n",
    "\n",
    "n_points = 100\n",
    "tspan = np.linspace(t_0,t_f, n_points)\n",
    "out = RK4(tspan)"
   ]
  },
  {
   "cell_type": "code",
   "execution_count": null,
   "metadata": {},
   "outputs": [],
   "source": [
    "# PLOTS\n",
    "plt.figure(figsize=(20,7))\n",
    "plt.suptitle(\"Displacement and velocity time traces\")\n",
    "plt.subplot(221)\n",
    "plt.plot(tspan, out.y[0], label=f\"Heave displacement\")\n",
    "plt.xlabel(\"Time [s]\")\n",
    "plt.ylabel(\"Displacement [m]\")\n",
    "plt.subplot(222)\n",
    "plt.plot(tspan, out.y[1], label=f\"Roll displacement\")\n",
    "plt.xlabel(\"Time [s]\")\n",
    "plt.ylabel(\"Roll angle [rad]\")\n",
    "plt.subplot(223)\n",
    "plt.plot(tspan, out.y[2], label=f\"Heave velocity\")\n",
    "plt.xlabel(\"Time [s]\")\n",
    "plt.ylabel(\"Displacement velocity [m/s]\")\n",
    "plt.subplot(224)\n",
    "plt.plot(tspan, out.y[3], label=f\"Roll velocity\")\n",
    "plt.xlabel(\"Time [s]\")\n",
    "plt.ylabel(\"Roll valocity [rad/s]\")\n",
    "plt.legend()\n",
    "plt.tight_layout()"
   ]
  },
  {
   "attachments": {},
   "cell_type": "markdown",
   "metadata": {},
   "source": [
    "-----------------------------------------------------------------------------------------------------\n",
    "[The solution can be found here.](w2_t3_sol.ipynb)"
   ]
  }
 ],
 "metadata": {
  "kernelspec": {
   "display_name": "Python 3",
   "language": "python",
   "name": "python3"
  },
  "language_info": {
   "codemirror_mode": {
    "name": "ipython",
    "version": 3
   },
   "file_extension": ".py",
   "mimetype": "text/x-python",
   "name": "python",
   "nbconvert_exporter": "python",
   "pygments_lexer": "ipython3",
   "version": "3.10.9"
  },
  "vscode": {
   "interpreter": {
    "hash": "cbd884b27ce8a521f14a4395d2fc856cd6c799b684d9efdb8253cb562c6eeba0"
   }
  }
 },
 "nbformat": 4,
 "nbformat_minor": 4
}
