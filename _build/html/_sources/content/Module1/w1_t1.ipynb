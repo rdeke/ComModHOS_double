{
 "cells": [
  {
   "attachments": {},
   "cell_type": "markdown",
   "metadata": {},
   "source": [
    "# Tutorial 1: ODE solvers\n",
    "In this tutorial you will learn to solve an MCK (mass-damper-spring) using a Python ODE solver. The MCK has 1 DOF and consequently the state veector contains 2 entries; displacement and velocity. \n",
    "\n",
    "$$ \\boldsymbol{q} = \\begin{bmatrix} u \\\\ \\dot{u} \\end{bmatrix}$$\n",
    "\n",
    "The Equation of Motion (EoM) is given by: $$ m\\ddot{u} = -ku -c\\dot{u} $$"
   ]
  },
  {
   "cell_type": "markdown",
   "metadata": {},
   "source": [
    "## Part 1: definition of inputs\n",
    "We start by defining the numerical values of all parameters:"
   ]
  },
  {
   "cell_type": "code",
   "execution_count": null,
   "metadata": {},
   "outputs": [],
   "source": [
    "import numpy as np\n",
    "import matplotlib.pyplot as plt\n",
    "from scipy.integrate import solve_ivp\n",
    "\n",
    "# Parameters\n",
    "k =         1   # [N/n] \n",
    "c =         0.1 # [Ns/m]\n",
    "m =         1   # [kg]"
   ]
  },
  {
   "cell_type": "markdown",
   "metadata": {},
   "source": [
    "We want to solve the problem in the interval $ t \\in [0,10] $, and get the solution with a resolution of $ \\Delta t = 0.01$. Then, the vector of evaluation points will be defined as:"
   ]
  },
  {
   "cell_type": "code",
   "execution_count": null,
   "metadata": {},
   "outputs": [],
   "source": [
    "# Time interval\n",
    "t_0 =       0       # initial time [s]\n",
    "t_f =       10      # final time [s]\n",
    "dt =        0.01    # time step size [s]\n",
    "\n",
    "steps =     int(t_f/dt)  # integer number of steps [-]\n",
    "tspan =     np.linspace(t_0,t_f,steps)   # vector of evaluation points [s]"
   ]
  },
  {
   "cell_type": "markdown",
   "metadata": {},
   "source": [
    "The initial conditions for this example will be: $ u(0) = 1.0 $ and $ \\dot{u}(0) = 0.0$."
   ]
  },
  {
   "cell_type": "code",
   "execution_count": null,
   "metadata": {},
   "outputs": [],
   "source": [
    "# Initial conditions\n",
    "init_disp = 1\n",
    "init_velo = 0"
   ]
  },
  {
   "cell_type": "markdown",
   "metadata": {},
   "source": [
    "## Part 2: the ODE solver\n",
    "We will use solve_ivp (available via the SciPy package) to solve our MCK system. solve_ivp implements the 5th order Runge-Kutta scheme mentioned in the lectures. Checking help for solve_ivp shows how to call it:\n",
    "\n",
    "`scipy.integrate.solve_ivp(fun, t_span, y0, t_eval, **options)`\n",
    "\n",
    "OUTPUT:\n",
    "- T: Evaluation points\n",
    "- q: containts the state $\\boldsymbol{q}$ at each time in the vector T\n",
    "\n",
    "INPUT:\n",
    "- `fun`: our ode function as explained during the lecture. It will compute the time derivatives of $q: \\dot{q}=\\mathcal{F} (q)$.\n",
    "- `t_span`: list of the first and last time step\n",
    "- `y0`: our initial state / conditions, $q(0)$.\n",
    "- `t_eval`: times at which the solution should be stored. In our case this is the variable `tspan`\n",
    "- `**options`: Options for the solvers. Here you can set things like error tolerances, maximum time step, event functions, etc. Check the SciPy docs for details. You will need to use this during the first assignment.  \n",
    "\n",
    "Let's ignore the options for now and use the `solve_ivp` as our solver."
   ]
  },
  {
   "attachments": {},
   "cell_type": "markdown",
   "metadata": {},
   "source": [
    "## Part 3: ODE function\n",
    "Now we need to create our `fun`. In the help documentation of `solve_ivp` we can check for a short description on what the function does. It is stated that the function f(t,q) determines the differential equations. The function is called as:\n",
    "\n",
    "$ \\dot{\\boldsymbol{q}} = $`fun`$(t,\\boldsymbol{q}) $\n",
    "\n",
    "Here, the variable $\\dot{\\boldsymbol{q}}$ is the time derivative of our current state, $t$ is the current time and $\\boldsymbol{q}$ is our current state. As the solver requires this interface, we have to create our `fun` accordingly or we will get answers that have no physical meaning!\n",
    "\n",
    "\n",
    "-----------------------------------------------------------------------------------------------------\n",
    "**Problem**: Create a `fun` function that can receive the time, the state variable and the parameters as arguments. Implement the ODE function, $\\mathcal{F}$, for the 1DOF MCK system such that $\\dot{q}=\\mathcal{F} (q)$.\n",
    "\n",
    "*Hint*: Use the EoM and the fact that $\\boldsymbol{q}(1) = u$ and $\\boldsymbol{q}(2) = \\dot{u}$.\n",
    "\n",
    "-----------------------------------------------------------------------------------------------------\n"
   ]
  },
  {
   "cell_type": "code",
   "execution_count": null,
   "metadata": {},
   "outputs": [],
   "source": [
    "# Solve the problem of part 3 here"
   ]
  },
  {
   "cell_type": "markdown",
   "metadata": {},
   "source": [
    "## Part 4: initial state\n",
    "Next we need to create `q_0`. Note that the solver does not know / care what each entry in `q` represents. All the solver does is integrate things! You assign meaning to the entries in the state `q` when you define the initial conditions in `q_0`. This means that if you want the first entry in your state to be the displacement, `q_0[0]` should be set to `init_disp`. If you want the velocities to be the first entry, `q_0[0]` should be equal to the `init_velo`. It is up to you to decide this. \n",
    "\n",
    "!! IMPORTANT !!\n",
    "The `q` you receive in your `fun` will have the same meaning as your `q_0`. This means if you assigned `q_0[0]` to be the `init_disp`, `q_n[0]` will be the current displacement. So make sure your usage of `q_n` inside the `fun` is consistent with your definition of `q_0` as otherwise you will get bogus results\n",
    "\n",
    "-----------------------------------------------------------------------------------------------------\n",
    "**Problem**: Create your `q_0`\n",
    "\n",
    "*Hint*: Straight forward! Just make sure that the indices are consistent with what you wrote in `fun`.\n",
    "\n",
    "-----------------------------------------------------------------------------------------------------"
   ]
  },
  {
   "cell_type": "code",
   "execution_count": null,
   "metadata": {},
   "outputs": [],
   "source": [
    "# Solve the problem of part 4 here"
   ]
  },
  {
   "attachments": {},
   "cell_type": "markdown",
   "metadata": {},
   "source": [
    "## Part 5: Solve\n",
    "### Part5.1: RK5 scheme\n",
    "Once everything works the solver will return T and q. Each row in q corresponds to your state at that time-step. You can then plot your results with:"
   ]
  },
  {
   "cell_type": "code",
   "execution_count": null,
   "metadata": {},
   "outputs": [],
   "source": [
    "sol = solve_ivp(fun=q_dot,t_span=[t_0, t_f], y0=q0, t_eval=tspan)\n",
    "# Plotting the solution\n",
    "plt.plot(sol.t,sol.y[0],label=\"Displacement\")\n",
    "plt.plot(sol.t,sol.y[1],label=\"Velocity\")\n",
    "plt.xlabel('Time [s]')\n",
    "plt.ylabel('Displacement [m] / Velocity [m/s]')\n",
    "plt.legend()\n",
    "plt.title(\"ODe results using solve_ivp\")"
   ]
  },
  {
   "attachments": {},
   "cell_type": "markdown",
   "metadata": {},
   "source": [
    "### Part5.2: RK5 scheme\n",
    "In the cell above the RK5 scheme was used for the time integration. However, we can simply make our own time integration scheme as well.\n",
    "\n",
    "-----------------------------------------------------------------------------------------------------\n",
    "**Problem**: Create your `FE_solver` function\n",
    "\n",
    "*Hint*: Start by making all required arrays, and then loop over the different time entries. How are the displacement, velocity, and acceleration linked? Can we use a vector notation?\n",
    "\n",
    "---------------------------------------------------------------------------------------------------"
   ]
  },
  {
   "cell_type": "code",
   "execution_count": null,
   "metadata": {},
   "outputs": [],
   "source": [
    "# Solve the problem of part 5.2 here "
   ]
  },
  {
   "cell_type": "code",
   "execution_count": null,
   "metadata": {},
   "outputs": [],
   "source": [
    "# Solve the problem\n",
    "FE_sol = FE_solver(q_dot, tspan,q0)\n",
    "\n",
    "# Plotting the solution\n",
    "plt.plot(tspan,FE_sol[:,0],label=\"Displacement\") \n",
    "# Note the slightly different notation than FE_sol.y[0]. This is because the .y result is intrinsicly bound to the solve_ivp function. However, adaptations to FE_solver could give the same result \n",
    "plt.plot(tspan,FE_sol[:,1],label=\"Velocity\")\n",
    "plt.xlabel('Time [s]')\n",
    "plt.ylabel('Displacement [m] / Velocity [m/s]')\n",
    "plt.legend()\n",
    "plt.title(\"ODe results using FE_solver (self made)\")"
   ]
  },
  {
   "attachments": {},
   "cell_type": "markdown",
   "metadata": {},
   "source": [
    "## Part 5.3: Performance comparison\n",
    "The Forward Euler method is less accurate than the `solve_ivp` solver and it accumulates as time evolves. Let's plot the error."
   ]
  },
  {
   "cell_type": "code",
   "execution_count": null,
   "metadata": {},
   "outputs": [],
   "source": [
    "# Plotting the error\n",
    "plt.plot(tspan,abs(FE_sol[:,0]-sol.y[0]),label=\"Displacement\")\n",
    "plt.plot(tspan,abs(FE_sol[:,1]-sol.y[1]),label=\"Velocity\")\n",
    "plt.xlabel('Time [s]')\n",
    "plt.ylabel('Displacement error [m] / Velocity error [m/s]')\n",
    "plt.legend()\n",
    "plt.title(\"ODe absolute error from FE to RK4\");"
   ]
  },
  {
   "attachments": {},
   "cell_type": "markdown",
   "metadata": {},
   "source": [
    "-----------------------------------------------------------------------------------------------------\n",
    "[The solution can be found here.](w1_t1_sol.ipynb)"
   ]
  }
 ],
 "metadata": {
  "kernelspec": {
   "display_name": "Python 3",
   "language": "python",
   "name": "python3"
  },
  "language_info": {
   "codemirror_mode": {
    "name": "ipython",
    "version": 3
   },
   "file_extension": ".py",
   "mimetype": "text/x-python",
   "name": "python",
   "nbconvert_exporter": "python",
   "pygments_lexer": "ipython3",
   "version": "3.10.10"
  },
  "vscode": {
   "interpreter": {
    "hash": "cbd884b27ce8a521f14a4395d2fc856cd6c799b684d9efdb8253cb562c6eeba0"
   }
  }
 },
 "nbformat": 4,
 "nbformat_minor": 4
}
