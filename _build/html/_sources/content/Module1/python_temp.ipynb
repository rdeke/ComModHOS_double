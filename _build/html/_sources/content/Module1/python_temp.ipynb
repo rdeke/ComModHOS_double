a = 0
def f(x):
  sin(x)
def f0(x):
  sin(a)
def f1(x):
  f0(x) + (x-a)*cos(a)
def f2(x):
  f1(x) - (x-a)^2/2 * sin(a)
def f3(x):
  f2(x) - (x-a)^3/6 * cos(a)
def f4(x):
  f3(x) + (x-a)^4/24 * sin(a)
def f5(x):
  f4(x) + (x-a)^5/120 * cos(a)