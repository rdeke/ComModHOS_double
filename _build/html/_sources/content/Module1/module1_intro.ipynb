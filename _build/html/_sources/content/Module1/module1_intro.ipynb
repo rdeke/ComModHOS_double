{
 "cells": [
  {
   "cell_type": "markdown",
   "id": "c95151f6",
   "metadata": {},
   "source": [
    "# Module 1: Basics of Computational Modelling\n",
    "\n",
    "## Introduction\n",
    "\n",
    "In this chapter we will go over the contents given in the *Modelling, Uncertainty and Data for Engineers (MUDE)* module that are relevant for this unit. These are the following:\n",
    "1. Taylor Series Expansions (week 1.5)\n",
    "2. Solution to Ordinary Differential Equations (week 1.5)\n",
    "3. Finite Differences method (week 2.1)\n",
    "4. Finite Element method (week 2.2)\n",
    "\n",
    "## Learning Objectives\n",
    "\n",
    "At the end of this module you will be able to:\n",
    "1. Define and analyse numerical methods to solve ODEs.\n",
    "  1.1. Define a simple solver to approximate solutions of ODEs based on Taylor Series\n",
    "  1.2. Quantify the numerical error of an approximated solution\n",
    "  1.3. Define adaptive time stepping approaches to control the numerical error\n",
    "  1.4. Distinguish between different ODE solvers\n",
    "2. Define and analyse numerical solvers of PDEs using the Finite Differences method\n",
    "3. Define and analyse numerical solvers of PDEs using the Finite Elements method\n",
    "\n",
    "## Problem setting and notation\n",
    "\n",
    "Let's assume that we want to find an analytical expression of a function that describes the displacement an object in time, denoted as $ u(t) $. For simplicity, we assume that this object only has one degree of freedom (DOF), *e.g.* the vertical displacement of the centre of gravity of a floating vessel. We also assume that the object satisfies the equation of motion given by a linear mass-damping-stiffness system:\n",
    "\n",
    "$$ m\\ddot{u}(t)+c\\dot{u}(t)+ku(t)=F(t), $$\n",
    "\n",
    "with $m$ the mass of the object, $c$ the damping and $k$ the stiffness. $ F(t) $ is a time-dependent forcing term. We also provide appropriate initial conditions, in that case \n",
    "$$ u(0)=0,\\quad\\dot{u}(0)=\\dot{u}_0. $$\n",
    "\n",
    "In General, and mostly depending on the complexity of the forcing term $ F(t) $, it is difficult to find an analytical expression that is defined at all times, $u(t)\\, ∀ t\\in[0,\\infty)$, see red curve in the following figure.\n",
    "```{figure} ../../images/Module1/Introduction/1_1.png\n",
    "---\n",
    "height: 300px\n",
    "name: 1_1\n",
    "---\n",
    "Analytical vs approximated functions\n",
    "```\n",
    "\n",
    "Instead, we might be interested in knowing the value of the function at specific points in time, $u(t_0),u(t_1),u(t_2),...,u(t_N)$, see green dots in the previous figure. From these set of values, one can reconstruct an approximated function $\\tilde{u}_N(t)$ by, for instance, using a linear interpolation between points (blue dashed line in the figure).\n",
    "\n",
    "For smooth enough functions, $u(t)$, as we increase the number of evaluation points in time, $N$, the approximated solution solution $\\tilde{u}_N(t)$ will be closer to $u(t)$.\n",
    "\n",
    ":::{important}\n",
    "In this course we will learn how to find approximate solutions like $\\tilde{u}_N(t)$ by using numerical methods. \n",
    ":::\n",
    "\n",
    "\n",
    "## Notation\n",
    "In these notes we will use the following notation: \n",
    "* $u_i:=u(t_i)$, the function evaluated at time $t_i$. \n",
    "* $\\Delta t_i:=t_i-t_{i-1}$, the time step between two consecutive time steps, $t_{i-1}$ and $t_i$.\n",
    "When considering constant time steps, in an interval of time $t\\in[0,T]$ with $N$ time steps, the time step size will be $\\Delta t=T/N$."
   ]
  }
 ],
 "metadata": {
  "jupytext": {
   "cell_metadata_filter": "-all",
   "formats": "md:myst",
   "text_representation": {
    "extension": ".md",
    "format_name": "myst",
    "format_version": 0.13,
    "jupytext_version": "1.11.5"
   }
  },
  "kernelspec": {
   "display_name": "Python 3",
   "language": "python",
   "name": "python3"
  },
  "language_info": {
   "codemirror_mode": {
    "name": "ipython",
    "version": 3
   },
   "file_extension": ".py",
   "mimetype": "text/x-python",
   "name": "python",
   "nbconvert_exporter": "python",
   "pygments_lexer": "ipython3",
   "version": "3.9.13"
  },
  "source_map": [
   14
  ]
 },
 "nbformat": 4,
 "nbformat_minor": 5
}