{
 "cells": [
  {
   "cell_type": "markdown",
   "metadata": {
    "tags": []
   },
   "source": [
    "# Tutorial 6.1: Static string\n",
    "\n",
    "In this tutorial we will learn how to define the static equilibrium position of a string. Here, we will use the FEM to solve a geometrically nonlinear structure subject to gravity loading in a static configuration. The equation of motion of an axially deformed string can be obtained by coupling a string and a rod EOMs, giving the following system of PDEs:\n",
    "\n",
    "$$ m\\ddot{u} -EAu'' = q $$\n",
    "\n",
    "$$ m \\ddot{v} -T v'' = p $$\n",
    "\n",
    "As usual, we first define the parameters:"
   ]
  },
  {
   "cell_type": "code",
   "execution_count": 1,
   "metadata": {},
   "outputs": [],
   "source": [
    "#pip install scipy;"
   ]
  },
  {
   "cell_type": "code",
   "execution_count": 2,
   "metadata": {},
   "outputs": [],
   "source": [
    "#pip install ipympl;"
   ]
  },
  {
   "cell_type": "code",
   "execution_count": 3,
   "metadata": {},
   "outputs": [],
   "source": [
    "import numpy as np\n",
    "import matplotlib.pyplot as plt\n",
    "\n",
    "L = 60      # [m] string length\n",
    "D = 0.75*L  # [m] distance between supports\n",
    "EA = 1e6    # [Pa] stiffness\n",
    "m = 1       # [kg] mass\n",
    "g = 9.81    # [m/s^2] gravity constant"
   ]
  },
  {
   "cell_type": "markdown",
   "metadata": {},
   "source": [
    "We now define a parameter that will be used as a flag to determine if the string can handle tension only or if it can also handle compression. By default we set it to 1 (tension only). If you want to add the possibility to handle compressions, set it to 0."
   ]
  },
  {
   "cell_type": "code",
   "execution_count": 4,
   "metadata": {},
   "outputs": [],
   "source": [
    "TENSION_ONLY = 1"
   ]
  },
  {
   "cell_type": "markdown",
   "metadata": {},
   "source": [
    "## Step 1: discretize the domain\n",
    "\n",
    "We will use the FEM to solve this problem. Then, we start by discretizing the domain in such a way that the maximum element length $l_{max}$ is 1 m."
   ]
  },
  {
   "cell_type": "code",
   "execution_count": 5,
   "metadata": {},
   "outputs": [],
   "source": [
    "lmax = 1                    # [m] maximum length of each string(wire) element\n",
    "nElem = int(np.ceil(L/lmax))# [-] number of elements   \n",
    "lElem = L/nElem             # [m] actual tensionless element size\n",
    "nNode = nElem + 1           # [-] number of nodes "
   ]
  },
  {
   "cell_type": "markdown",
   "metadata": {},
   "source": [
    "We create the nodal coordinates vector and an array with the properties of the element: node connectivity and material properties."
   ]
  },
  {
   "cell_type": "code",
   "execution_count": 6,
   "metadata": {},
   "outputs": [],
   "source": [
    "NodeCoord = np.zeros((nNode, 2))\n",
    "Element = np.zeros((nElem, 5))\n",
    "\n",
    "for iElem in np.arange(0, nElem):\n",
    "    NodeLeft = iElem\n",
    "    NodeRight = iElem + 1\n",
    "    NodeCoord[NodeRight] = NodeCoord[NodeLeft] + [lElem, 0]\n",
    "    Element[iElem, :] = [NodeLeft, NodeRight, m, EA, lElem]"
   ]
  },
  {
   "cell_type": "markdown",
   "metadata": {},
   "source": [
    "Let's plot the undeformed (horizontal) position of the string, together with the position of the supports"
   ]
  },
  {
   "cell_type": "code",
   "execution_count": 7,
   "metadata": {},
   "outputs": [
    {
     "data": {
      "image/png": "[encoded data removed]",
      "text/plain": [
       "<Figure size 640x480 with 1 Axes>"
      ]
     },
     "metadata": {
      "filenames": {
       "image/png": "C:\\Users\\rubde\\Documents\\School\\TUDelft\\MSC\\TA_Colomes\\03_ComModHOS_v02\\v03_local\\_build\\jupyter_execute\\content\\w6_t1_11_0.png"
      }
     },
     "output_type": "display_data"
    }
   ],
   "source": [
    "# plot the undeformed wire\n",
    "plt.figure()\n",
    "for iElem in np.arange(0, nElem):\n",
    "    NodeLeft = int(Element[iElem, 0])\n",
    "    NodeRight = int(Element[iElem, 1])\n",
    "\n",
    "    plt.plot([NodeCoord[NodeLeft][0], NodeCoord[NodeRight][0]], [NodeCoord[NodeLeft][1], NodeCoord[NodeRight][1]], 'g')\n",
    "    \n",
    "# plot the supports\n",
    "plt.plot([0, D], [0, 0], 'vr')\n",
    "plt.axis('equal');"
   ]
  },
  {
   "cell_type": "markdown",
   "metadata": {},
   "source": [
    "Note that the distance between supports is smaller than the string length. Therefore, the final string position will take a catenary shape between these two points."
   ]
  },
  {
   "cell_type": "markdown",
   "metadata": {},
   "source": [
    "## Step 2: Newton-Raphson:\n",
    "\n",
    "#### Step 2.1: Guess the initial deformation\n",
    "\n",
    "We know that the problem is nonlinear, so we will use the Newton-Raphson method to find the equilibrium position. In order to find this solution, we will need an initial guess. It can be any shape that satisfies the boundary conditions, the solver will take less iterations (less time) if we find an initial guess close to the final shape.\n",
    "\n",
    "We start by defining the free and fixed DOFs."
   ]
  },
  {
   "cell_type": "code",
   "execution_count": 8,
   "metadata": {},
   "outputs": [],
   "source": [
    "nDof = 2*nNode                          # number of DOFs\n",
    "FreeDof = np.arange(0, nDof)            # free DOFs \n",
    "FixedDof = [0,1, -2, -1]                # fixed DOFs\n",
    "FreeDof = np.delete(FreeDof, FixedDof)  # remove the fixed DOFs from the free DOFs array\n",
    "\n",
    "# free & fixed array indices\n",
    "fx = FreeDof[:, np.newaxis]\n",
    "fy = FreeDof[np.newaxis, :]"
   ]
  },
  {
   "cell_type": "markdown",
   "metadata": {},
   "source": [
    "For the initial configuration, let us assume a parabola of the type:\n",
    "\n",
    "$$ x(s) = D(s/L) $$\n",
    "\n",
    "$$ y(s) = -4 SAG ((x/D) - (x/D)^2) $$\n",
    "\n",
    "Where $s$ is the coordinate along the undeformed position of the wire and $SAG$ the maximum vertical distance of the string."
   ]
  },
  {
   "cell_type": "code",
   "execution_count": 9,
   "metadata": {},
   "outputs": [],
   "source": [
    "SAG = 20                            # Let us assume a big sag - this will assure that all elements\n",
    "                                    # are under tension, which may be necesary for the convergence\n",
    "                                    # of the solver\n",
    "s = np.array([i[0] for i in NodeCoord])\n",
    "x = D*(s/L)\n",
    "y = -4*SAG*((x/D)-(x/D)**2)\n",
    "u = np.zeros((nDof))\n",
    "u[0:nDof+1:2] = x - np.array([i[0] for i in NodeCoord])\n",
    "u[1:nDof+1:2] = y - np.array([i[1] for i in NodeCoord])\n",
    "# The displacement of the node corresponds to the actual position minus the initial position\n",
    "# Remember that we use a Global Coordinate System (GCS) here."
   ]
  },
  {
   "cell_type": "markdown",
   "metadata": {},
   "source": [
    "Plot the initial guess."
   ]
  },
  {
   "cell_type": "code",
   "execution_count": 10,
   "metadata": {},
   "outputs": [
    {
     "data": {
      "image/png": "[encoded data removed]",
      "text/plain": [
       "<Figure size 640x480 with 1 Axes>"
      ]
     },
     "metadata": {
      "filenames": {
       "image/png": "C:\\Users\\rubde\\Documents\\School\\TUDelft\\MSC\\TA_Colomes\\03_ComModHOS_v02\\v03_local\\_build\\jupyter_execute\\content\\w6_t1_18_0.png"
      }
     },
     "output_type": "display_data"
    }
   ],
   "source": [
    "# plot the initial guess\n",
    "plt.figure()\n",
    "for iElem in np.arange(0, nElem):\n",
    "    NodeLeft = int(Element[iElem, 0])\n",
    "    NodeRight = int(Element[iElem, 1])\n",
    "    DofsLeft = 2*NodeLeft \n",
    "    DofsRight = 2*NodeRight\n",
    "    plt.plot([NodeCoord[NodeLeft][0] + u[DofsLeft], NodeCoord[NodeRight][0] + u[DofsRight]], \n",
    "                [NodeCoord[NodeLeft][1] + u[DofsLeft + 1], NodeCoord[NodeRight][1] + u[DofsRight + 1]], '-ok')\n",
    "    plt.plot([NodeCoord[NodeLeft][0], NodeCoord[NodeRight][0]], [NodeCoord[NodeLeft][1], NodeCoord[NodeRight][1]], 'g')\n",
    "    \n",
    "# plot the supports\n",
    "plt.plot([0, D], [0, 0], 'vr')\n",
    "plt.axis('equal');"
   ]
  },
  {
   "cell_type": "markdown",
   "metadata": {},
   "source": [
    "#### Step 2.2: iteration until convergence\n",
    "\n",
    "We want to solve a nonlinear system with the following residual:\n",
    "\n",
    "$$ \\bf{R}(\\bf{u}) = \\bf{F}_{ext} -\\bf{K}(\\bf{u})\\bf{u} $$\n",
    "\n",
    "In the external force $ \\bf{F}_{ext} $ we will only have the contribution of the gravity load, which does not depend on the position of the string. Then, we can take it out of the iteration loop and assemble it at the beginning."
   ]
  },
  {
   "cell_type": "code",
   "execution_count": 11,
   "metadata": {},
   "outputs": [],
   "source": [
    "Pext = np.zeros((nDof))\n",
    "for iElem in np.arange(0, nElem):\n",
    "    NodeLeft = int(Element[iElem, 0])\n",
    "    NodeRight = int(Element[iElem, 1])\n",
    "    DofsLeft = 2*NodeLeft \n",
    "    DofsRight = 2*NodeRight\n",
    "    l0 = Element[iElem, 4]\n",
    "    m = Element[iElem, 2]\n",
    "    Pelem = -g*l0*m/2           # Half weight to each node\n",
    "    Pext[DofsLeft + 1] += Pelem\n",
    "    Pext[DofsRight + 1] += Pelem"
   ]
  },
  {
   "cell_type": "markdown",
   "metadata": {},
   "source": [
    "Next, we iterate until the residual is smaller than a certain tolerance. In this case, we enforce the relative residual with respect to the external load to be smaller than $\\epsilon = 1e-3$:\n",
    "\n",
    "$$ \\text{CONV} = \\frac{||\\bf{R}(\\bf{u}^i)||_2}{||\\bf{F}_{ext}||_2} \\leq \\epsilon $$\n",
    "\n",
    "We also enforce that the maximum number of iteration is 100 (to avoid infite loop if something goes wrong). At each iteration $i$ we perform the following steps:\n",
    "\n",
    "1. Compute and assemble the elemental matrix $\\bf{K} (\\bf{u}^i)$ and elemental vector $\\bf{F} (\\bf{u}^i)$\n",
    "2. Copmute the residual $\\bf{R} (\\bf{u}^i)$\n",
    "3. Check convergence\n",
    "4. If not converged, compute increment $ \\bf{\\delta u}^i =\\bf{K} (\\bf{u}^i)^{-1} \\bf{R} (\\bf{u}^i)$. Here, we also enforce that the increment must not be greater than the element length (for convergence purposes).\n",
    "5. Update displacements $\\bf{u}^{i+1} = {u}^i +\\bf{\\delta u}^i $"
   ]
  },
  {
   "cell_type": "code",
   "execution_count": 12,
   "metadata": {
    "scrolled": true
   },
   "outputs": [
    {
     "name": "stdout",
     "output_type": "stream",
     "text": [
      "Iteration: 1 ...\n",
      "\n",
      "WARNING: Element 16 is under compression.\n",
      "\n",
      "WARNING: Element 17 is under compression.\n",
      "\n",
      "WARNING: Element 18 is under compression.\n",
      "\n",
      "WARNING: Element 19 is under compression.\n",
      "\n",
      "WARNING: Element 20 is under compression.\n",
      "\n",
      "WARNING: Element 21 is under compression.\n",
      "\n",
      "WARNING: Element 22 is under compression.\n",
      "\n",
      "WARNING: Element 23 is under compression.\n",
      "\n",
      "WARNING: Element 24 is under compression.\n",
      "\n",
      "WARNING: Element 25 is under compression.\n",
      "\n",
      "WARNING: Element 26 is under compression.\n",
      "\n",
      "WARNING: Element 27 is under compression.\n",
      "\n",
      "WARNING: Element 28 is under compression.\n",
      "\n",
      "WARNING: Element 29 is under compression.\n",
      "\n",
      "WARNING: Element 30 is under compression.\n",
      "\n",
      "WARNING: Element 31 is under compression.\n",
      "\n",
      "WARNING: Element 32 is under compression.\n",
      "\n",
      "WARNING: Element 33 is under compression.\n",
      "\n",
      "WARNING: Element 34 is under compression.\n",
      "\n",
      "WARNING: Element 35 is under compression.\n",
      "\n",
      "WARNING: Element 36 is under compression.\n",
      "\n",
      "WARNING: Element 37 is under compression.\n",
      "\n",
      "WARNING: Element 38 is under compression.\n",
      "\n",
      "WARNING: Element 39 is under compression.\n",
      "\n",
      "WARNING: Element 40 is under compression.\n",
      "\n",
      "WARNING: Element 41 is under compression.\n",
      "\n",
      "WARNING: Element 42 is under compression.\n",
      "\n",
      "WARNING: Element 43 is under compression.\n",
      "\n",
      "WARNING: Element 44 is under compression.\n",
      "\n",
      "WARNING: Element 45 is under compression.\n",
      "\n",
      "Iteration: 2 ...\n",
      "\n",
      "WARNING: Element 16 is under compression.\n",
      "\n",
      "WARNING: Element 17 is under compression.\n",
      "\n",
      "WARNING: Element 18 is under compression.\n",
      "\n",
      "WARNING: Element 19 is under compression.\n",
      "\n",
      "WARNING: Element 20 is under compression.\n",
      "\n",
      "WARNING: Element 21 is under compression.\n",
      "\n",
      "WARNING: Element 22 is under compression.\n",
      "\n",
      "WARNING: Element 23 is under compression.\n",
      "\n",
      "WARNING: Element 24 is under compression.\n",
      "\n",
      "WARNING: Element 25 is under compression.\n",
      "\n",
      "WARNING: Element 26 is under compression.\n",
      "\n",
      "WARNING: Element 27 is under compression.\n",
      "\n",
      "WARNING: Element 28 is under compression.\n",
      "\n",
      "WARNING: Element 33 is under compression.\n",
      "\n",
      "WARNING: Element 34 is under compression.\n",
      "\n",
      "WARNING: Element 35 is under compression.\n",
      "\n",
      "WARNING: Element 36 is under compression.\n",
      "\n",
      "WARNING: Element 37 is under compression.\n",
      "\n",
      "WARNING: Element 38 is under compression.\n",
      "\n",
      "WARNING: Element 39 is under compression.\n",
      "\n",
      "WARNING: Element 40 is under compression.\n",
      "\n",
      "WARNING: Element 41 is under compression.\n",
      "\n",
      "WARNING: Element 42 is under compression.\n",
      "\n",
      "WARNING: Element 43 is under compression.\n",
      "\n",
      "WARNING: Element 44 is under compression.\n",
      "\n",
      "WARNING: Element 45 is under compression.\n",
      "\n",
      "Iteration: 3 ...\n",
      "\n",
      "WARNING: Element 16 is under compression.\n",
      "\n",
      "WARNING: Element 17 is under compression.\n",
      "\n",
      "WARNING: Element 18 is under compression.\n",
      "\n",
      "WARNING: Element 19 is under compression.\n",
      "\n",
      "WARNING: Element 20 is under compression.\n",
      "\n",
      "WARNING: Element 21 is under compression.\n",
      "\n",
      "WARNING: Element 22 is under compression.\n",
      "\n",
      "WARNING: Element 23 is under compression.\n",
      "\n",
      "WARNING: Element 24 is under compression.\n",
      "\n",
      "WARNING: Element 25 is under compression.\n",
      "\n",
      "WARNING: Element 28 is under compression.\n",
      "\n",
      "WARNING: Element 33 is under compression.\n",
      "\n",
      "WARNING: Element 34 is under compression.\n",
      "\n",
      "WARNING: Element 35 is under compression.\n",
      "\n",
      "WARNING: Element 36 is under compression.\n",
      "\n",
      "WARNING: Element 37 is under compression.\n",
      "\n",
      "WARNING: Element 38 is under compression.\n",
      "\n",
      "WARNING: Element 39 is under compression.\n",
      "\n",
      "WARNING: Element 40 is under compression.\n",
      "\n",
      "WARNING: Element 41 is under compression.\n",
      "\n",
      "WARNING: Element 42 is under compression.\n",
      "\n",
      "WARNING: Element 43 is under compression.\n",
      "\n",
      "WARNING: Element 44 is under compression.\n",
      "\n",
      "WARNING: Element 45 is under compression.\n",
      "\n",
      "Iteration: 4 ...\n",
      "\n",
      "WARNING: Element 21 is under compression.\n",
      "\n",
      "WARNING: Element 25 is under compression.\n",
      "\n",
      "WARNING: Element 28 is under compression.\n",
      "\n",
      "WARNING: Element 33 is under compression.\n",
      "\n",
      "WARNING: Element 34 is under compression.\n",
      "\n",
      "WARNING: Element 35 is under compression.\n",
      "\n",
      "WARNING: Element 36 is under compression.\n",
      "\n",
      "WARNING: Element 37 is under compression.\n",
      "\n",
      "WARNING: Element 38 is under compression.\n",
      "\n",
      "WARNING: Element 39 is under compression.\n",
      "\n",
      "WARNING: Element 40 is under compression.\n",
      "\n",
      "WARNING: Element 41 is under compression.\n",
      "\n",
      "WARNING: Element 42 is under compression.\n",
      "\n",
      "WARNING: Element 43 is under compression.\n",
      "\n",
      "WARNING: Element 44 is under compression.\n",
      "\n",
      "WARNING: Element 45 is under compression.\n",
      "\n",
      "Iteration: 5 ...\n",
      "\n",
      "WARNING: Element 21 is under compression.\n",
      "\n",
      "WARNING: Element 28 is under compression.\n",
      "\n",
      "WARNING: Element 34 is under compression.\n",
      "\n",
      "WARNING: Element 37 is under compression.\n",
      "\n",
      "WARNING: Element 39 is under compression.\n",
      "\n",
      "WARNING: Element 40 is under compression.\n",
      "\n",
      "WARNING: Element 41 is under compression.\n",
      "\n",
      "WARNING: Element 42 is under compression.\n",
      "\n",
      "WARNING: Element 43 is under compression.\n",
      "\n",
      "WARNING: Element 44 is under compression.\n",
      "\n",
      "WARNING: Element 45 is under compression.\n",
      "\n",
      "Iteration: 6 ...\n",
      "\n",
      "WARNING: Element 37 is under compression.\n",
      "\n",
      "WARNING: Element 42 is under compression.\n",
      "\n",
      "WARNING: Element 43 is under compression.\n",
      "\n",
      "WARNING: Element 44 is under compression.\n",
      "\n",
      "WARNING: Element 45 is under compression.\n",
      "\n",
      "Iteration: 7 ...\n",
      "\n",
      "Iteration: 8 ...\n",
      "\n",
      "Iteration: 9 ...\n",
      "\n",
      "Iteration: 10 ...\n",
      "\n",
      "Iteration: 11 ...\n",
      "\n",
      "Iteration: 12 ...\n",
      "\n",
      "Iteration: 13 ...\n",
      "\n",
      "Iteration: 14 ...\n",
      "\n",
      "Iteration: 15 ...\n",
      "\n",
      "Iteration: 16 ...\n",
      "\n",
      "Iteration: 17 ...\n",
      "\n",
      "Iteration: 18 ...\n",
      "\n",
      "Iteration: 19 ...\n",
      "\n",
      "Iteration: 20 ...\n",
      "\n",
      "Iteration: 21 ...\n",
      "\n",
      "Iteration: 22 ...\n",
      "\n",
      "Iteration: 23 ...\n",
      "\n",
      "Iteration: 24 ...\n",
      "\n",
      "Iteration: 25 ...\n",
      "\n",
      "Iteration: 26 ...\n",
      "\n",
      "Iteration: 27 ...\n",
      "\n",
      "Iteration: 28 ...\n",
      "\n",
      "Iteration: 29 ...\n",
      "\n",
      "Iteration: 30 ...\n",
      "\n",
      "Iteration: 31 ...\n",
      "\n",
      "Iteration: 32 ...\n",
      "\n",
      "Iteration: 33 ...\n",
      "\n",
      "Converged solution at iteration: 33\n"
     ]
    },
    {
     "data": {
      "image/png": "[encoded data removed]",
      "text/plain": [
       "<Figure size 640x480 with 1 Axes>"
      ]
     },
     "metadata": {
      "filenames": {
       "image/png": "C:\\Users\\rubde\\Documents\\School\\TUDelft\\MSC\\TA_Colomes\\03_ComModHOS_v02\\v03_local\\_build\\jupyter_execute\\content\\w6_t1_22_1.png"
      }
     },
     "output_type": "display_data"
    }
   ],
   "source": [
    "from module_imports.StringForcesAndStiffness import StringForcesAndStiffness\n",
    "# Convergence parameters\n",
    "CONV = 0\n",
    "PLOT = False\n",
    "kIter = 0\n",
    "nMaxIter = 100\n",
    "TENSION = np.zeros((nElem))\n",
    "\n",
    "while CONV == 0:\n",
    "    kIter += 1\n",
    "    print(\"Iteration: \"+str(kIter)+\" ...\\n\")\n",
    "    # Check stability - define a number of maximum iterations. If solution\n",
    "    # hasn't converged, check what is going wrong (if something).\n",
    "    if kIter > nMaxIter:\n",
    "        break\n",
    "    \n",
    "    # Assemble vector with internal forces and stiffnes matrix\n",
    "    K = np.zeros((nDof*nDof)) \n",
    "    Fi = np.zeros((nDof))\n",
    "    for iElem in np.arange(0, nElem):\n",
    "        NodeLeft = int(Element[iElem, 0])\n",
    "        NodeRight = int(Element[iElem, 1])\n",
    "        DofsLeft = 2*NodeLeft \n",
    "        DofsRight = 2*NodeRight\n",
    "        l0 = Element[iElem, 4]\n",
    "        EA = Element[iElem, 3]\n",
    "        NodePos = ([NodeCoord[NodeLeft][0] + u[DofsLeft], NodeCoord[NodeRight][0] + u[DofsRight]], \n",
    "                    [NodeCoord[NodeLeft][1] + u[DofsLeft + 1], NodeCoord[NodeRight][1] + u[DofsRight + 1]])\n",
    "        Fi_elem, K_elem, Tension, WARN = StringForcesAndStiffness(NodePos, EA, l0, TENSION_ONLY)\n",
    "        TENSION[iElem] = Tension\n",
    "\n",
    "\n",
    "        if WARN:\n",
    "            print(\"WARNING: Element \"+str(iElem+1)+\" is under compression.\\n\")\n",
    "        \n",
    "        Fi[DofsLeft:DofsLeft + 2] += Fi_elem[0]\n",
    "        Fi[DofsRight:DofsRight + 2] += Fi_elem[1]\n",
    "\n",
    "        # Assemble the matrices at the correct place\n",
    "        # Get the degrees of freedom that correspond to each node\n",
    "        Dofs_Left = 2*(NodeLeft) + np.arange(0, 2)\n",
    "        Dofs_Right = 2*(NodeRight) + np.arange(0, 2)\n",
    "        nodes = np.append(Dofs_Left , Dofs_Right)\n",
    "        for i in np.arange(0, 4):\n",
    "            for j in np.arange(0, 4):\n",
    "                ij = nodes[i] + nodes[j]*nDof\n",
    "                K[ij] = K[ij] + K_elem[i, j]\n",
    "\n",
    "    K = K.reshape((nDof, nDof))\n",
    "\n",
    "    # Calculate residual forces\n",
    "    R = Pext - Fi\n",
    "\n",
    "    # Check for convergence\n",
    "    if np.linalg.norm(R[FreeDof])/np.linalg.norm(Pext[FreeDof]) < 1e-3:\n",
    "        CONV = 1\n",
    "\n",
    "    # Calculate increment of displacements\n",
    "    du = np.zeros((nDof))\n",
    "    du[FreeDof] = np.linalg.solve(K[fx, fy], R[FreeDof])\n",
    "\n",
    "    # Apply archlength to help with convergence\n",
    "    Scale = np.min(np.append(np.array([1]), lElem/np.max(np.abs(du))))\n",
    "    du = du*Scale   # Enforce that each node does not displace\n",
    "                    # more (at each iteration) than the length\n",
    "                    # of the elements\n",
    "\n",
    "    # Update displacement of nodes\n",
    "    u += du\n",
    "\n",
    "    # plot the updated configuration\n",
    "    if PLOT:\n",
    "        for iElem in np.arange(0, nElem):\n",
    "            NodeLeft = int(Element[iElem, 0])\n",
    "            NodeRight = int(Element[iElem, 1])\n",
    "            DofsLeft = 2*NodeLeft \n",
    "            DofsRight = 2*NodeRight\n",
    "            plt.plot([NodeCoord[NodeLeft][0] + u[DofsLeft], NodeCoord[NodeRight][0] + u[DofsRight]], \n",
    "                        [NodeCoord[NodeLeft][1] + u[DofsLeft + 1], NodeCoord[NodeRight][1] + u[DofsRight + 1]], '-ok')\n",
    "            \n",
    "        # plot the supports\n",
    "        plt.plot([0, D], [0, 0], 'vr')\n",
    "        plt.axis('equal')\n",
    "        plt.xlabel(\"x [m]\")\n",
    "        plt.ylabel(\"y [m]\")\n",
    "        plt.title(\"Iteration: \"+str(kIter))\n",
    "        plt.pause(0.05)\n",
    "\n",
    "if CONV == 1:\n",
    "    print(\"Converged solution at iteration: \"+str(kIter))\n",
    "    for iElem in np.arange(0, nElem):\n",
    "            NodeLeft = int(Element[iElem, 0])\n",
    "            NodeRight = int(Element[iElem, 1])\n",
    "            DofsLeft = 2*NodeLeft \n",
    "            DofsRight = 2*NodeRight\n",
    "            plt.plot([NodeCoord[NodeLeft][0] + u[DofsLeft], NodeCoord[NodeRight][0] + u[DofsRight]], \n",
    "                        [NodeCoord[NodeLeft][1] + u[DofsLeft + 1], NodeCoord[NodeRight][1] + u[DofsRight + 1]], '-ok')\n",
    "            \n",
    "    # plot the supports\n",
    "    plt.plot([0, D], [0, 0], 'vr')\n",
    "    plt.axis('equal')\n",
    "    plt.xlabel(\"x [m]\")\n",
    "    plt.ylabel(\"y [m]\")\n",
    "    plt.title(\"Converged solution at iteration: \"+str(kIter))\n",
    "else:\n",
    "    print(\"Solution did not converge\")\n",
    "        \n",
    "\n",
    "    \n",
    "    "
   ]
  },
  {
   "cell_type": "markdown",
   "metadata": {},
   "source": [
    "We can also check what the tension looks like."
   ]
  },
  {
   "cell_type": "code",
   "execution_count": 13,
   "metadata": {},
   "outputs": [
    {
     "data": {
      "text/plain": [
       "Text(0, 0.5, 'y [m]')"
      ]
     },
     "execution_count": 13,
     "metadata": {},
     "output_type": "execute_result"
    },
    {
     "data": {
      "image/png": "[encoded data removed]",
      "text/plain": [
       "<Figure size 640x480 with 1 Axes>"
      ]
     },
     "metadata": {
      "filenames": {
       "image/png": "C:\\Users\\rubde\\Documents\\School\\TUDelft\\MSC\\TA_Colomes\\03_ComModHOS_v02\\v03_local\\_build\\jupyter_execute\\content\\w6_t1_24_1.png"
      }
     },
     "output_type": "display_data"
    }
   ],
   "source": [
    "# plot the tension\n",
    "plt.figure()\n",
    "X = (np.array([i[0] for i in NodeCoord[0:-1]]) + np.array([i[0] for i in NodeCoord[1:]]))/2\n",
    "plt.plot(X, TENSION)\n",
    "plt.title(\"Tension\")\n",
    "plt.xlabel(\"x [m]\")\n",
    "plt.ylabel(\"y [m]\")\n"
   ]
  },
  {
   "cell_type": "markdown",
   "metadata": {},
   "source": [
    "## Exercise\n",
    "Determine the mooring configuration of a floating wind turbine attached to two cables of different length:\n",
    "\n",
    "$$L_{\\mbox{left}}=100$$\n",
    "$$L_{\\mbox{right}}=150$$\n",
    "\n",
    "The anchors are positioned at $[-50,-60]$ and $[60,-60]$. The floating wind turbine is at $[0,0]$."
   ]
  },
  {
   "cell_type": "code",
   "execution_count": 14,
   "metadata": {},
   "outputs": [
    {
     "data": {
      "image/png": "[encoded data removed]",
      "text/plain": [
       "<Figure size 640x480 with 1 Axes>"
      ]
     },
     "metadata": {
      "filenames": {
       "image/png": "C:\\Users\\rubde\\Documents\\School\\TUDelft\\MSC\\TA_Colomes\\03_ComModHOS_v02\\v03_local\\_build\\jupyter_execute\\content\\w6_t1_26_0.png"
      }
     },
     "output_type": "display_data"
    }
   ],
   "source": [
    "## Right side\n",
    "\n",
    "# Step 1: discretize the domain\n",
    "\n",
    "L = 150     # [m] string length\n",
    "D = 60      # [m] distance between supports\n",
    "H = 60      # [m] water depth\n",
    "EA = 1e6    # [Pa] stiffness\n",
    "m = 1       # [kg] mass\n",
    "g = 9.81    # [m/s^2] gravity constant\n",
    "\n",
    "lmax = 5                    # [m] maximum length of each string(wire) element\n",
    "nElem = int(np.ceil(L/lmax))# [-] number of elements   \n",
    "lElem = L/nElem             # [m] actual tensionless element size\n",
    "nNode = nElem + 1           # [-] number of nodes \n",
    "\n",
    "NodeCoord = np.zeros((nNode, 2))\n",
    "Element = np.zeros((nElem, 5))\n",
    "\n",
    "for iElem in np.arange(0, nElem):\n",
    "    NodeLeft = iElem\n",
    "    NodeRight = iElem + 1\n",
    "    NodeCoord[NodeRight] = NodeCoord[NodeLeft] + [lElem, -H/L*lElem]\n",
    "    Element[iElem, :] = [NodeLeft, NodeRight, m, EA, lElem]\n",
    "    \n",
    "# plot the undeformed wire\n",
    "plt.figure()\n",
    "for iElem in np.arange(0, nElem):\n",
    "    NodeLeft = int(Element[iElem, 0])\n",
    "    NodeRight = int(Element[iElem, 1])\n",
    "\n",
    "    plt.plot([NodeCoord[NodeLeft][0], NodeCoord[NodeRight][0]], [NodeCoord[NodeLeft][1], NodeCoord[NodeRight][1]], 'g')\n",
    "    \n",
    "# plot the supports\n",
    "plt.plot([0, D], [0, -H], 'vr')\n",
    "plt.axis('equal');"
   ]
  },
  {
   "cell_type": "code",
   "execution_count": 15,
   "metadata": {},
   "outputs": [
    {
     "data": {
      "image/png": "[encoded data removed]",
      "text/plain": [
       "<Figure size 640x480 with 1 Axes>"
      ]
     },
     "metadata": {
      "filenames": {
       "image/png": "C:\\Users\\rubde\\Documents\\School\\TUDelft\\MSC\\TA_Colomes\\03_ComModHOS_v02\\v03_local\\_build\\jupyter_execute\\content\\w6_t1_27_0.png"
      }
     },
     "output_type": "display_data"
    }
   ],
   "source": [
    "# Step 2: compute initial configuration\n",
    "\n",
    "nDof = 2*nNode                          # number of DOFs\n",
    "FreeDof = np.arange(0, nDof)            # free DOFs \n",
    "FixedDof = [0,1, -2, -1]                # fixed DOFs\n",
    "FreeDof = np.delete(FreeDof, FixedDof)  # remove the fixed DOFs from the free DOFs array\n",
    "\n",
    "# free & fixed array indices\n",
    "fx = FreeDof[:, np.newaxis]\n",
    "fy = FreeDof[np.newaxis, :]\n",
    "\n",
    "SAG = 202\n",
    "s = np.array([i[0] for i in NodeCoord])\n",
    "x = D*(s/L)\n",
    "y = -H*(s/L)-4*SAG*((x/D)-(x/D)**2)\n",
    "u = np.zeros((nDof))\n",
    "u[0:nDof+1:2] = x - np.array([i[0] for i in NodeCoord])\n",
    "u[1:nDof+1:2] = y - np.array([i[1] for i in NodeCoord])\n",
    "# The displacement of the node corresponds to the actual position minus the initial position\n",
    "# Remember that we use a Global Coordinate System (GCS) here.\n",
    "\n",
    "# plot the initial guess\n",
    "plt.figure()\n",
    "for iElem in np.arange(0, nElem):\n",
    "    NodeLeft = int(Element[iElem, 0])\n",
    "    NodeRight = int(Element[iElem, 1])\n",
    "    DofsLeft = 2*NodeLeft \n",
    "    DofsRight = 2*NodeRight\n",
    "    plt.plot([NodeCoord[NodeLeft][0] + u[DofsLeft], NodeCoord[NodeRight][0] + u[DofsRight]], \n",
    "                [NodeCoord[NodeLeft][1] + u[DofsLeft + 1], NodeCoord[NodeRight][1] + u[DofsRight + 1]], '-ok')\n",
    "    plt.plot([NodeCoord[NodeLeft][0], NodeCoord[NodeRight][0]], [NodeCoord[NodeLeft][1], NodeCoord[NodeRight][1]], 'g')\n",
    "    \n",
    "# plot the supports\n",
    "plt.plot([0, D], [0, -H], 'vr')\n",
    "plt.axis('equal');"
   ]
  },
  {
   "cell_type": "code",
   "execution_count": 16,
   "metadata": {},
   "outputs": [],
   "source": [
    "# Step 3: Assemble system and solve\n",
    "\n",
    "Pext = np.zeros((nDof))\n",
    "for iElem in np.arange(0, nElem):\n",
    "    NodeLeft = int(Element[iElem, 0])\n",
    "    NodeRight = int(Element[iElem, 1])\n",
    "    DofsLeft = 2*NodeLeft \n",
    "    DofsRight = 2*NodeRight\n",
    "    l0 = Element[iElem, 4]\n",
    "    m = Element[iElem, 2]\n",
    "    Pelem = -g*l0*m/2           # Half weight to each node\n",
    "    Pext[DofsLeft + 1] += Pelem\n",
    "    Pext[DofsRight + 1] += Pelem"
   ]
  },
  {
   "cell_type": "code",
   "execution_count": 17,
   "metadata": {
    "scrolled": false
   },
   "outputs": [
    {
     "ename": "ModuleNotFoundError",
     "evalue": "No module named 'StringForcesAndStiffness'",
     "output_type": "error",
     "traceback": [
      "\u001b[1;31m---------------------------------------------------------------------------\u001b[0m",
      "\u001b[1;31mModuleNotFoundError\u001b[0m                       Traceback (most recent call last)",
      "\u001b[1;32m~\\AppData\\Local\\Temp\\ipykernel_201876\\2436921300.py\u001b[0m in \u001b[0;36m<module>\u001b[1;34m\u001b[0m\n\u001b[1;32m----> 1\u001b[1;33m \u001b[1;32mfrom\u001b[0m \u001b[0mStringForcesAndStiffness\u001b[0m \u001b[1;32mimport\u001b[0m \u001b[0mStringForcesAndStiffness\u001b[0m\u001b[1;33m\u001b[0m\u001b[1;33m\u001b[0m\u001b[0m\n\u001b[0m\u001b[0;32m      2\u001b[0m \u001b[1;31m# Convergence parameters\u001b[0m\u001b[1;33m\u001b[0m\u001b[1;33m\u001b[0m\u001b[0m\n\u001b[0;32m      3\u001b[0m \u001b[0mCONV\u001b[0m \u001b[1;33m=\u001b[0m \u001b[1;36m0\u001b[0m\u001b[1;33m\u001b[0m\u001b[1;33m\u001b[0m\u001b[0m\n\u001b[0;32m      4\u001b[0m \u001b[0mPLOT\u001b[0m \u001b[1;33m=\u001b[0m \u001b[1;32mFalse\u001b[0m\u001b[1;33m\u001b[0m\u001b[1;33m\u001b[0m\u001b[0m\n\u001b[0;32m      5\u001b[0m \u001b[0mkIter\u001b[0m \u001b[1;33m=\u001b[0m \u001b[1;36m0\u001b[0m\u001b[1;33m\u001b[0m\u001b[1;33m\u001b[0m\u001b[0m\n",
      "\u001b[1;31mModuleNotFoundError\u001b[0m: No module named 'StringForcesAndStiffness'"
     ]
    }
   ],
   "source": [
    "from StringForcesAndStiffness import StringForcesAndStiffness\n",
    "# Convergence parameters\n",
    "CONV = 0\n",
    "PLOT = False\n",
    "kIter = 0\n",
    "nMaxIter = 100\n",
    "TENSION = np.zeros((nElem))\n",
    "\n",
    "while CONV == 0:\n",
    "    kIter += 1\n",
    "#     print(\"Iteration: \"+str(kIter)+\" ...\\n\")\n",
    "    # Check stability - define a number of maximum iterations. If solution\n",
    "    # hasn't converged, check what is going wrong (if something).\n",
    "    if kIter > nMaxIter:\n",
    "        break\n",
    "    \n",
    "    # Assemble vector with internal forces and stiffnes matrix\n",
    "    K = np.zeros((nDof*nDof)) \n",
    "    Fi = np.zeros((nDof))\n",
    "    for iElem in np.arange(0, nElem):\n",
    "        NodeLeft = int(Element[iElem, 0])\n",
    "        NodeRight = int(Element[iElem, 1])\n",
    "        DofsLeft = 2*NodeLeft \n",
    "        DofsRight = 2*NodeRight\n",
    "        l0 = Element[iElem, 4]\n",
    "        EA = Element[iElem, 3]\n",
    "        NodePos = ([NodeCoord[NodeLeft][0] + u[DofsLeft], NodeCoord[NodeRight][0] + u[DofsRight]], \n",
    "                    [NodeCoord[NodeLeft][1] + u[DofsLeft + 1], NodeCoord[NodeRight][1] + u[DofsRight + 1]])\n",
    "        Fi_elem, K_elem, Tension, WARN = StringForcesAndStiffness(NodePos, EA, l0, TENSION_ONLY)\n",
    "        TENSION[iElem] = Tension\n",
    "\n",
    "\n",
    "#         if WARN:\n",
    "#             print(\"WARNING: Element \"+str(iElem+1)+\" is under compression.\\n\")\n",
    "        \n",
    "        Fi[DofsLeft:DofsLeft + 2] += Fi_elem[0]\n",
    "        Fi[DofsRight:DofsRight + 2] += Fi_elem[1]\n",
    "\n",
    "        # Assemble the matrices at the correct place\n",
    "        # Get the degrees of freedom that correspond to each node\n",
    "        Dofs_Left = 2*(NodeLeft) + np.arange(0, 2)\n",
    "        Dofs_Right = 2*(NodeRight) + np.arange(0, 2)\n",
    "        nodes = np.append(Dofs_Left , Dofs_Right)\n",
    "        for i in np.arange(0, 4):\n",
    "            for j in np.arange(0, 4):\n",
    "                ij = nodes[i] + nodes[j]*nDof\n",
    "                K[ij] = K[ij] + K_elem[i, j]\n",
    "\n",
    "    K = K.reshape((nDof, nDof))\n",
    "\n",
    "    # Calculate residual forces\n",
    "    R = Pext - Fi\n",
    "\n",
    "    # Check for convergence\n",
    "    if np.linalg.norm(R[FreeDof])/np.linalg.norm(Pext[FreeDof]) < 1e-3:\n",
    "        CONV = 1\n",
    "\n",
    "    # Calculate increment of displacements\n",
    "    du = np.zeros((nDof))\n",
    "    du[FreeDof] = np.linalg.solve(K[fx, fy], R[FreeDof])\n",
    "\n",
    "    # Apply archlength to help with convergence\n",
    "    Scale = np.min(np.append(np.array([1]), lElem/np.max(np.abs(du))))\n",
    "    du = du*Scale   # Enforce that each node does not displace\n",
    "                    # more (at each iteration) than the length\n",
    "                    # of the elements\n",
    "\n",
    "    # Update displacement of nodes\n",
    "    u += du\n",
    "\n",
    "    # plot the updated configuration\n",
    "    if PLOT:\n",
    "        fig = plt.figure()\n",
    "        for iElem in np.arange(0, nElem):\n",
    "            NodeLeft = int(Element[iElem, 0])\n",
    "            NodeRight = int(Element[iElem, 1])\n",
    "            DofsLeft = 2*NodeLeft \n",
    "            DofsRight = 2*NodeRight\n",
    "            plt.plot([NodeCoord[NodeLeft][0] + u[DofsLeft], NodeCoord[NodeRight][0] + u[DofsRight]], \n",
    "                        [NodeCoord[NodeLeft][1] + u[DofsLeft + 1], NodeCoord[NodeRight][1] + u[DofsRight + 1]], '-ok')\n",
    "            \n",
    "        # plot the supports\n",
    "        plt.plot([0, D], [0, -H], 'vr')\n",
    "        plt.axis('equal')\n",
    "        plt.xlabel(\"x [m]\")\n",
    "        plt.ylabel(\"y [m]\")\n",
    "        plt.title(\"Iteration: \"+str(kIter))\n",
    "        plt.pause(0.05)\n",
    "\n",
    "if CONV == 1:\n",
    "    print(\"Converged solution at iteration: \"+str(kIter))\n",
    "    for iElem in np.arange(0, nElem):\n",
    "            NodeLeft = int(Element[iElem, 0])\n",
    "            NodeRight = int(Element[iElem, 1])\n",
    "            DofsLeft = 2*NodeLeft \n",
    "            DofsRight = 2*NodeRight\n",
    "            plt.plot([NodeCoord[NodeLeft][0] + u[DofsLeft], NodeCoord[NodeRight][0] + u[DofsRight]], \n",
    "                        [NodeCoord[NodeLeft][1] + u[DofsLeft + 1], NodeCoord[NodeRight][1] + u[DofsRight + 1]], '-ok')\n",
    "            \n",
    "    # plot the supports\n",
    "    plt.plot([0, D], [0, -H], 'vr')\n",
    "    plt.axis('equal')\n",
    "    plt.xlabel(\"x [m]\")\n",
    "    plt.ylabel(\"y [m]\")\n",
    "    plt.title(\"Converged solution at iteration: \"+str(kIter))\n",
    "else:\n",
    "    print(\"Solution did not converge\") "
   ]
  },
  {
   "cell_type": "code",
   "execution_count": 31,
   "metadata": {},
   "outputs": [
    {
     "data": {
      "text/plain": [
       "array([-1.22017979e+02,  1.01007195e+03,  2.06447766e-08, -4.90500000e+01,\n",
       "        2.05274659e-08, -4.90500000e+01,  2.03321804e-08, -4.90500000e+01,\n",
       "        2.03983177e-08, -4.90500000e+01,  2.01712140e-08, -4.90500000e+01,\n",
       "        1.98728998e-08, -4.90500000e+01,  2.03853290e-08, -4.90500000e+01,\n",
       "        1.97000958e-08, -4.90500000e+01,  2.01349479e-08, -4.90500000e+01,\n",
       "        2.06428297e-08, -4.90500000e+01,  2.08396074e-08, -4.90500000e+01,\n",
       "        2.24354153e-08, -4.90500000e+01,  2.39902249e-08, -4.90500000e+01,\n",
       "        2.18312834e-08, -4.90500000e+01,  1.58428293e-08, -4.90500000e+01,\n",
       "       -4.24777227e-08, -4.90499999e+01, -3.35963023e-07, -4.90499995e+01,\n",
       "       -3.59182106e-06, -4.90499963e+01, -5.07602051e-06, -4.90499984e+01,\n",
       "       -1.86226848e-05, -4.90499991e+01, -1.25290230e-05, -4.90500127e+01,\n",
       "       -5.18344610e-04, -4.90503174e+01,  5.48597874e-04, -4.90496898e+01,\n",
       "       -3.05560585e-05, -4.90500376e+01,  3.72491688e-05, -4.90499545e+01,\n",
       "       -6.69565080e-06, -4.90500148e+01,  8.76934689e-06, -4.90499823e+01,\n",
       "        3.34435796e-07, -4.90499993e+01,  1.75807486e-07, -4.90499996e+01,\n",
       "        1.22017980e+02,  4.12378048e+02])"
      ]
     },
     "execution_count": 31,
     "metadata": {},
     "output_type": "execute_result"
    }
   ],
   "source": [
    "Fi"
   ]
  },
  {
   "cell_type": "code",
   "execution_count": null,
   "metadata": {},
   "outputs": [],
   "source": []
  }
 ],
 "metadata": {
  "kernelspec": {
   "display_name": "Python 3",
   "language": "python",
   "name": "python3"
  },
  "language_info": {
   "codemirror_mode": {
    "name": "ipython",
    "version": 3
   },
   "file_extension": ".py",
   "mimetype": "text/x-python",
   "name": "python",
   "nbconvert_exporter": "python",
   "pygments_lexer": "ipython3",
   "version": "3.9.13"
  },
  "vscode": {
   "interpreter": {
    "hash": "cbd884b27ce8a521f14a4395d2fc856cd6c799b684d9efdb8253cb562c6eeba0"
   }
  }
 },
 "nbformat": 4,
 "nbformat_minor": 4
}