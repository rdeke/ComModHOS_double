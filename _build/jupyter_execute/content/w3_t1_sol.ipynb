{
 "cells": [
  {
   "cell_type": "markdown",
   "id": "cfefbbfc",
   "metadata": {},
   "source": [
    "# Tutorial 3.1: Solving the dynamic motion of a rod using Finite Differences\n",
    "In this tutorial you will learn how to solve the dynamic motion of a rod using Finite Differences. Here we will follow the example presented in the lectures.\n",
    "\n",
    "Let's consider the EOM of a rod of length $L$:\n",
    "$$ \\rho A\\ddot{u}-EAu{''}=q(x,t)\\qquad\\mbox{for }x\\in[0,L], $$\n",
    "with $\\rho$ the density, $A$ the cross section area, $E$ the young modulus and $q$ an external (distributed) load.\n",
    "\n",
    "The system is subject to boundary conditions:\n",
    "- $u=0$ at $x=0$\n",
    "- $EAu{'}=F(t)$ at $x=L$\n",
    "\n",
    "### The roadmap to finde the beam deflection using Finite Differences\n",
    "The steps needed to discretize the rod are listed next.\n",
    "\n",
    "1. Discretize space into $N+1$ points.\n",
    "2. Discretize the EOM of the rod. To do this, you will have to approximate the 2nd order derivative with FD. Use a second order approximation. You can find the coefficients here (or google `finite difference coefficients' and click the Wikipedia page)}.\n",
    "3. Apply the boundary conditions. Use the definition of discrete derivatives and EOM to find the relation between the ghost points and the interior points.\n",
    "4. Combine all equations into matrices.\n",
    "5. Solve the resulting ODE system\n",
    "\n",
    "Let's first install all required packages"
   ]
  },
  {
   "cell_type": "code",
   "execution_count": 1,
   "id": "cda7a599",
   "metadata": {},
   "outputs": [],
   "source": [
    "# Load packages\n",
    "%matplotlib inline\n",
    "import matplotlib.pyplot as plt\n",
    "from matplotlib import cm\n",
    "import numpy as np\n",
    "import scipy as sp\n",
    "from scipy.integrate import solve_ivp"
   ]
  },
  {
   "cell_type": "markdown",
   "id": "5e7e9214",
   "metadata": {},
   "source": [
    "## Step 1: Discretize the domain"
   ]
  },
  {
   "cell_type": "code",
   "execution_count": 2,
   "id": "7f9366a5",
   "metadata": {},
   "outputs": [
    {
     "name": "stdout",
     "output_type": "stream",
     "text": [
      "[ 0.  1.  2.  3.  4.  5.  6.  7.  8.  9. 10.]\n"
     ]
    }
   ],
   "source": [
    "L = 10\n",
    "N = 10\n",
    "x = np.linspace(0,L,N+1)\n",
    "print(x)"
   ]
  },
  {
   "cell_type": "markdown",
   "id": "b8c34364",
   "metadata": {},
   "source": [
    "### Step 2: Discretize the EOM of the rod\n",
    "\n",
    "Using the coefficients for a centered FD scheme for 2nd order derivatives with 2nd order accuracy we have:\n",
    "\n",
    "$$ u_i^{''} = \\frac{u_{i-1}-2u_i+u_{i+1}}{\\Delta x^2}$$\n",
    "\n",
    "And for the 1st order derivative:\n",
    "\n",
    "$$ u_i^{'} = \\frac{-0.5u_{i-1}+0.5u_{i+1}}{\\Delta x}$$\n",
    "\n",
    "Replacing these expressions into the equation of motion we get the following discrete system:\n",
    "\n",
    "$$ \\rho A \\ddot{u}_i - \\frac{EA}{\\Delta x^2}\\left(u_{i-1}-2u_i+u_{i+1}\\right) = q_i $$\n"
   ]
  },
  {
   "cell_type": "markdown",
   "id": "60b309f4",
   "metadata": {},
   "source": [
    "### Step 3: Apply boundary conditions\n",
    "\n",
    "At $x=0$ we have that $u(0)=0$, then \n",
    "$$ u_0 = 0 $$\n",
    "\n",
    "Since we know the values of $u(0)$ for all times, we will not include them on the system. Using all this relation, we get the discrete equation for $i=1$ as:\n",
    "$$ \\rho A \\ddot{u}_0 - \\frac{EA}{\\Delta x^2}\\left(-2u_1+u_{2}\\right) = q_1 $$\n",
    "\n",
    "On the other side, we use the force relation\n",
    "$$EA\\ u{'}(L) = F(t) $$\n",
    "$$EA\\frac{-u_{N-1}+u_{N+1}}{2\\Delta x} = F(t)$$\n",
    "Thus\n",
    "$$u_{N+1} = \\frac{2\\Delta x}{EA}F(t)+u_{N-1}$$\n",
    "\n",
    "So, the discrete equations of motion for $i=N$ is:\n",
    "$$  \\rho A \\ddot{u}_N - \\frac{EA}{\\Delta x^2}\\left(2u_{N-1}-2u_N\\right) = q_N+\\frac{2}{\\Delta x}F(t) $$\n"
   ]
  },
  {
   "cell_type": "markdown",
   "id": "b9495d7e",
   "metadata": {},
   "source": [
    "### Step 4: Matrix form\n",
    "\n",
    "Summarizing we have the following discrete (in space) equations:\n",
    "\n",
    "- For $i=1$:\n",
    "$$ \\rho A \\ddot{u}_1 - \\frac{EA}{\\Delta x^2}\\left(-2u_1+u_{2}\\right) = q_1 $$\n",
    "- For $i=2,...,N-1$:\n",
    "$$ \\rho A \\ddot{u}_i - \\frac{EA}{\\Delta x^2}\\left(u_{i-1}-2u_i+u_{i+1}\\right) = q_i $$\n",
    "- For $i=N$:\n",
    "$$ \\rho A \\ddot{u}_N - \\frac{EA}{\\Delta x^2}\\left(2u_{N-1}-2u_N\\right) = q_N+\\frac{2}{\\Delta x}F(t) $$  \n",
    "\n",
    "This is equivalent to the following system:\n",
    "$$\\rho A \\left[\\begin{matrix}\n",
    "1&0&0&\\ldots&0&0&0\\\\\n",
    "0&1&0&\\ldots&0&0&0\\\\\n",
    "0&0&1&\\ldots&0&0&0\\\\\n",
    "\\vdots&\\vdots&\\vdots&\\ddots&\\vdots&\\vdots&\\vdots\\\\\n",
    "0&0&0&\\ldots&1&0&0\\\\\n",
    "0&0&0&\\ldots&0&1&0\\\\\n",
    "0&0&0&\\ldots&0&0&1\\\\\n",
    "\\end{matrix}\\right]\\left[\\begin{matrix}\n",
    "\\ddot{u}_1\\\\\n",
    "\\ddot{u}_2\\\\\n",
    "\\ddot{u}_3\\\\\n",
    "\\vdots\\\\\n",
    "\\ddot{u}_{N-2}\\\\\n",
    "\\ddot{u}_{N-1}\\\\\n",
    "\\ddot{u}_N\\\\\n",
    "\\end{matrix}\\right]\n",
    "- \\frac{EA}{\\Delta x^2} \\left[\\begin{matrix}\n",
    "-2&1&0&0&0&&0&0&0\\\\\n",
    "1&-2&1&0&0&\\ldots&0&0&0\\\\\n",
    "0&1&-2&1&0&&0&0&0\\\\\n",
    "&&\\vdots&&&\\ddots&&\\vdots&\\\\\n",
    "0&0&0&&0&1&-2&1&0\\\\\n",
    "0&0&0&\\ldots&0&0&1&-2&1\\\\\n",
    "0&0&0& &0&0&0&2&-2\\\\\n",
    "\\end{matrix}\\right]\\left[\\begin{matrix}\n",
    "u_1\\\\\n",
    "u_2\\\\\n",
    "u_3\\\\\n",
    "\\vdots\\\\\n",
    "u_{N-2}\\\\\n",
    "u_{N-1}\\\\\n",
    "u_N\\\\\n",
    "\\end{matrix}\\right] = \\left[\\begin{matrix}\n",
    "q_1\\\\\n",
    "q_2\\\\\n",
    "q_3\\\\\n",
    "\\vdots\\\\\n",
    "q_{N-2}\\\\\n",
    "q_{N-1}\\\\\n",
    "q_N + \\frac{2}{\\Delta x}F(t)\\\\\n",
    "\\end{matrix}\\right]$$\n",
    "\n",
    "And in a compact form:\n",
    "$$\\boldsymbol{M}\\ddot{\\boldsymbol{w}}-\\boldsymbol{K}\\boldsymbol{w}=\\boldsymbol{F}$$\n",
    "\n",
    "Now we can define the matrices:"
   ]
  },
  {
   "cell_type": "code",
   "execution_count": 3,
   "id": "22a72b85",
   "metadata": {},
   "outputs": [],
   "source": [
    "# Construct the matrices\n",
    "M = np.eye(N)\n",
    "K = np.zeros((N,N))\n",
    "\n",
    "## Define some parameters (no physical sense)\n",
    "E = 2e7\n",
    "A = np.pi*2*0.07\n",
    "rho = 4000\n",
    "\n",
    "## Define the force\n",
    "def q(x,t):\n",
    "    return 1e2*x*np.sin(3.0*t)\n",
    "def F(t):\n",
    "    return 1e4*np.sin(0.3*t)\n",
    "\n",
    "# Fill in stiffness matrix\n",
    "K[0,0] = -2;  K[0,1] = 1\n",
    "K[N-1,N-2] = 2; K[N-1,N-1]=-2;\n",
    "for i in range(1,N-1):\n",
    "    K[i,range(i-1,i+2)] = [1, -2, 1]\n",
    "\n",
    "# Apply scaling\n",
    "dx = L/N\n",
    "M = rho*A*M\n",
    "K = E*A/(dx**2)*K\n",
    "\n",
    "# Fill in force\n",
    "def Fvec(t):\n",
    "    Ft = np.zeros((N,))\n",
    "    for i in range(0,N):\n",
    "        xi = x[i+1]\n",
    "        Ft[i] = q(xi,t)\n",
    "    Ft[N-1] = Ft[N-1] + 2*F(t)/(dx)\n",
    "    return Ft"
   ]
  },
  {
   "cell_type": "markdown",
   "id": "bd57486e",
   "metadata": {},
   "source": [
    "# Step 5: Solve the ODE system\n",
    "\n",
    "Now, we just need to apply what we learned in the previous modules to solve the dynamic problem. The main novelty is that here we work with matrices."
   ]
  },
  {
   "cell_type": "code",
   "execution_count": 4,
   "id": "9c17c7f1",
   "metadata": {},
   "outputs": [
    {
     "data": {
      "image/png": "[encoded data removed]",
      "text/plain": [
       "<Figure size 640x480 with 1 Axes>"
      ]
     },
     "metadata": {
      "filenames": {
       "image/png": "C:\\Users\\rubde\\Documents\\School\\TUDelft\\MSC\\TA_Colomes\\03_ComModHOS_v02\\v03_local\\_build\\jupyter_execute\\content\\w3_t1_sol_9_0.png"
      }
     },
     "output_type": "display_data"
    }
   ],
   "source": [
    "# Define the ODE function (given q, return dq)\n",
    "def q_dot(t,q):\n",
    "    displ = q[0:N]\n",
    "    velos = q[N:2*N]\n",
    "    accel = np.linalg.inv(M).dot((Fvec(t)+K.dot(displ)+0.1*K.dot(velos))) #0.1 is damping factor, can change\n",
    "    dq = np.zeros((2*N,))\n",
    "    dq[0:N] = velos\n",
    "    dq[N:2*N] = accel\n",
    "    return dq\n",
    "\n",
    "# Define initial state\n",
    "q0 = np.zeros(2*N)\n",
    "\n",
    "# Define time interval and time evaluation points\n",
    "t0 = 0\n",
    "tf = 100.0\n",
    "nt = 50\n",
    "tspan = np.linspace(t0,tf,nt+1)\n",
    "\n",
    "# Solve (we use Radau method because the ODE is very stiff and it works best for this case)\n",
    "sol = solve_ivp(fun=q_dot,t_span=[t0,tf],y0=q0,t_eval=tspan,method='Radau')\n",
    "\n",
    "# Plot\n",
    "import time\n",
    "import pylab as pl\n",
    "from IPython import display\n",
    "for i in range(0,len(tspan)):\n",
    "    #fig,ax = plt.subplots()\n",
    "    display.clear_output(wait=True)\n",
    "    #display.display(pl.gcf())\n",
    "    plt.plot(np.linspace(0,L,N),sol.y[0:N,i])\n",
    "    plt.ylim((-0.015,0.015))\n",
    "    time.sleep(0.05)\n",
    "    plt.show()"
   ]
  },
  {
   "cell_type": "markdown",
   "id": "bd5a848e",
   "metadata": {},
   "source": [
    "## Exercise: Add friction to the system\n",
    "\n",
    "Solve the same problem, but considering friction in the rod for $x<L/2$. In that case, the equation of motion reads:\n",
    "$$ \\rho A\\ddot{u}-EAu{''}+k_f(x) u=q(x,t)\\qquad\\mbox{for }x\\in[0,L], $$\n",
    "with $k_f(x)=\\begin{cases}k_0\\qquad\\mbox{if $x<L/2$}\\\\0\\qquad\\mbox{otherwise}\\end{cases}$\n",
    "\n",
    "Compare the solution using $k_0=1.0e8$ and $k_0=1.0e5$."
   ]
  },
  {
   "cell_type": "code",
   "execution_count": 5,
   "id": "9dd9e34e",
   "metadata": {},
   "outputs": [
    {
     "data": {
      "image/png": "[encoded data removed]",
      "text/plain": [
       "<Figure size 640x480 with 1 Axes>"
      ]
     },
     "metadata": {
      "filenames": {
       "image/png": "C:\\Users\\rubde\\Documents\\School\\TUDelft\\MSC\\TA_Colomes\\03_ComModHOS_v02\\v03_local\\_build\\jupyter_execute\\content\\w3_t1_sol_11_0.png"
      }
     },
     "output_type": "display_data"
    }
   ],
   "source": [
    "# Exrtra parameters\n",
    "k_0 = 1.0e5\n",
    "# Double-parameters not repeated\n",
    "\n",
    "# Construct the matrices\n",
    "M = np.eye(N)\n",
    "K = np.zeros((N,N))\n",
    "K0 = np.zeros((N,N))\n",
    "\n",
    "# Fill in stiffness matrix\n",
    "K[0,0] = -2;  K[0,1] = 1\n",
    "K[N-1,N-2] = 2; K[N-1,N-1]=-2;\n",
    "for i in range(1,N-1):\n",
    "    K[i,range(i-1,i+2)] = [1, -2, 1]\n",
    "for i in range(int(N/2)):\n",
    "    K0[i,i] = 1\n",
    "\n",
    "# Apply scaling\n",
    "dx = L/N\n",
    "M = rho*A*M\n",
    "K = E*A/(dx**2)*K\n",
    "K0 = k_0*K0\n",
    "\n",
    "# Define the ODE function (given q, return dq)\n",
    "def q_dot(t,q):\n",
    "    displ = q[0:N]\n",
    "    velos = q[N:2*N]\n",
    "    #0.1 is damping factor, can change, below == semi-discrete equation\n",
    "    accel = np.linalg.inv(M).dot((Fvec(t)+K.dot(displ)+0.1*K.dot(velos)-K0.dot(displ))) \n",
    "    dq = np.zeros((2*N,))\n",
    "    dq[0:N] = velos\n",
    "    dq[N:2*N] = accel\n",
    "    return dq\n",
    "\n",
    "# Solve (we use Radau method because the ODE is very stiff and it works best for this case)\n",
    "sol = solve_ivp(fun=q_dot,t_span=[t0,tf],y0=q0,t_eval=tspan,method='Radau')\n",
    "\n",
    "# Plot\n",
    "for i in range(0,len(tspan)):\n",
    "    #fig,ax = plt.subplots()\n",
    "    display.clear_output(wait=True)\n",
    "    #display.display(pl.gcf())\n",
    "    plt.plot(np.linspace(0,L,N),sol.y[0:N,i])\n",
    "    plt.ylim((-0.015,0.015))\n",
    "    time.sleep(0.05)\n",
    "    plt.show()"
   ]
  }
 ],
 "metadata": {
  "kernelspec": {
   "display_name": "Python 3",
   "language": "python",
   "name": "python3"
  },
  "language_info": {
   "codemirror_mode": {
    "name": "ipython",
    "version": 3
   },
   "file_extension": ".py",
   "mimetype": "text/x-python",
   "name": "python",
   "nbconvert_exporter": "python",
   "pygments_lexer": "ipython3",
   "version": "3.9.13"
  },
  "vscode": {
   "interpreter": {
    "hash": "cbd884b27ce8a521f14a4395d2fc856cd6c799b684d9efdb8253cb562c6eeba0"
   }
  }
 },
 "nbformat": 4,
 "nbformat_minor": 5
}