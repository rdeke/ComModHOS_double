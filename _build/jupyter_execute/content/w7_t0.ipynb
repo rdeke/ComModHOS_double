{
 "cells": [
  {
   "attachments": {},
   "cell_type": "markdown",
   "metadata": {},
   "source": [
    "# Week 7: Introduction to computational Fluid-Structure-Interaction problems\n",
    "\n",
    "This week the focus lies in ..."
   ]
  },
  {
   "attachments": {},
   "cell_type": "markdown",
   "metadata": {},
   "source": [
    "## Part 7.1: FSI introduction\n",
    "\n",
    "This theory is explained in [LINK TO VIDEO].\n",
    "\n",
    "(add course content written out))"
   ]
  },
  {
   "attachments": {},
   "cell_type": "markdown",
   "metadata": {},
   "source": [
    "## Part 7.2: Computing with moving domains\n",
    "\n",
    "This theory is explained in [LINK TO VIDEO].\n",
    "\n",
    "(add course content written out))"
   ]
  },
  {
   "attachments": {},
   "cell_type": "markdown",
   "metadata": {},
   "source": [
    "## Part 7.3: Coupling strategies\n",
    "\n",
    "This theory is explained in [LINK TO VIDEO].\n",
    "\n",
    "(add course content written out))"
   ]
  }
 ],
 "metadata": {
  "kernelspec": {
   "display_name": "Python 3",
   "language": "python",
   "name": "python3"
  },
  "language_info": {
   "codemirror_mode": {
    "name": "ipython",
    "version": 3
   },
   "file_extension": ".py",
   "mimetype": "text/x-python",
   "name": "python",
   "nbconvert_exporter": "python",
   "pygments_lexer": "ipython3",
   "version": "3.10.9 (tags/v3.10.9:1dd9be6, Dec  6 2022, 20:01:21) [MSC v.1934 64 bit (AMD64)]"
  },
  "vscode": {
   "interpreter": {
    "hash": "cbd884b27ce8a521f14a4395d2fc856cd6c799b684d9efdb8253cb562c6eeba0"
   }
  }
 },
 "nbformat": 4,
 "nbformat_minor": 2
}