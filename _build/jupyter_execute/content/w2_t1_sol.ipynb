{
 "cells": [
  {
   "cell_type": "markdown",
   "metadata": {},
   "source": [
    "# Tutorial 2.1: Linearizing the Equations of Motion\n",
    "In this tutorial you will learn to linearize the Equations of Motion of the pendulum as covered in the lecture. "
   ]
  },
  {
   "cell_type": "markdown",
   "metadata": {},
   "source": [
    "## Part 1: Kinematic equations\n",
    "\n",
    "We first start by defining the variables. Let's start with the kinematic relations of a pendulum hanging from the point $(x_0, z_0)$."
   ]
  },
  {
   "cell_type": "code",
   "execution_count": 1,
   "metadata": {},
   "outputs": [],
   "source": [
    "from sympy import *\n",
    "# For myself: usedd for \"some\" symbolic operations in Python\n",
    "\n",
    "var(\"t x1 z1 r phi0\") # independent variables      \n",
    "phi1 = Function(\"phi1\")(t)\n",
    "x2 = x1 + r*cos(phi1)\n",
    "z2 = z1 + r*sin(phi1)"
   ]
  },
  {
   "cell_type": "markdown",
   "metadata": {},
   "source": [
    "The velocities can then be obtained using:"
   ]
  },
  {
   "cell_type": "code",
   "execution_count": 2,
   "metadata": {},
   "outputs": [],
   "source": [
    "xdot = diff(x2, t)\n",
    "zdot = diff(z2, t)"
   ]
  },
  {
   "cell_type": "markdown",
   "metadata": {},
   "source": [
    "## Part 2: Energy equations\n",
    "### Kinetic energy:\n",
    "The in this system is $m$, such that the kinetic energy is given by:"
   ]
  },
  {
   "cell_type": "code",
   "execution_count": 3,
   "metadata": {},
   "outputs": [
    {
     "data": {
      "text/latex": [
       "$\\displaystyle 0.5 m \\left(r^{2} \\sin^{2}{\\left(\\phi_{1}{\\left(t \\right)} \\right)} \\left(\\frac{d}{d t} \\phi_{1}{\\left(t \\right)}\\right)^{2} + r^{2} \\cos^{2}{\\left(\\phi_{1}{\\left(t \\right)} \\right)} \\left(\\frac{d}{d t} \\phi_{1}{\\left(t \\right)}\\right)^{2}\\right)$"
      ],
      "text/plain": [
       "0.5*m*(r**2*sin(phi1(t))**2*Derivative(phi1(t), t)**2 + r**2*cos(phi1(t))**2*Derivative(phi1(t), t)**2)"
      ]
     },
     "execution_count": 3,
     "metadata": {},
     "output_type": "execute_result"
    }
   ],
   "source": [
    "var(\"m\")\n",
    "T = 0.5*m*(xdot**2 + zdot**2)\n",
    "T.evalf()"
   ]
  },
  {
   "cell_type": "markdown",
   "metadata": {},
   "source": [
    "This expression can be simplified to:"
   ]
  },
  {
   "cell_type": "code",
   "execution_count": 4,
   "metadata": {},
   "outputs": [
    {
     "data": {
      "text/latex": [
       "$\\displaystyle 0.5 m r^{2} \\left(\\frac{d}{d t} \\phi_{1}{\\left(t \\right)}\\right)^{2}$"
      ],
      "text/plain": [
       "0.5*m*r**2*Derivative(phi1(t), t)**2"
      ]
     },
     "execution_count": 4,
     "metadata": {},
     "output_type": "execute_result"
    }
   ],
   "source": [
    "T = simplify(T) # Linearization\n",
    "T.evalf()"
   ]
  },
  {
   "cell_type": "markdown",
   "metadata": {},
   "source": [
    "### Potential energy:\n",
    "The potential energy on the pendulum is due to gravity:"
   ]
  },
  {
   "cell_type": "code",
   "execution_count": 5,
   "metadata": {},
   "outputs": [
    {
     "data": {
      "text/latex": [
       "$\\displaystyle g m \\left(r \\sin{\\left(\\phi_{1}{\\left(t \\right)} \\right)} + z_{1}\\right)$"
      ],
      "text/plain": [
       "g*m*(r*sin(phi1(t)) + z1)"
      ]
     },
     "execution_count": 5,
     "metadata": {},
     "output_type": "execute_result"
    }
   ],
   "source": [
    "var(\"g\")\n",
    "V = m*g*z2\n",
    "V.evalf()"
   ]
  },
  {
   "cell_type": "markdown",
   "metadata": {},
   "source": [
    "## Step 3: Construct the Lagrangian"
   ]
  },
  {
   "cell_type": "code",
   "execution_count": 6,
   "metadata": {},
   "outputs": [
    {
     "data": {
      "text/latex": [
       "$\\displaystyle - g m \\left(r \\sin{\\left(\\phi_{1}{\\left(t \\right)} \\right)} + z_{1}\\right) + 0.5 m r^{2} \\left(\\frac{d}{d t} \\phi_{1}{\\left(t \\right)}\\right)^{2}$"
      ],
      "text/plain": [
       "-g*m*(r*sin(phi1(t)) + z1) + 0.5*m*r**2*Derivative(phi1(t), t)**2"
      ]
     },
     "execution_count": 6,
     "metadata": {},
     "output_type": "execute_result"
    }
   ],
   "source": [
    "L = T - V\n",
    "L.evalf()"
   ]
  },
  {
   "cell_type": "markdown",
   "metadata": {},
   "source": [
    "## Step 4: Obtaining the EoM\n",
    "\n",
    "In order to obtain the EoMs we have to take derivatives w.r.t. $\\phi_1$ and its velocity. "
   ]
  },
  {
   "cell_type": "code",
   "execution_count": 7,
   "metadata": {},
   "outputs": [
    {
     "data": {
      "text/latex": [
       "$\\displaystyle m r \\left(g \\cos{\\left(\\phi_{1}{\\left(t \\right)} \\right)} + 1.0 r \\frac{d^{2}}{d t^{2}} \\phi_{1}{\\left(t \\right)}\\right)$"
      ],
      "text/plain": [
       "m*r*(g*cos(phi1(t)) + 1.0*r*Derivative(phi1(t), (t, 2)))"
      ]
     },
     "execution_count": 7,
     "metadata": {},
     "output_type": "execute_result"
    }
   ],
   "source": [
    "EOM_phi = diff( diff(L, diff(phi1, t)), t) - diff(L, phi1)\n",
    "# ! LHS need derivative to \"velocity\"\n",
    "EOM_phi = simplify(EOM_phi)\n",
    "EOM_phi.evalf()"
   ]
  },
  {
   "cell_type": "markdown",
   "metadata": {},
   "source": [
    "The equation is nonlinear since it depends on the cosine of the angle. We want to obtain a linear function, so let's linearize. We consider a perturbation around the point we want to linearize ($\\phi_0$). We linearize with the following function substitution: $\\phi_1(t) = \\phi_0 + \\epsilon \\psi(t)$. The $\\epsilon$ is added in order to apply the Taylor series expansion. \n",
    "\n",
    "On a technical note: Using SymPy for function substitution can be tricky, hence we will use temporary symbols called `tmp1` and `tmp2` in order to do the substitution."
   ]
  },
  {
   "cell_type": "code",
   "execution_count": 8,
   "metadata": {},
   "outputs": [
    {
     "name": "stdout",
     "output_type": "stream",
     "text": [
      "m*r*(g*cos(epsilon*psi(t) + phi0) + 1.0*r*Derivative(epsilon*psi(t) + phi0, (t, 2)))\n"
     ]
    },
    {
     "data": {
      "text/latex": [
       "$\\displaystyle m r \\left(g \\cos{\\left(\\epsilon \\psi{\\left(t \\right)} + \\phi_{0} \\right)} + 1.0 r \\frac{\\partial^{2}}{\\partial t^{2}} \\left(\\epsilon \\psi{\\left(t \\right)} + \\phi_{0}\\right)\\right)$"
      ],
      "text/plain": [
       "m*r*(g*cos(epsilon*psi(t) + phi0) + 1.0*r*Derivative(epsilon*psi(t) + phi0, (t, 2)))"
      ]
     },
     "execution_count": 8,
     "metadata": {},
     "output_type": "execute_result"
    }
   ],
   "source": [
    "var(\"phi0 epsilon\")\n",
    "psi = Function(\"psi\")(t) # perturbation function\n",
    "\n",
    "tmp1 = symbols(\"tmp1\")\n",
    "EOM_psi = EOM_phi.evalf(subs={phi1: tmp1})\n",
    "EOM_psi = EOM_psi.evalf(subs={tmp1: phi0 + epsilon*psi})\n",
    "print(EOM_psi)\n",
    "EOM_psi.evalf()"
   ]
  },
  {
   "cell_type": "markdown",
   "metadata": {},
   "source": [
    "Now, we can apply the Taylor series expansion using the function $\\epsilon$ as a variable."
   ]
  },
  {
   "cell_type": "code",
   "execution_count": 9,
   "metadata": {},
   "outputs": [
    {
     "data": {
      "text/latex": [
       "$\\displaystyle 1.0 m r^{2} \\frac{d^{2}}{d t^{2}} \\phi_{0} + g m r \\cos{\\left(\\phi_{0} \\right)} + \\epsilon \\left(- g m r \\psi{\\left(t \\right)} \\sin{\\left(\\phi_{0} \\right)} + 1.0 m r^{2} \\frac{d^{2}}{d t^{2}} \\psi{\\left(t \\right)}\\right) + O\\left(\\epsilon^{2}\\right)$"
      ],
      "text/plain": [
       "1.0*m*r**2*Derivative(phi0, (t, 2)) + g*m*r*cos(phi0) + epsilon*(-g*m*r*psi(t)*sin(phi0) + 1.0*m*r**2*Derivative(psi(t), (t, 2))) + O(epsilon**2)"
      ]
     },
     "execution_count": 9,
     "metadata": {},
     "output_type": "execute_result"
    }
   ],
   "source": [
    "EOM_lin = series(EOM_psi, epsilon, n=2)\n",
    "EOM_lin.evalf()"
   ]
  },
  {
   "cell_type": "markdown",
   "metadata": {},
   "source": [
    "Note that we know that $\\frac{d^2\\phi_0}{dt^2}=0$, so we can redefine the derivative in terms of $\\psi$ only."
   ]
  },
  {
   "cell_type": "code",
   "execution_count": 10,
   "metadata": {},
   "outputs": [
    {
     "data": {
      "text/latex": [
       "$\\displaystyle m r \\left(1.0 \\epsilon r \\frac{d^{2}}{d t^{2}} \\psi{\\left(t \\right)} + g \\cos{\\left(\\epsilon \\psi{\\left(t \\right)} + \\phi_{0} \\right)}\\right)$"
      ],
      "text/plain": [
       "m*r*(1.0*epsilon*r*Derivative(psi(t), (t, 2)) + g*cos(epsilon*psi(t) + phi0))"
      ]
     },
     "execution_count": 10,
     "metadata": {},
     "output_type": "execute_result"
    }
   ],
   "source": [
    "tmp2 = symbols(\"tmp2\")\n",
    "EOM_psi2 = EOM_phi.evalf(subs={diff(phi1, (t, 2)): tmp2, phi1: tmp1})\n",
    "EOM_psi2 = EOM_psi2.evalf(subs={tmp2: diff(phi0 + epsilon*psi, (t, 2)), tmp1: phi0 + epsilon*psi})\n",
    "EOM_psi2.evalf()"
   ]
  },
  {
   "cell_type": "code",
   "execution_count": 11,
   "metadata": {},
   "outputs": [
    {
     "data": {
      "text/latex": [
       "$\\displaystyle g m r \\cos{\\left(\\phi_{0} \\right)} + \\epsilon \\left(- g m r \\psi{\\left(t \\right)} \\sin{\\left(\\phi_{0} \\right)} + 1.0 m r^{2} \\frac{d^{2}}{d t^{2}} \\psi{\\left(t \\right)}\\right) + O\\left(\\epsilon^{2}\\right)$"
      ],
      "text/plain": [
       "g*m*r*cos(phi0) + epsilon*(-g*m*r*psi(t)*sin(phi0) + 1.0*m*r**2*Derivative(psi(t), (t, 2))) + O(epsilon**2)"
      ]
     },
     "execution_count": 11,
     "metadata": {},
     "output_type": "execute_result"
    }
   ],
   "source": [
    "EOM_lin = series(EOM_psi2, epsilon, n=2)\n",
    "EOM_lin.evalf()"
   ]
  },
  {
   "cell_type": "markdown",
   "metadata": {},
   "source": [
    "Then, we obtain the linearized EOM by setting $\\epsilon = 1$."
   ]
  },
  {
   "cell_type": "code",
   "execution_count": 12,
   "metadata": {},
   "outputs": [
    {
     "data": {
      "text/latex": [
       "$\\displaystyle - g m r \\psi{\\left(t \\right)} \\sin{\\left(\\phi_{0} \\right)} + g m r \\cos{\\left(\\phi_{0} \\right)} + 1.0 m r^{2} \\frac{d^{2}}{d t^{2}} \\psi{\\left(t \\right)}$"
      ],
      "text/plain": [
       "-g*m*r*psi(t)*sin(phi0) + g*m*r*cos(phi0) + 1.0*m*r**2*Derivative(psi(t), (t, 2))"
      ]
     },
     "execution_count": 12,
     "metadata": {},
     "output_type": "execute_result"
    }
   ],
   "source": [
    "EOM_lin = EOM_lin.removeO().evalf(subs={epsilon: 1})\n",
    "EOM_lin.evalf()"
   ]
  },
  {
   "cell_type": "markdown",
   "metadata": {},
   "source": [
    "We see that we get an expression that only depends on (linearly) on the perturbation $\\psi(t)$. Isolating the second derivative with respect to time of the perturbation, we get the final expression of the linearized system."
   ]
  },
  {
   "cell_type": "code",
   "execution_count": 13,
   "metadata": {},
   "outputs": [
    {
     "data": {
      "text/latex": [
       "$\\displaystyle \\frac{g \\left(\\psi{\\left(t \\right)} \\sin{\\left(\\phi_{0} \\right)} - \\cos{\\left(\\phi_{0} \\right)}\\right)}{r}$"
      ],
      "text/plain": [
       "g*(psi(t)*sin(phi0) - cos(phi0))/r"
      ]
     },
     "execution_count": 13,
     "metadata": {},
     "output_type": "execute_result"
    }
   ],
   "source": [
    "EOM_lin_iso = solve(EOM_lin, diff(psi, (t, 2)))\n",
    "EOM_lin_iso[0].evalf()"
   ]
  },
  {
   "cell_type": "markdown",
   "metadata": {},
   "source": [
    "In this problem, our initial angle is $\\phi_0 = 3*\\frac{\\pi}{2}$, then the final Equation of Motion will be:"
   ]
  },
  {
   "cell_type": "code",
   "execution_count": 14,
   "metadata": {},
   "outputs": [
    {
     "data": {
      "text/latex": [
       "$\\displaystyle - \\frac{g \\psi{\\left(t \\right)}}{r}$"
      ],
      "text/plain": [
       "-g*psi(t)/r"
      ]
     },
     "execution_count": 14,
     "metadata": {},
     "output_type": "execute_result"
    }
   ],
   "source": [
    "a = EOM_lin_iso[0].evalf(subs={phi0: 3*pi/2})\n",
    "a"
   ]
  },
  {
   "cell_type": "markdown",
   "metadata": {},
   "source": [
    "### Remarks\n",
    "\n",
    "1) The problem studied here is already linear with respect to the accelerations and does not depend on velocities. If we had a nonlinear dependency on accelerations and/or velocities, we should have taken into account the gradients with respect these two quantities.\n",
    "2) For a multiple DOF system, this process has to be done for all the EOM associated to each DOF.\n"
   ]
  },
  {
   "cell_type": "markdown",
   "metadata": {},
   "source": [
    "## Part 3: Solve the equation\n",
    "\n",
    "Now we can solve the equation using an ODE solver"
   ]
  },
  {
   "cell_type": "code",
   "execution_count": 15,
   "metadata": {},
   "outputs": [
    {
     "name": "stdout",
     "output_type": "stream",
     "text": [
      "-g*psi(t)/r\n",
      "-9.81*psisym\n"
     ]
    }
   ],
   "source": [
    "tsym, psisym = symbols(\"tsym psisym\")\n",
    "print(a)\n",
    "a = a.evalf(subs={t: tsym, psi: psisym, g: 9.81, r: 1.0})\n",
    "print(a)\n",
    "def qdot(t,q):\n",
    "    vt = q[1]\n",
    "    at = a.evalf(subs={psisym: q[0], tsym: t})\n",
    "    print([vt,at])\n",
    "    return [vt,at]"
   ]
  },
  {
   "cell_type": "code",
   "execution_count": 16,
   "metadata": {},
   "outputs": [
    {
     "name": "stdout",
     "output_type": "stream",
     "text": [
      "[0, 0]\n"
     ]
    },
    {
     "data": {
      "text/plain": [
       "[0, 0]"
      ]
     },
     "execution_count": 16,
     "metadata": {},
     "output_type": "execute_result"
    }
   ],
   "source": [
    "# Just for demonstration\n",
    "qdot(0,[0,0])"
   ]
  },
  {
   "cell_type": "code",
   "execution_count": 17,
   "metadata": {},
   "outputs": [
    {
     "name": "stdout",
     "output_type": "stream",
     "text": [
      "[0.0, -9.81000000000000]\n",
      "[-9.99000999000999e-06, -9.81000000000000]\n",
      "[-0.0001998001998001998, -9.81000000000000]\n",
      "[-0.00029970029970029965, -9.80999995508986]\n",
      "[-0.0007992007829397424, -9.80999968063904]\n",
      "[-0.0008880008525343867, -9.80999960572721]\n",
      "[-0.0009990009601962054, -9.80999950099850]\n",
      "[-0.0009990009820623992, -9.80999950099851]\n",
      "[-0.002997002878432799, -9.80999750499255]\n",
      "[-0.003996003369275809, -9.80999201597632]\n",
      "[-0.008990989054277799, -9.80995958089667]\n",
      "[-0.009878969928796302, -9.80995120257226]\n",
      "[-0.010988966577551898, -9.80993962080853]\n",
      "[-0.0109889884437484, -9.80993962088068]\n",
      "[-0.03096888544965927, -9.80972006067201]\n",
      "[-0.040958330877229845, -9.80916118198363]\n",
      "[-0.09088873808661489, -9.80586796880756]\n",
      "[-0.09974864730679091, -9.80502101144213]\n",
      "[-0.11084407993005188, -9.80385174510392]\n",
      "[-0.11086594658662938, -9.80385244472089]\n",
      "[-0.31054093917245096, -9.78170140644184]\n",
      "[-0.40987089167247925, -9.72574389596185]\n",
      "[-0.8897058509101583, -9.39789026164981]\n",
      "[-0.9583568911717839, -9.31058851797434]\n",
      "[-1.0648941535040521, -9.19353043728367]\n",
      "[-1.0868072706228022, -9.20048738658223]\n",
      "[-1.5654895356231555, -8.64578754023238]\n",
      "[-1.7723633010534643, -8.09358152317922]\n",
      "[-2.516431637557323, -5.32175395483647]\n",
      "[-2.3524775761305117, -4.77602107521684]\n",
      "[-2.5018359378977553, -3.85406410762353]\n",
      "[-2.8828694253796145, -3.83418412617665]\n",
      "[-3.1243154282479115, -2.05327797147249]\n",
      "[-3.118872929882145, -0.995026189002061]\n",
      "[-2.7636257127884307, 3.09708761786537]\n",
      "[-2.3117509925667745, 2.70075557189966]\n",
      "[-2.1157004983763557, 3.92006743897423]\n",
      "[-2.611289029178901, 5.41641621915632]\n",
      "[-2.2914064149060835, 6.92928951924232]\n",
      "[-2.0309494572817335, 7.47723350780728]\n",
      "[-0.8358811633295047, 8.95001267151894]\n",
      "[-0.6956811535588114, 7.86748120633131]\n",
      "[-0.3052462658059456, 8.06231883629370]\n",
      "[-0.19019199021240496, 9.79138484562386]\n",
      "[0.43461406689305504, 9.91044387587666]\n",
      "[0.7555641401163188, 9.52995799619872]\n",
      "[1.8706435458632553, 7.04350441635887]\n",
      "[1.581865553295189, 5.79576114879633]\n",
      "[1.8869188774510284, 4.78106863861966]\n",
      "[2.5272147147983612, 5.79410293445078]\n",
      "[2.88443016147298, 4.26563907960090]\n",
      "[2.957026692410933, 3.25835706332953]\n",
      "[2.935829523722903, -0.908273053845441]\n",
      "[2.5009567475464647, -0.881047268745288]\n",
      "[2.4076428042449636, -2.16954564674943]\n",
      "[2.958923086326096, -3.21482370305028]\n",
      "[2.762835060848956, -4.98532641108732]\n",
      "[2.543300349486557, -5.73858001922290]\n",
      "[1.4537695098228043, -8.06582415361611]\n",
      "[1.2183987308809454, -6.98163818441769]\n",
      "[0.8343565201948668, -7.47420073237470]\n",
      "[0.8697744180575451, -9.42334980388559]\n",
      "[0.2720845425372579, -9.96453539326033]\n",
      "[-0.06537657721371626, -9.81675098181788]\n",
      "[-1.323834519321489, -8.18580947187941]\n",
      "[-1.136107116230085, -6.79715673195005]\n",
      "[-1.5020921469008521, -6.02783358553157]\n",
      "[-2.046689372910902, -7.42475784427909]\n",
      "[-2.4929872805023336, -6.21787948823625]\n",
      "[-2.6345233779119486, -5.31837403671631]\n",
      "[-2.9351429529518125, -1.34743862617313]\n",
      "[-2.548920251330643, -1.05639970890500]\n",
      "[-2.556856970945891, 0.214702244291684]\n",
      "[-3.120997200727407, 0.813234905627276]\n",
      "[-3.0694279428877556, 2.75473428779527]\n",
      "[-2.905138569847308, 3.68939394570410]\n",
      "[-1.9704830414265502, 6.79084886071355]\n",
      "[-1.6233505734074083, 5.74764068466370]\n",
      "[-1.2635803996807407, 6.54432979544073]\n",
      "[-1.4859847492317977, 8.63449677892312]\n",
      "[-0.9468986811702732, 9.54462888730892]\n",
      "[-0.6134295728905301, 9.62824464063072]\n",
      "[0.7126582978030123, 8.93754259015567]\n",
      "[0.635133398146321, 7.53318846072809]\n",
      "[1.0363587332069955, 7.04808446805400]\n",
      "[1.4563764336421663, 8.68375263423150]\n",
      "[1.9620073515198824, 7.85185703190305]\n",
      "[2.1603289557810594, 7.11098557557963]\n",
      "[2.7550432452927516, 3.59897784272684]\n",
      "[2.444771644719823, 3.06148057655930]\n",
      "[2.547387213020916, 1.89231561986268]\n",
      "[3.0838102431811736, 1.70832008230366]\n",
      "[3.192702909100091, -0.220030698839437]\n",
      "[3.108866512139212, -1.26080975368671]\n",
      "[2.4492297190360444, -5.01257266143452]\n",
      "[2.0219608038269445, -4.26072677712310]\n",
      "[1.735635640930624, -5.32436191717484]\n",
      "[2.128382843735094, -7.19520682567355]\n",
      "[1.690035462393534, -8.46722668325850]\n",
      "[1.3836808316215, -8.80851289863091]\n",
      "[0.07424349837529665, -9.26119131506245]\n",
      "[0.028949575692617913, -7.96352971757332]\n",
      "[-0.38318443501002086, -7.83372225016890]\n",
      "[-0.6438578870775995, -9.59899030528832]\n",
      "[-1.2441249933684786, -9.20400765484673]\n",
      "[-1.516471042754727, -8.59224481948989]\n",
      "[-2.3867712522089484, -5.37617946649616]\n",
      "[-2.0357025386161705, -4.45671818306601]\n",
      "[-2.2423774639321645, -3.27164484540202]\n",
      "[-2.9034330772911137, -3.67536908841995]\n",
      "[-3.134885850639922, -1.88170027043019]\n",
      "[-3.123538380524363, -0.824006867010723]\n",
      "[-2.7455200720442607, 3.24758220584572]\n",
      "[-2.295935560538828, 2.82654224721845]\n",
      "[-2.0931223208675416, 4.03483049554402]\n",
      "[-2.5802807099689407, 5.55800656928506]\n",
      "[-2.251198694882105, 7.05672847543499]\n",
      "[-1.986828239292839, 7.59105362798513]\n",
      "[-0.7804006189694872, 8.99291314342741]\n",
      "[-0.6462063695419453, 7.89166864404733]\n",
      "[-0.25321882534252094, 8.06371822245557]\n",
      "[-0.12803517196397474, 9.79999858431368]\n",
      "[0.49712200963101727, 9.88012237875786]\n",
      "[0.8154507248512652, 9.48006137585645]\n",
      "[1.9143522051072894, 6.92675935781283]\n",
      "[1.6182162344764988, 5.69849607197098]\n",
      "[1.9166495515351376, 4.66585564838146]\n",
      "[2.562555987212135, 5.63752596807498]\n",
      "[2.910775106779076, 4.08475848485492]\n",
      "[2.9769842781508267, 3.07099798165530]\n",
      "[2.927477609074393, -1.09921552072343]\n",
      "[2.490004091890598, -1.04214500808989]\n",
      "[2.387902334613361, -2.32785686318969]\n",
      "[2.9359223709617703, -3.41174185859273]\n",
      "[2.728945117306775, -5.15901190467818]\n",
      "[2.506206319500114, -5.89407010293903]\n",
      "[1.4094685468386827, -8.15369891792735]\n",
      "[1.1837879841330015, -7.07963751147237]\n",
      "[0.8001897725037028, -7.54658493975435]\n",
      "[0.8207572711067987, -9.46503928257494]\n",
      "[0.21983963103065962, -9.97622213671631]\n",
      "[-0.11712998767773042, -9.81076807833335]\n",
      "[-1.367320918447343, -8.11140986540702]\n",
      "[-1.171342307503414, -6.72845639477293]\n",
      "[-1.533648001245084, -5.93887313065505]\n",
      "[-2.08685092419986, -7.31253064482306]\n",
      "[-2.5273629848947468, -6.07928231019612]\n",
      "[-2.6640407862303075, -5.16979181793241]\n",
      "[-2.9409210715813305, -1.17500356197132]\n",
      "[-2.5499442573164024, -0.905934728429903]\n",
      "[-2.550347929764596, 0.369424785941362]\n",
      "[-3.1150129952949066, 1.00107464638094]\n",
      "[-3.051632904692277, 2.93578191580193]\n",
      "[-2.882141285075438, 3.85885012939636]\n",
      "[-1.9314156761199996, 6.90343228454335]\n",
      "[-1.592187126772255, 5.84735687330534]\n",
      "[-1.2287787807871071, 6.62130290898547]\n",
      "[-1.436854802436172, 8.71423068920135]\n",
      "[-0.8919869079714193, 9.59557185778030]\n",
      "[-0.5575576636841041, 9.66025363703092]\n",
      "[0.7655316295371528, 8.88986497966681]\n",
      "[0.6789507682035238, 7.48321155499929]\n",
      "[1.0780863442141335, 6.97374363411716]\n",
      "[1.5089098343418614, 8.59383928742030]\n",
      "[2.0094624102324175, 7.73166559042315]\n",
      "[2.203243730472188, 6.97881751937884]\n",
      "[2.776202191658254, 3.43094156107910]\n",
      "[2.462327514372037, 2.91202082256991]\n",
      "[2.557745267154243, 1.73647786854827]\n",
      "[3.0934051738496535, 1.52039759156924]\n",
      "[3.190364690565823, -0.414861356173891]\n",
      "[3.100001165429447, -1.45073180785692]\n",
      "[2.4165461843833067, -5.16170354423790]\n",
      "[1.9934763180759199, -4.38221239688127]\n",
      "[1.7003429312965135, -5.42861742465408]\n",
      "[2.0820384412654778, -7.32529557693295]\n",
      "[1.6347894729250128, -8.57234005992230]\n",
      "[1.3255088166981948, -8.89449573398619]\n",
      "[0.01104420883812507, -9.25834991439847]\n",
      "[-0.025239946354968623, -7.94779538460983]\n",
      "[-0.4377145212911224, -7.79009392211735]\n",
      "[-0.7109182087166515, -9.55113616760581]\n",
      "[-1.3061114194210384, -9.11653431105450]\n",
      "[-1.5732398083673962, -8.48989503680857]\n",
      "[-2.421543274246103, -5.23300669143229]\n",
      "[-2.0696501364852242, -4.34504375431390]\n",
      "[-2.267695861134026, -3.15398791857658]\n",
      "[-2.924307537217211, -3.50564387430008]\n",
      "[-3.1453720555735276, -1.69662416815632]\n",
      "[-3.127568737915591, -0.638266327803892]\n",
      "[-2.7234842940427835, 3.41308236716258]\n",
      "[-2.274552163055931, 2.96191208875277]\n",
      "[-2.06388338373666, 4.16003441322754]\n",
      "[-2.5441469987675314, 5.71687049532182]\n",
      "[-2.2046626574030608, 7.19895375330069]\n",
      "[-1.935908786791513, 7.71750939138953]\n",
      "[-0.7170039992231725, 9.03767838102136]\n",
      "[-0.5898346881014376, 7.91524183217896]\n",
      "[-0.19406789012539205, 8.06109848265225]\n",
      "[-0.05722264783072761, 9.80527718717902]\n",
      "[0.5679247832930846, 9.84106700870981]\n",
      "[0.8830655506459445, 9.41908967800527]\n",
      "[1.9630511361769512, 6.79191282206152]\n",
      "[1.6589757932777045, 5.58696835020655]\n",
      "[1.9496981844516923, 4.53481227483646]\n",
      "[2.6013048154971097, 5.45834441864015]\n",
      "[2.9391596325650813, 3.87880877089951]\n",
      "[2.9980975649523245, 2.85824890771948]\n",
      "[2.916615435376981, -1.31366871331244]\n",
      "[2.4765006548348154, -1.22257473876211]\n",
      "[2.364493186087804, -2.50439127150975]\n",
      "[2.9084542722447635, -3.63176140387576]\n",
      "[2.6895668894372577, -5.35139003385901]\n",
      "[2.463525330111009, -6.06560961128294]\n",
      "[1.3597650554025806, -8.24935882963711]\n",
      "[1.1448353548335641, -7.18917374462335]\n",
      "[0.7621910204023568, -7.62762527128396]\n",
      "[0.7665000456084856, -9.50822798426783]\n",
      "[0.6684134087723751, -9.58579756601317]\n",
      "[0.6184698588040647, -9.61341522536707]\n",
      "[0.3697998488985517, -9.73747598629557]\n",
      "[0.3270987012353569, -9.75110991573307]\n",
      "[0.27092072220172275, -9.76780530672547]\n",
      "[0.2682165674870712, -9.77058134353138]\n"
     ]
    }
   ],
   "source": [
    "from scipy.integrate import solve_ivp\n",
    "sol = solve_ivp(fun=qdot,t_span=[0,10],y0=[1,0])"
   ]
  },
  {
   "cell_type": "code",
   "execution_count": 18,
   "metadata": {},
   "outputs": [
    {
     "data": {
      "text/plain": [
       "[<matplotlib.lines.Line2D at 0x24d7cbb2580>]"
      ]
     },
     "execution_count": 18,
     "metadata": {},
     "output_type": "execute_result"
    },
    {
     "data": {
      "image/png": "[encoded data removed]",
      "text/plain": [
       "<Figure size 640x480 with 1 Axes>"
      ]
     },
     "metadata": {
      "filenames": {
       "image/png": "C:\\Users\\rubde\\Documents\\School\\TUDelft\\MSC\\TA_Colomes\\03_ComModHOS_v02\\v03_local\\_build\\jupyter_execute\\content\\w2_t1_sol_33_1.png"
      }
     },
     "output_type": "display_data"
    }
   ],
   "source": [
    "import matplotlib.pyplot as plt\n",
    "plt.plot(sol.t,sol.y[0])"
   ]
  }
 ],
 "metadata": {
  "kernelspec": {
   "display_name": "Python 3",
   "language": "python",
   "name": "python3"
  },
  "language_info": {
   "codemirror_mode": {
    "name": "ipython",
    "version": 3
   },
   "file_extension": ".py",
   "mimetype": "text/x-python",
   "name": "python",
   "nbconvert_exporter": "python",
   "pygments_lexer": "ipython3",
   "version": "3.9.13"
  },
  "vscode": {
   "interpreter": {
    "hash": "cbd884b27ce8a521f14a4395d2fc856cd6c799b684d9efdb8253cb562c6eeba0"
   }
  }
 },
 "nbformat": 4,
 "nbformat_minor": 4
}