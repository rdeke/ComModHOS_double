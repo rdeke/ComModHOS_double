{
 "cells": [
  {
   "attachments": {},
   "cell_type": "markdown",
   "metadata": {},
   "source": [
    "# Tutorial 4.1 XXX\n",
    "In this tutorial xxx"
   ]
  },
  {
   "attachments": {},
   "cell_type": "markdown",
   "metadata": {},
   "source": [
    "(ADD IMAGE)\n",
    "\n",
    "Example in a triangle with 3 nodes\n",
    "E = 1MPa\n",
    "A = 0.01 m2\n",
    "\n",
    "Terminology\n",
    "NON = number of nodes\n",
    "NOE = number of eleemntsa\n",
    "NPE = nodes per element\n",
    "ENL = Extended node list - Size of (NoN x 6*PD)\n",
    "PD problem dimension\n",
    "\n",
    "Node coordinates needed\n",
    "NL_(NoN x PD) = [[0 0] [1 0] [0.5 1]]\n",
    "EL_(NoE x NPE) = [[1 2] [2 3] [3 1]] -- start/end points/nodes\n",
    "    ! Order does not matter\n"
   ]
  },
  {
   "cell_type": "code",
   "execution_count": 72,
   "metadata": {},
   "outputs": [],
   "source": [
    "import numpy as np\n",
    "\n",
    "NL = np.array([ [0, 0],\n",
    "                [1, 0],\n",
    "                [0.5, 1]])\n",
    "EL = np.array([ [1, 2],\n",
    "                [2, 3],\n",
    "                [3, 1]])"
   ]
  },
  {
   "attachments": {},
   "cell_type": "markdown",
   "metadata": {},
   "source": [
    "Boudary conditions\n",
    "Fix N1 in x and y\n",
    "Fix N2 in x\n",
    "Add force on node 3 (20 N)\n",
    "\n",
    "! Value of 1 for free, -1 for fixed\n",
    "Than manually input beginning Forces and Displacements"
   ]
  },
  {
   "cell_type": "code",
   "execution_count": 73,
   "metadata": {},
   "outputs": [],
   "source": [
    "DorN = np.array([[-1,-1],\n",
    "                 [1,-1],\n",
    "                 [1,1]])\n",
    "Fu = np.array([[0,0],\n",
    "               [0,0],\n",
    "               [0,-20]])\n",
    "Uu = np.array([[0,0],\n",
    "               [0,0],\n",
    "               [0,0]])"
   ]
  },
  {
   "cell_type": "code",
   "execution_count": 74,
   "metadata": {},
   "outputs": [],
   "source": [
    "# Constants (From before)\n",
    "E = 10**6\n",
    "A = 0.01\n",
    "\n",
    "PD = np.size(NL, 1) # 2 columns for this 2D problem\n",
    "NoN = np.size(NL, 0)\n",
    "\n",
    "# Initialize and build extended node list ENL\n",
    "ENL = np.zeros([NoN, 6*PD]) # initialize\n",
    "ENL[:,0:PD] = NL[:,:]       # first 2 columns get node list\n",
    "ENL[:,PD:2*PD] = DorN[:,:]  # column 3 and 4 get boundary conditions\n"
   ]
  },
  {
   "cell_type": "code",
   "execution_count": 75,
   "metadata": {},
   "outputs": [],
   "source": [
    "# Boundary condition expansion\n",
    "def assign_BCs(NL, ENL):\n",
    "\n",
    "    PD = np.size(NL, 1)\n",
    "    NoN = np.size(NL, 0)\n",
    "\n",
    "    DOFs = 0\n",
    "    DOCs = 0\n",
    "\n",
    "    # Local DOF\n",
    "    for i in range(0, NoN): # loop over nodes\n",
    "        for j in range(0, PD): # loop over columns (meaning degrees of freedom, here 2 columns)\n",
    "            if ENL[i,PD+j] == -1: # if diriclet node\n",
    "                # PD+j accesses column 3 or 4 here\n",
    "                DOCs -= 1\n",
    "                ENL[i,2*PD+j] = DOCs\n",
    "            else: # if neumann node\n",
    "                DOFs += 1\n",
    "                ENL[i, 2*PD+j] = DOFs\n",
    "    # Global DOF\n",
    "    for i in range(0, NoN):\n",
    "        for j in range(0, PD):\n",
    "            if ENL[i,2*PD+j] < 0:\n",
    "                ENL[i,3*PD+j] = abs(ENL[i,2*PD+j]) + DOFs\n",
    "            else:\n",
    "                ENL[i,3*PD+j] = abs(ENL[i,2*PD+j])\n",
    "    \n",
    "    DOCs = abs(DOCs)\n",
    "\n",
    "    return (ENL, DOFs, DOCs)\n",
    "        \n",
    "(ENL, DOFs, DOCs) = assign_BCs(NL,ENL)"
   ]
  },
  {
   "cell_type": "code",
   "execution_count": 76,
   "metadata": {},
   "outputs": [],
   "source": [
    "# Stiffness assignment\n",
    "\n",
    "def element_stiffness(nl, ENL, E, A):\n",
    "    \n",
    "    # Get coordinates\n",
    "    # nl[0] takes the node, but these are counted from 1, \n",
    "    # so we need to substract to get the \"first\" index, which is 0\n",
    "    X1 = ENL[nl[0]-1, 0]\n",
    "    Y1 = ENL[nl[0]-1, 1]\n",
    "    X2 = ENL[nl[1]-1, 0]\n",
    "    Y2 = ENL[nl[1]-1, 1]\n",
    "\n",
    "    # element length\n",
    "    L = np.sqrt((X1-X2)**2 + (Y1-Y2)**2)\n",
    "\n",
    "    # element directions ~ cosines and sines\n",
    "    C = (X2-X1)/L\n",
    "    S = (Y2-Y1)/L\n",
    "\n",
    "    k = E*A/L * np.array([[C*C, C*S, -C*C, -C*S],\n",
    "                          [C*S, S*S, -C*S, -S*S],\n",
    "                          [-C*C, -C*S, C*C, C*S],\n",
    "                          [-C*S, -S*S, C*S, S*S],])\n",
    "    \n",
    "    return k\n",
    "\n",
    "\n",
    "def assemble_stiffness(ENL, EL, NL, E, A):\n",
    "\n",
    "    # dim(K) = (NoN*PD x NoN*PD) so here 6x6\n",
    "\n",
    "    NoE = np.size(EL, 0) # will give 3 here\n",
    "    NPE = np.size(EL, 1) # will give 2\n",
    "    PD = np.size(NL, 1)\n",
    "    NoN = np.size(NL, 0)\n",
    "\n",
    "    K = np.zeros([NoN*PD, NoN*PD])\n",
    "    # element stiffness -- then add to global matrix\n",
    "    for i in range(0,NoE):\n",
    "        nl = EL[i,0:NPE] # nodes around this element\n",
    "        k = element_stiffness(nl, ENL,E,A)\n",
    "        for r in range(0, NPE): # loop over elements\n",
    "            for p in range(0, PD): # loop over dimensions ~ x and y\n",
    "                for q in range(0,NPE):\n",
    "                    for s in range(0,PD):\n",
    "                        row = ENL[nl[r]-1, p+3*PD]\n",
    "                        column = ENL[nl[q]-1, s+3*PD]\n",
    "                        value = k[r*PD+p, q*PD+s]\n",
    "                        K[int(row)-1,int(column)-1] += value\n",
    "    \n",
    "    return K\n",
    "\n",
    "K = assemble_stiffness(ENL,EL, NL,E,A)"
   ]
  },
  {
   "cell_type": "code",
   "execution_count": 77,
   "metadata": {},
   "outputs": [],
   "source": [
    "# Further ENL update with displacements and forces\n",
    "\n",
    "ENL[:,4*PD:5*PD] = Uu[:,:] # column 8 and 9\n",
    "ENL[:,5*PD:6*PD] = Fu[:,:] # clumn 10 and 11"
   ]
  },
  {
   "cell_type": "code",
   "execution_count": 78,
   "metadata": {},
   "outputs": [],
   "source": [
    "# Now fill in the question marks\n",
    "\n",
    "# Flatten Uu and Fu for later use\n",
    "Uu = Uu.flatten()\n",
    "Fu = Fu.flatten()\n",
    "\n",
    "# Find forces and displacements\n",
    "\n",
    "def assemble_forces(ENL, NL):\n",
    "    \n",
    "    PD = np.size(NL, 1)\n",
    "    NoN = np.size(NL, 0)\n",
    "    DOF = 0\n",
    "\n",
    "    Fp = []\n",
    "    for i in range(0, NoN):\n",
    "        for j in range(0, PD):\n",
    "            if ENL[i,PD+j] == 1: # if fixed node\n",
    "                DOF += 1\n",
    "                Fp.append(ENL[i,5*PD+j]) \n",
    "    Fp = np.vstack([Fp]).reshape(-1,1)\n",
    "    return Fp\n",
    "\n",
    "def assemble_displacement(ENL, NL):\n",
    "    \n",
    "    PD = np.size(NL, 1)\n",
    "    NoN = np.size(NL, 0)\n",
    "    DOC = 0\n",
    "\n",
    "    Up = []\n",
    "    for i in range(0, NoN):\n",
    "        for j in range(0, PD):\n",
    "            if ENL[i,PD+j] == 1: # if fixed node\n",
    "                DOC += 1\n",
    "                Up.append(ENL[i,4*PD+j]) \n",
    "    Up = np.vstack([Up]).reshape(-1,1)\n",
    "    return Up\n",
    "\n",
    "Fp = assemble_forces(ENL, NL)\n",
    "Up = assemble_displacement(ENL, NL)"
   ]
  },
  {
   "cell_type": "code",
   "execution_count": 79,
   "metadata": {},
   "outputs": [],
   "source": [
    "# The real physics \n",
    "\n",
    "K_UU = K[0:DOFs,0:DOFs]\n",
    "K_UP = K[0:DOFs,DOFs:DOFs+DOCs]\n",
    "K_PU = K[DOFs:DOFs+DOCs,0:DOFs]\n",
    "K_PP = K[DOFs:DOFs+DOCs,DOFs:DOFs+DOCs]\n",
    "\n",
    "F = Fp - np.matmul(K_UP, Up)\n",
    "Uu = np.matmul(np.linalg.inv(K_UU),F)\n",
    "Fu = np.matmul(K_PU, Uu) + np.matmul(K_PP, Up)"
   ]
  },
  {
   "cell_type": "code",
   "execution_count": 80,
   "metadata": {},
   "outputs": [],
   "source": [
    "# Update ENL now\n",
    "\n",
    "def update_nodes(ENL, Uu, NL, Fu):\n",
    "\n",
    "    PD = np.size(NL, 1)\n",
    "    NoN = np.size(NL, 0)\n",
    "\n",
    "    DOFs = 0\n",
    "    DOCs = 0\n",
    "    for i in range(0, NoN):\n",
    "        for j in range(0, PD):\n",
    "            if ENL[i,PD+j] == 1:\n",
    "                DOFs += 1\n",
    "                ENL[i,4*PD+j] = Uu[DOFs-1] # update the displacement\n",
    "            else:\n",
    "                DOCs += 1\n",
    "                ENL[i,5*PD+j] = Fu[DOCs-1]\n",
    "\n",
    "    return ENL\n",
    "\n",
    "\n",
    "ENL = update_nodes(ENL, Uu, NL, Fu)"
   ]
  },
  {
   "cell_type": "code",
   "execution_count": 81,
   "metadata": {},
   "outputs": [
    {
     "data": {
      "text/plain": [
       "array([[ 0.0e+00,  0.0e+00, -1.0e+00, -1.0e+00, -1.0e+00, -2.0e+00,\n",
       "         4.0e+00,  5.0e+00,  0.0e+00,  0.0e+00, -0.0e+00,  1.0e+01],\n",
       "       [ 1.0e+00,  0.0e+00,  1.0e+00, -1.0e+00,  1.0e+00, -3.0e+00,\n",
       "         1.0e+00,  6.0e+00,  5.0e-04,  0.0e+00,  0.0e+00,  1.0e+01],\n",
       "       [ 5.0e-01,  1.0e+00,  1.0e+00,  1.0e+00,  2.0e+00,  3.0e+00,\n",
       "         2.0e+00,  3.0e+00,  2.0e-04, -1.5e-03,  0.0e+00, -2.0e+01]])"
      ]
     },
     "execution_count": 81,
     "metadata": {},
     "output_type": "execute_result"
    }
   ],
   "source": [
    "np.around(ENL,4)"
   ]
  },
  {
   "cell_type": "code",
   "execution_count": 82,
   "metadata": {},
   "outputs": [],
   "source": [
    "# Post-processing\n",
    "\n",
    "scale = 100 # Exaggeration\n",
    "coor = []\n",
    "dispx_array = []\n",
    "for i in range(np.size(NL,0)): # loop over nodes\n",
    "    dispx = ENL[i,4*PD]\n",
    "    dispy = ENL[i,4*PD+1]\n",
    "    x = ENL[i,0] + dispx*scale\n",
    "    y = ENL[i,1] + dispy*scale\n",
    "    dispx_array.append(dispx)\n",
    "    coor.append(np.array([x,y]))\n",
    "\n",
    "coor = np.vstack(coor) # transform lists into arrays\n",
    "dispx_array = np.vstack(dispx_array)\n",
    "\n",
    "# scatter plot so fine it looks like a line\n",
    "x_scatter = []\n",
    "y_scatter = []\n",
    "color_x = []\n",
    "for i in range(0, np.size(EL,0)): # loop over elements\n",
    "\n",
    "    x1 = coor[EL[i,0]-1,0]\n",
    "    x2 = coor[EL[i,1]-1,0]\n",
    "    y1 = coor[EL[i,0]-1,1]\n",
    "    y2 = coor[EL[i,1]-1,1]\n",
    "\n",
    "    dispx_EL = np.array([dispx_array[EL[i,0]-1],dispx_array[EL[i,1]-1]])\n",
    "\n",
    "    # separate condition needed for \"slopes\" for vertical lines\n",
    "    if x1 == x2:\n",
    "        x = np.linspace(x1,x2,200) # just 200 times the same value\n",
    "        y = np.linspace(y1,y2,200)\n",
    "    else:\n",
    "        m = (y2-y1)/(x2-x1) # slope\n",
    "        x = np.linspace(x1,x2,200)\n",
    "        y = m*(x-x1)+y1\n",
    "\n",
    "    x_scatter.append(x)\n",
    "    y_scatter.append(y)\n",
    "    color_x.append(np.linspace(np.abs(dispx_EL[0]),np.abs(dispx_EL[1]),200))\n",
    "\n",
    "# convert to 1D array to use in the plots\n",
    "x_scatter = np.vstack([x_scatter]).flatten()\n",
    "y_scatter = np.vstack([y_scatter]).flatten()\n",
    "color_x = np.vstack([color_x]).flatten()\n"
   ]
  },
  {
   "cell_type": "code",
   "execution_count": 88,
   "metadata": {},
   "outputs": [
    {
     "name": "stderr",
     "output_type": "stream",
     "text": [
      "C:\\Users\\rubde\\AppData\\Local\\Temp\\ipykernel_145476\\2093865278.py:10: MatplotlibDeprecationWarning: Unable to determine Axes to steal space for Colorbar. Using gca(), but will raise in the future. Either provide the *cax* argument to use as the Axes for the Colorbar, provide the *ax* argument to steal space from it, or add *mappable* to an Axes.\n",
      "  dispFigure.colorbar(ScalarMappable(norm=norm_x, cmap=cmap))\n"
     ]
    },
    {
     "data": {
      "image/png": "[encoded data removed]",
      "text/plain": [
       "<Figure size 640x480 with 2 Axes>"
      ]
     },
     "metadata": {},
     "output_type": "display_data"
    }
   ],
   "source": [
    "import matplotlib.pyplot as plt\n",
    "from matplotlib.colors import Normalize\n",
    "from matplotlib.cm import ScalarMappable\n",
    "\n",
    "dispFigure = plt.figure(1)\n",
    "ax_dispx = dispFigure.add_subplot(111)\n",
    "cmap = plt.get_cmap('jet')\n",
    "ax_dispx.scatter(x_scatter, y_scatter, c=color_x, cmap=cmap, s=10, ec='none');\n",
    "norm_x = Normalize(np.abs(dispx_array.min()),np.abs(dispx_array.max()))\n",
    "dispFigure.colorbar(ScalarMappable(norm=norm_x, cmap=cmap))\n",
    "plt.grid();"
   ]
  },
  {
   "attachments": {},
   "cell_type": "markdown",
   "metadata": {},
   "source": [
    "## Exercise: "
   ]
  }
 ],
 "metadata": {
  "kernelspec": {
   "display_name": "Python 3",
   "language": "python",
   "name": "python3"
  },
  "language_info": {
   "codemirror_mode": {
    "name": "ipython",
    "version": 3
   },
   "file_extension": ".py",
   "mimetype": "text/x-python",
   "name": "python",
   "nbconvert_exporter": "python",
   "pygments_lexer": "ipython3",
   "version": "3.10.11"
  },
  "vscode": {
   "interpreter": {
    "hash": "cbd884b27ce8a521f14a4395d2fc856cd6c799b684d9efdb8253cb562c6eeba0"
   }
  }
 },
 "nbformat": 4,
 "nbformat_minor": 2
}
