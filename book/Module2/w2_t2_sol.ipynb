{
 "cells": [
  {
   "attachments": {},
   "cell_type": "markdown",
   "metadata": {},
   "source": [
    "# Solution 2.2: Deriving the EOM of a pendulum (Solution)\n",
    "In this tutorial you will learn to derive the Equations of Motion of the pendulum as covered in the lecture. That is, a pendulum attached to the floor with a spring. We also consider an external horizontal force acting on the mass.\n",
    "\n",
    "<center><img src=\"../images/Module2/w2_t2_representation.png\" width=\"200\" /></center>"
   ]
  },
  {
   "attachments": {},
   "cell_type": "markdown",
   "metadata": {},
   "source": [
    "## Part 1: Kinematic equations\n",
    "Using the following rotation matrix R($\\phi$): https://en.wikipedia.org/wiki/Rotation_matrix the zero angle points to the right for this matrix.\n",
    "\n",
    "We first start by defining the variables. Assuming that x1, z1 and r1 do not change in time:"
   ]
  },
  {
   "cell_type": "code",
   "execution_count": 1,
   "metadata": {},
   "outputs": [],
   "source": [
    "import numpy as np\n",
    "from sympy import *\n",
    "\n",
    "var(\"t s x1 z1 r1\")      \n",
    "phi1 = Function(\"phi1\")(t)"
   ]
  },
  {
   "attachments": {},
   "cell_type": "markdown",
   "metadata": {},
   "source": [
    "-----------------------------------------------------------------------------------------------------\n",
    "**Problem**: Define the kinematic relations\n",
    "\n",
    "*Hint*: How do you write the position of the pendulum (x2, z2) as a function of x1, z1, r1 and phi1?\n",
    "\n",
    "---------------------------------------------------------------------------------------------------"
   ]
  },
  {
   "cell_type": "code",
   "execution_count": 2,
   "metadata": {},
   "outputs": [],
   "source": [
    "# Define the kinematic relations here\n",
    "x2 = x1 + r1*cos(phi1)\n",
    "z2 = z1 + r1*sin(phi1)"
   ]
  },
  {
   "attachments": {},
   "cell_type": "markdown",
   "metadata": {},
   "source": [
    "The velocities can then be obtained using:\n",
    "\n",
    "-----------------------------------------------------------------------------------------------------\n",
    "**Problem**: Define the velocities\n",
    "\n",
    "*Hint*: Use derivatives.\n",
    "\n",
    "---------------------------------------------------------------------------------------------------"
   ]
  },
  {
   "cell_type": "code",
   "execution_count": 3,
   "metadata": {},
   "outputs": [],
   "source": [
    "# Compute/define the velocities here\n",
    "xdot = diff(x2, t)\n",
    "zdot = diff(z2, t)"
   ]
  },
  {
   "attachments": {},
   "cell_type": "markdown",
   "metadata": {},
   "source": [
    "## Part 2: Energy equations\n",
    "### Kinetic energy:\n",
    "The only mass in this system is the point mass located at P2 with mass $M$\n",
    "\n",
    "-----------------------------------------------------------------------------------------------------\n",
    "**Problem**: Define the kinetic energy\n",
    "\n",
    "---------------------------------------------------------------------------------------------------"
   ]
  },
  {
   "cell_type": "code",
   "execution_count": 4,
   "metadata": {},
   "outputs": [],
   "source": [
    "var(\"M\")\n",
    "# Define the kinetic energy here (T)\n",
    "T = 0.5*M*(xdot**2 + zdot**2)"
   ]
  },
  {
   "cell_type": "markdown",
   "metadata": {},
   "source": [
    "This expression can be simplified to:"
   ]
  },
  {
   "cell_type": "code",
   "execution_count": 5,
   "metadata": {},
   "outputs": [
    {
     "data": {
      "text/latex": [
       "$\\displaystyle 0.5 M r_{1}^{2} \\left(\\frac{d}{d t} \\phi_{1}{\\left(t \\right)}\\right)^{2}$"
      ],
      "text/plain": [
       "0.5*M*r1**2*Derivative(phi1(t), t)**2"
      ]
     },
     "execution_count": 5,
     "metadata": {},
     "output_type": "execute_result"
    }
   ],
   "source": [
    "T = simplify(T)\n",
    "T.evalf()"
   ]
  },
  {
   "attachments": {},
   "cell_type": "markdown",
   "metadata": {},
   "source": [
    "### Potential energy:\n",
    "Assuming again that $l0$, the original length of the spring, does not change in time, then the elongation of the spring $dl$ is given by:\n",
    "\n",
    "-----------------------------------------------------------------------------------------------------\n",
    "**Problem**: Define the spring elongation dl\n",
    "\n",
    "---------------------------------------------------------------------------------------------------"
   ]
  },
  {
   "cell_type": "code",
   "execution_count": 6,
   "metadata": {},
   "outputs": [
    {
     "data": {
      "text/latex": [
       "$\\displaystyle - l_{0} + \\left(\\left(- r_{1} \\sin{\\left(\\phi_{1}{\\left(t \\right)} \\right)} - z_{1} + z_{3}\\right)^{2} + \\left(- r_{1} \\cos{\\left(\\phi_{1}{\\left(t \\right)} \\right)} - x_{1} + x_{3}\\right)^{2}\\right)^{0.5}$"
      ],
      "text/plain": [
       "-l0 + ((-r1*sin(phi1(t)) - z1 + z3)**2 + (-r1*cos(phi1(t)) - x1 + x3)**2)**0.5"
      ]
     },
     "execution_count": 6,
     "metadata": {},
     "output_type": "execute_result"
    }
   ],
   "source": [
    "var(\"dx dz l0 x3 z3\")\n",
    "# Define the spring elongation here dl(l0,x2,z2,x3,z3)\n",
    "dx = x3-x2\n",
    "dz = z3-z2\n",
    "dl = sqrt(dx**2 + dz**2) - l0\n",
    "dl.evalf()"
   ]
  },
  {
   "attachments": {},
   "cell_type": "markdown",
   "metadata": {},
   "source": [
    "The work done by the spring between P2 and P3 with stiffness $k$ and gravity.\n",
    "\n",
    "-----------------------------------------------------------------------------------------------------\n",
    "**Problem**: Define the potential energy V.\n",
    "\n",
    "---------------------------------------------------------------------------------------------------"
   ]
  },
  {
   "cell_type": "code",
   "execution_count": 7,
   "metadata": {},
   "outputs": [
    {
     "data": {
      "text/latex": [
       "$\\displaystyle M g \\left(r_{1} \\sin{\\left(\\phi_{1}{\\left(t \\right)} \\right)} + z_{1}\\right) + 0.5 k \\left(l_{0} - \\left(\\left(r_{1} \\sin{\\left(\\phi_{1}{\\left(t \\right)} \\right)} + z_{1} - z_{3}\\right)^{2} + \\left(r_{1} \\cos{\\left(\\phi_{1}{\\left(t \\right)} \\right)} + x_{1} - x_{3}\\right)^{2}\\right)^{0.5}\\right)^{2}$"
      ],
      "text/plain": [
       "M*g*(r1*sin(phi1(t)) + z1) + 0.5*k*(l0 - ((r1*sin(phi1(t)) + z1 - z3)**2 + (r1*cos(phi1(t)) + x1 - x3)**2)**0.5)**2"
      ]
     },
     "execution_count": 7,
     "metadata": {},
     "output_type": "execute_result"
    }
   ],
   "source": [
    "var(\"k g\")\n",
    "# Define the potential energy here (V)\n",
    "V = 0.5*k*dl**2 + M*g*z2\n",
    "V = simplify(V)\n",
    "V.evalf()"
   ]
  },
  {
   "attachments": {},
   "cell_type": "markdown",
   "metadata": {},
   "source": [
    "### Work by external force\n",
    "The work done by an external force working in the horizontal direction:\n",
    "\n",
    "-----------------------------------------------------------------------------------------------------\n",
    "**Problem**: Define the external work.\n",
    "\n",
    "---------------------------------------------------------------------------------------------------"
   ]
  },
  {
   "cell_type": "code",
   "execution_count": 8,
   "metadata": {},
   "outputs": [
    {
     "data": {
      "text/latex": [
       "$\\displaystyle \\left(r_{1} \\cos{\\left(\\phi_{1}{\\left(t \\right)} \\right)} + x_{1}\\right) \\operatorname{Fx}{\\left(t \\right)}$"
      ],
      "text/plain": [
       "(r1*cos(phi1(t)) + x1)*Fx(t)"
      ]
     },
     "execution_count": 8,
     "metadata": {},
     "output_type": "execute_result"
    }
   ],
   "source": [
    "Fx = Function(\"Fx\")(t)\n",
    "\n",
    "# Define your external work here (W)\n",
    "W = x2*Fx\n",
    "W.evalf()"
   ]
  },
  {
   "attachments": {},
   "cell_type": "markdown",
   "metadata": {},
   "source": [
    "## Step 3: Construct the Lagrangian\n",
    "\n",
    "-----------------------------------------------------------------------------------------------------\n",
    "**Problem**: Use T, V and W to find the lagrangian L. Simplify it using L.evalf()\n",
    "\n",
    "---------------------------------------------------------------------------------------------------"
   ]
  },
  {
   "cell_type": "code",
   "execution_count": 9,
   "metadata": {},
   "outputs": [
    {
     "data": {
      "text/latex": [
       "$\\displaystyle - M g \\left(r_{1} \\sin{\\left(\\phi_{1}{\\left(t \\right)} \\right)} + z_{1}\\right) + 0.5 M r_{1}^{2} \\left(\\frac{d}{d t} \\phi_{1}{\\left(t \\right)}\\right)^{2} - 0.5 k \\left(l_{0} - \\left(\\left(r_{1} \\sin{\\left(\\phi_{1}{\\left(t \\right)} \\right)} + z_{1} - z_{3}\\right)^{2} + \\left(r_{1} \\cos{\\left(\\phi_{1}{\\left(t \\right)} \\right)} + x_{1} - x_{3}\\right)^{2}\\right)^{0.5}\\right)^{2} - \\left(r_{1} \\cos{\\left(\\phi_{1}{\\left(t \\right)} \\right)} + x_{1}\\right) \\operatorname{Fx}{\\left(t \\right)}$"
      ],
      "text/plain": [
       "-M*g*(r1*sin(phi1(t)) + z1) + 0.5*M*r1**2*Derivative(phi1(t), t)**2 - 0.5*k*(l0 - ((r1*sin(phi1(t)) + z1 - z3)**2 + (r1*cos(phi1(t)) + x1 - x3)**2)**0.5)**2 - (r1*cos(phi1(t)) + x1)*Fx(t)"
      ]
     },
     "execution_count": 9,
     "metadata": {},
     "output_type": "execute_result"
    }
   ],
   "source": [
    "# Define your Lagrangian here (L)\n",
    "L = T - V - W\n",
    "L.evalf()"
   ]
  },
  {
   "attachments": {},
   "cell_type": "markdown",
   "metadata": {},
   "source": [
    "## Step 4: Obtaining the EoM\n",
    "\n",
    "In order to obtain the EoMs we have to take derivatives w.r.t. $\\phi_1$ and its velocity. \n",
    "\n",
    "-----------------------------------------------------------------------------------------------------\n",
    "**Problem**: Use the Lagrangian expression to obtain the equation of motion.\n",
    "\n",
    "*Hint*: Put all terms on the left hand side\n",
    "\n",
    "---------------------------------------------------------------------------------------------------"
   ]
  },
  {
   "cell_type": "code",
   "execution_count": 10,
   "metadata": {},
   "outputs": [
    {
     "data": {
      "text/latex": [
       "$\\displaystyle \\frac{r_{1} \\left(- 1.0 k \\left(l_{0} - \\left(\\left(r_{1} \\sin{\\left(\\phi_{1}{\\left(t \\right)} \\right)} + z_{1} - z_{3}\\right)^{2} + \\left(r_{1} \\cos{\\left(\\phi_{1}{\\left(t \\right)} \\right)} + x_{1} - x_{3}\\right)^{2}\\right)^{0.5}\\right) \\left(- x_{1} \\sin{\\left(\\phi_{1}{\\left(t \\right)} \\right)} + x_{3} \\sin{\\left(\\phi_{1}{\\left(t \\right)} \\right)} + z_{1} \\cos{\\left(\\phi_{1}{\\left(t \\right)} \\right)} - z_{3} \\cos{\\left(\\phi_{1}{\\left(t \\right)} \\right)}\\right) + \\left(\\left(r_{1} \\sin{\\left(\\phi_{1}{\\left(t \\right)} \\right)} + z_{1} - z_{3}\\right)^{2} + \\left(r_{1} \\cos{\\left(\\phi_{1}{\\left(t \\right)} \\right)} + x_{1} - x_{3}\\right)^{2}\\right)^{0.5} \\left(M g \\cos{\\left(\\phi_{1}{\\left(t \\right)} \\right)} + 1.0 M r_{1} \\frac{d^{2}}{d t^{2}} \\phi_{1}{\\left(t \\right)} - \\operatorname{Fx}{\\left(t \\right)} \\sin{\\left(\\phi_{1}{\\left(t \\right)} \\right)}\\right)\\right)}{\\left(\\left(r_{1} \\sin{\\left(\\phi_{1}{\\left(t \\right)} \\right)} + z_{1} - z_{3}\\right)^{2} + \\left(r_{1} \\cos{\\left(\\phi_{1}{\\left(t \\right)} \\right)} + x_{1} - x_{3}\\right)^{2}\\right)^{0.5}}$"
      ],
      "text/plain": [
       "r1*(-1.0*k*(l0 - ((r1*sin(phi1(t)) + z1 - z3)**2 + (r1*cos(phi1(t)) + x1 - x3)**2)**0.5)*(-x1*sin(phi1(t)) + x3*sin(phi1(t)) + z1*cos(phi1(t)) - z3*cos(phi1(t))) + ((r1*sin(phi1(t)) + z1 - z3)**2 + (r1*cos(phi1(t)) + x1 - x3)**2)**0.5*(M*g*cos(phi1(t)) + 1.0*M*r1*Derivative(phi1(t), (t, 2)) - Fx(t)*sin(phi1(t))))/((r1*sin(phi1(t)) + z1 - z3)**2 + (r1*cos(phi1(t)) + x1 - x3)**2)**0.5"
      ]
     },
     "execution_count": 10,
     "metadata": {},
     "output_type": "execute_result"
    }
   ],
   "source": [
    "# Compute the EOM here\n",
    "EOM_phi = diff( diff(L, diff(phi1, t)), t) - diff(L, phi1)\n",
    "EOM_phi = simplify(EOM_phi)\n",
    "EOM_phi.evalf()"
   ]
  },
  {
   "attachments": {},
   "cell_type": "markdown",
   "metadata": {},
   "source": [
    "Now we isolate it for the acceleration.\n",
    "\n",
    "These cells can in practice take quite some time to execute. For this illustration the added spring stiffness k is set to 0, but it can take any value."
   ]
  },
  {
   "cell_type": "code",
   "execution_count": 11,
   "metadata": {},
   "outputs": [
    {
     "data": {
      "text/latex": [
       "$\\displaystyle \\frac{r_{1} \\left(- 1.0 k \\left(l_{0} - \\left(\\left(r_{1} \\sin{\\left(\\epsilon \\psi{\\left(t \\right)} + \\phi_{0} \\right)} + z_{1} - z_{3}\\right)^{2} + \\left(r_{1} \\cos{\\left(\\epsilon \\psi{\\left(t \\right)} + \\phi_{0} \\right)} + x_{1} - x_{3}\\right)^{2}\\right)^{0.5}\\right) \\left(- x_{1} \\sin{\\left(\\epsilon \\psi{\\left(t \\right)} + \\phi_{0} \\right)} + x_{3} \\sin{\\left(\\epsilon \\psi{\\left(t \\right)} + \\phi_{0} \\right)} + z_{1} \\cos{\\left(\\epsilon \\psi{\\left(t \\right)} + \\phi_{0} \\right)} - z_{3} \\cos{\\left(\\epsilon \\psi{\\left(t \\right)} + \\phi_{0} \\right)}\\right) + \\left(\\left(r_{1} \\sin{\\left(\\epsilon \\psi{\\left(t \\right)} + \\phi_{0} \\right)} + z_{1} - z_{3}\\right)^{2} + \\left(r_{1} \\cos{\\left(\\epsilon \\psi{\\left(t \\right)} + \\phi_{0} \\right)} + x_{1} - x_{3}\\right)^{2}\\right)^{0.5} \\cdot \\left(1.0 M \\epsilon r_{1} \\frac{d^{2}}{d t^{2}} \\psi{\\left(t \\right)} + M g \\cos{\\left(\\epsilon \\psi{\\left(t \\right)} + \\phi_{0} \\right)} - \\operatorname{Fx}{\\left(t \\right)} \\sin{\\left(\\epsilon \\psi{\\left(t \\right)} + \\phi_{0} \\right)}\\right)\\right)}{\\left(\\left(r_{1} \\sin{\\left(\\epsilon \\psi{\\left(t \\right)} + \\phi_{0} \\right)} + z_{1} - z_{3}\\right)^{2} + \\left(r_{1} \\cos{\\left(\\epsilon \\psi{\\left(t \\right)} + \\phi_{0} \\right)} + x_{1} - x_{3}\\right)^{2}\\right)^{0.5}}$"
      ],
      "text/plain": [
       "r1*(-1.0*k*(l0 - ((r1*sin(epsilon*psi(t) + phi0) + z1 - z3)**2 + (r1*cos(epsilon*psi(t) + phi0) + x1 - x3)**2)**0.5)*(-x1*sin(epsilon*psi(t) + phi0) + x3*sin(epsilon*psi(t) + phi0) + z1*cos(epsilon*psi(t) + phi0) - z3*cos(epsilon*psi(t) + phi0)) + ((r1*sin(epsilon*psi(t) + phi0) + z1 - z3)**2 + (r1*cos(epsilon*psi(t) + phi0) + x1 - x3)**2)**0.5*(1.0*M*epsilon*r1*Derivative(psi(t), (t, 2)) + M*g*cos(epsilon*psi(t) + phi0) - Fx(t)*sin(epsilon*psi(t) + phi0)))/((r1*sin(epsilon*psi(t) + phi0) + z1 - z3)**2 + (r1*cos(epsilon*psi(t) + phi0) + x1 - x3)**2)**0.5"
      ]
     },
     "execution_count": 11,
     "metadata": {},
     "output_type": "execute_result"
    }
   ],
   "source": [
    "var(\"phi0 epsilon\")\n",
    "psi = Function(\"psi\")(t) # perturbation function\n",
    "\n",
    "tmp1 = symbols(\"tmp1\") # the acceleration, to be linearized as phi0+epsilon*psi\n",
    "tmp2 = symbols(\"tmp2\") # the displacement\n",
    "EOM_psi2 = EOM_phi.evalf(subs={diff(phi1, (t, 2)): tmp2, phi1: tmp1})\n",
    "EOM_psi2 = EOM_psi2.evalf(subs={tmp2: diff(phi0 + epsilon*psi, (t, 2)), tmp1: phi0 + epsilon*psi})\n",
    "EOM_psi2.evalf()"
   ]
  },
  {
   "cell_type": "code",
   "execution_count": 12,
   "metadata": {},
   "outputs": [
    {
     "data": {
      "text/latex": [
       "$\\displaystyle - r_{1} \\operatorname{Fx}{\\left(t \\right)} \\sin{\\left(\\phi_{0} \\right)} - 1.0 k r_{1} z_{3} \\cos{\\left(\\phi_{0} \\right)} + 1.0 k r_{1} z_{1} \\cos{\\left(\\phi_{0} \\right)} + 1.0 k r_{1} x_{3} \\sin{\\left(\\phi_{0} \\right)} - 1.0 k r_{1} x_{1} \\sin{\\left(\\phi_{0} \\right)} + \\frac{0.707106781186548 k l_{0} r_{1} z_{3} \\cos{\\left(\\phi_{0} \\right)}}{\\left(0.5 r_{1}^{2} \\sin^{2}{\\left(\\phi_{0} \\right)} + 0.5 r_{1}^{2} \\cos^{2}{\\left(\\phi_{0} \\right)} + r_{1} x_{1} \\cos{\\left(\\phi_{0} \\right)} - r_{1} x_{3} \\cos{\\left(\\phi_{0} \\right)} + r_{1} z_{1} \\sin{\\left(\\phi_{0} \\right)} - r_{1} z_{3} \\sin{\\left(\\phi_{0} \\right)} + 0.5 x_{1}^{2} - x_{1} x_{3} + 0.5 x_{3}^{2} + 0.5 z_{1}^{2} - z_{1} z_{3} + 0.5 z_{3}^{2}\\right)^{0.5}} - \\frac{0.707106781186548 k l_{0} r_{1} z_{1} \\cos{\\left(\\phi_{0} \\right)}}{\\left(0.5 r_{1}^{2} \\sin^{2}{\\left(\\phi_{0} \\right)} + 0.5 r_{1}^{2} \\cos^{2}{\\left(\\phi_{0} \\right)} + r_{1} x_{1} \\cos{\\left(\\phi_{0} \\right)} - r_{1} x_{3} \\cos{\\left(\\phi_{0} \\right)} + r_{1} z_{1} \\sin{\\left(\\phi_{0} \\right)} - r_{1} z_{3} \\sin{\\left(\\phi_{0} \\right)} + 0.5 x_{1}^{2} - x_{1} x_{3} + 0.5 x_{3}^{2} + 0.5 z_{1}^{2} - z_{1} z_{3} + 0.5 z_{3}^{2}\\right)^{0.5}} - \\frac{0.707106781186548 k l_{0} r_{1} x_{3} \\sin{\\left(\\phi_{0} \\right)}}{\\left(0.5 r_{1}^{2} \\sin^{2}{\\left(\\phi_{0} \\right)} + 0.5 r_{1}^{2} \\cos^{2}{\\left(\\phi_{0} \\right)} + r_{1} x_{1} \\cos{\\left(\\phi_{0} \\right)} - r_{1} x_{3} \\cos{\\left(\\phi_{0} \\right)} + r_{1} z_{1} \\sin{\\left(\\phi_{0} \\right)} - r_{1} z_{3} \\sin{\\left(\\phi_{0} \\right)} + 0.5 x_{1}^{2} - x_{1} x_{3} + 0.5 x_{3}^{2} + 0.5 z_{1}^{2} - z_{1} z_{3} + 0.5 z_{3}^{2}\\right)^{0.5}} + \\frac{0.707106781186548 k l_{0} r_{1} x_{1} \\sin{\\left(\\phi_{0} \\right)}}{\\left(0.5 r_{1}^{2} \\sin^{2}{\\left(\\phi_{0} \\right)} + 0.5 r_{1}^{2} \\cos^{2}{\\left(\\phi_{0} \\right)} + r_{1} x_{1} \\cos{\\left(\\phi_{0} \\right)} - r_{1} x_{3} \\cos{\\left(\\phi_{0} \\right)} + r_{1} z_{1} \\sin{\\left(\\phi_{0} \\right)} - r_{1} z_{3} \\sin{\\left(\\phi_{0} \\right)} + 0.5 x_{1}^{2} - x_{1} x_{3} + 0.5 x_{3}^{2} + 0.5 z_{1}^{2} - z_{1} z_{3} + 0.5 z_{3}^{2}\\right)^{0.5}} + \\epsilon \\left(- M g r_{1} \\psi{\\left(t \\right)} \\sin{\\left(\\phi_{0} \\right)} + 1.0 M r_{1}^{2} \\frac{d^{2}}{d t^{2}} \\psi{\\left(t \\right)} + \\frac{0.353553390593274 k l_{0} r_{1}^{2} x_{1}^{2} \\psi{\\left(t \\right)} \\sin^{2}{\\left(\\phi_{0} \\right)}}{\\left(0.5 r_{1}^{2} \\sin^{2}{\\left(\\phi_{0} \\right)} + 0.5 r_{1}^{2} \\cos^{2}{\\left(\\phi_{0} \\right)} + r_{1} x_{1} \\cos{\\left(\\phi_{0} \\right)} - r_{1} x_{3} \\cos{\\left(\\phi_{0} \\right)} + r_{1} z_{1} \\sin{\\left(\\phi_{0} \\right)} - r_{1} z_{3} \\sin{\\left(\\phi_{0} \\right)} + 0.5 x_{1}^{2} - x_{1} x_{3} + 0.5 x_{3}^{2} + 0.5 z_{1}^{2} - z_{1} z_{3} + 0.5 z_{3}^{2}\\right)^{1.5}} - \\frac{0.707106781186548 k l_{0} r_{1}^{2} x_{1} x_{3} \\psi{\\left(t \\right)} \\sin^{2}{\\left(\\phi_{0} \\right)}}{\\left(0.5 r_{1}^{2} \\sin^{2}{\\left(\\phi_{0} \\right)} + 0.5 r_{1}^{2} \\cos^{2}{\\left(\\phi_{0} \\right)} + r_{1} x_{1} \\cos{\\left(\\phi_{0} \\right)} - r_{1} x_{3} \\cos{\\left(\\phi_{0} \\right)} + r_{1} z_{1} \\sin{\\left(\\phi_{0} \\right)} - r_{1} z_{3} \\sin{\\left(\\phi_{0} \\right)} + 0.5 x_{1}^{2} - x_{1} x_{3} + 0.5 x_{3}^{2} + 0.5 z_{1}^{2} - z_{1} z_{3} + 0.5 z_{3}^{2}\\right)^{1.5}} - \\frac{0.707106781186548 k l_{0} r_{1}^{2} x_{1} z_{1} \\psi{\\left(t \\right)} \\sin{\\left(\\phi_{0} \\right)} \\cos{\\left(\\phi_{0} \\right)}}{\\left(0.5 r_{1}^{2} \\sin^{2}{\\left(\\phi_{0} \\right)} + 0.5 r_{1}^{2} \\cos^{2}{\\left(\\phi_{0} \\right)} + r_{1} x_{1} \\cos{\\left(\\phi_{0} \\right)} - r_{1} x_{3} \\cos{\\left(\\phi_{0} \\right)} + r_{1} z_{1} \\sin{\\left(\\phi_{0} \\right)} - r_{1} z_{3} \\sin{\\left(\\phi_{0} \\right)} + 0.5 x_{1}^{2} - x_{1} x_{3} + 0.5 x_{3}^{2} + 0.5 z_{1}^{2} - z_{1} z_{3} + 0.5 z_{3}^{2}\\right)^{1.5}} + \\frac{0.707106781186548 k l_{0} r_{1}^{2} x_{1} z_{3} \\psi{\\left(t \\right)} \\sin{\\left(\\phi_{0} \\right)} \\cos{\\left(\\phi_{0} \\right)}}{\\left(0.5 r_{1}^{2} \\sin^{2}{\\left(\\phi_{0} \\right)} + 0.5 r_{1}^{2} \\cos^{2}{\\left(\\phi_{0} \\right)} + r_{1} x_{1} \\cos{\\left(\\phi_{0} \\right)} - r_{1} x_{3} \\cos{\\left(\\phi_{0} \\right)} + r_{1} z_{1} \\sin{\\left(\\phi_{0} \\right)} - r_{1} z_{3} \\sin{\\left(\\phi_{0} \\right)} + 0.5 x_{1}^{2} - x_{1} x_{3} + 0.5 x_{3}^{2} + 0.5 z_{1}^{2} - z_{1} z_{3} + 0.5 z_{3}^{2}\\right)^{1.5}} + \\frac{0.353553390593274 k l_{0} r_{1}^{2} x_{3}^{2} \\psi{\\left(t \\right)} \\sin^{2}{\\left(\\phi_{0} \\right)}}{\\left(0.5 r_{1}^{2} \\sin^{2}{\\left(\\phi_{0} \\right)} + 0.5 r_{1}^{2} \\cos^{2}{\\left(\\phi_{0} \\right)} + r_{1} x_{1} \\cos{\\left(\\phi_{0} \\right)} - r_{1} x_{3} \\cos{\\left(\\phi_{0} \\right)} + r_{1} z_{1} \\sin{\\left(\\phi_{0} \\right)} - r_{1} z_{3} \\sin{\\left(\\phi_{0} \\right)} + 0.5 x_{1}^{2} - x_{1} x_{3} + 0.5 x_{3}^{2} + 0.5 z_{1}^{2} - z_{1} z_{3} + 0.5 z_{3}^{2}\\right)^{1.5}} + \\frac{0.707106781186548 k l_{0} r_{1}^{2} x_{3} z_{1} \\psi{\\left(t \\right)} \\sin{\\left(\\phi_{0} \\right)} \\cos{\\left(\\phi_{0} \\right)}}{\\left(0.5 r_{1}^{2} \\sin^{2}{\\left(\\phi_{0} \\right)} + 0.5 r_{1}^{2} \\cos^{2}{\\left(\\phi_{0} \\right)} + r_{1} x_{1} \\cos{\\left(\\phi_{0} \\right)} - r_{1} x_{3} \\cos{\\left(\\phi_{0} \\right)} + r_{1} z_{1} \\sin{\\left(\\phi_{0} \\right)} - r_{1} z_{3} \\sin{\\left(\\phi_{0} \\right)} + 0.5 x_{1}^{2} - x_{1} x_{3} + 0.5 x_{3}^{2} + 0.5 z_{1}^{2} - z_{1} z_{3} + 0.5 z_{3}^{2}\\right)^{1.5}} - \\frac{0.707106781186548 k l_{0} r_{1}^{2} x_{3} z_{3} \\psi{\\left(t \\right)} \\sin{\\left(\\phi_{0} \\right)} \\cos{\\left(\\phi_{0} \\right)}}{\\left(0.5 r_{1}^{2} \\sin^{2}{\\left(\\phi_{0} \\right)} + 0.5 r_{1}^{2} \\cos^{2}{\\left(\\phi_{0} \\right)} + r_{1} x_{1} \\cos{\\left(\\phi_{0} \\right)} - r_{1} x_{3} \\cos{\\left(\\phi_{0} \\right)} + r_{1} z_{1} \\sin{\\left(\\phi_{0} \\right)} - r_{1} z_{3} \\sin{\\left(\\phi_{0} \\right)} + 0.5 x_{1}^{2} - x_{1} x_{3} + 0.5 x_{3}^{2} + 0.5 z_{1}^{2} - z_{1} z_{3} + 0.5 z_{3}^{2}\\right)^{1.5}} + \\frac{0.353553390593274 k l_{0} r_{1}^{2} z_{1}^{2} \\psi{\\left(t \\right)} \\cos^{2}{\\left(\\phi_{0} \\right)}}{\\left(0.5 r_{1}^{2} \\sin^{2}{\\left(\\phi_{0} \\right)} + 0.5 r_{1}^{2} \\cos^{2}{\\left(\\phi_{0} \\right)} + r_{1} x_{1} \\cos{\\left(\\phi_{0} \\right)} - r_{1} x_{3} \\cos{\\left(\\phi_{0} \\right)} + r_{1} z_{1} \\sin{\\left(\\phi_{0} \\right)} - r_{1} z_{3} \\sin{\\left(\\phi_{0} \\right)} + 0.5 x_{1}^{2} - x_{1} x_{3} + 0.5 x_{3}^{2} + 0.5 z_{1}^{2} - z_{1} z_{3} + 0.5 z_{3}^{2}\\right)^{1.5}} - \\frac{0.707106781186548 k l_{0} r_{1}^{2} z_{1} z_{3} \\psi{\\left(t \\right)} \\cos^{2}{\\left(\\phi_{0} \\right)}}{\\left(0.5 r_{1}^{2} \\sin^{2}{\\left(\\phi_{0} \\right)} + 0.5 r_{1}^{2} \\cos^{2}{\\left(\\phi_{0} \\right)} + r_{1} x_{1} \\cos{\\left(\\phi_{0} \\right)} - r_{1} x_{3} \\cos{\\left(\\phi_{0} \\right)} + r_{1} z_{1} \\sin{\\left(\\phi_{0} \\right)} - r_{1} z_{3} \\sin{\\left(\\phi_{0} \\right)} + 0.5 x_{1}^{2} - x_{1} x_{3} + 0.5 x_{3}^{2} + 0.5 z_{1}^{2} - z_{1} z_{3} + 0.5 z_{3}^{2}\\right)^{1.5}} + \\frac{0.353553390593274 k l_{0} r_{1}^{2} z_{3}^{2} \\psi{\\left(t \\right)} \\cos^{2}{\\left(\\phi_{0} \\right)}}{\\left(0.5 r_{1}^{2} \\sin^{2}{\\left(\\phi_{0} \\right)} + 0.5 r_{1}^{2} \\cos^{2}{\\left(\\phi_{0} \\right)} + r_{1} x_{1} \\cos{\\left(\\phi_{0} \\right)} - r_{1} x_{3} \\cos{\\left(\\phi_{0} \\right)} + r_{1} z_{1} \\sin{\\left(\\phi_{0} \\right)} - r_{1} z_{3} \\sin{\\left(\\phi_{0} \\right)} + 0.5 x_{1}^{2} - x_{1} x_{3} + 0.5 x_{3}^{2} + 0.5 z_{1}^{2} - z_{1} z_{3} + 0.5 z_{3}^{2}\\right)^{1.5}} + \\frac{0.707106781186548 k l_{0} r_{1} x_{1} \\psi{\\left(t \\right)} \\cos{\\left(\\phi_{0} \\right)}}{\\left(0.5 r_{1}^{2} \\sin^{2}{\\left(\\phi_{0} \\right)} + 0.5 r_{1}^{2} \\cos^{2}{\\left(\\phi_{0} \\right)} + r_{1} x_{1} \\cos{\\left(\\phi_{0} \\right)} - r_{1} x_{3} \\cos{\\left(\\phi_{0} \\right)} + r_{1} z_{1} \\sin{\\left(\\phi_{0} \\right)} - r_{1} z_{3} \\sin{\\left(\\phi_{0} \\right)} + 0.5 x_{1}^{2} - x_{1} x_{3} + 0.5 x_{3}^{2} + 0.5 z_{1}^{2} - z_{1} z_{3} + 0.5 z_{3}^{2}\\right)^{0.5}} - \\frac{0.707106781186548 k l_{0} r_{1} x_{3} \\psi{\\left(t \\right)} \\cos{\\left(\\phi_{0} \\right)}}{\\left(0.5 r_{1}^{2} \\sin^{2}{\\left(\\phi_{0} \\right)} + 0.5 r_{1}^{2} \\cos^{2}{\\left(\\phi_{0} \\right)} + r_{1} x_{1} \\cos{\\left(\\phi_{0} \\right)} - r_{1} x_{3} \\cos{\\left(\\phi_{0} \\right)} + r_{1} z_{1} \\sin{\\left(\\phi_{0} \\right)} - r_{1} z_{3} \\sin{\\left(\\phi_{0} \\right)} + 0.5 x_{1}^{2} - x_{1} x_{3} + 0.5 x_{3}^{2} + 0.5 z_{1}^{2} - z_{1} z_{3} + 0.5 z_{3}^{2}\\right)^{0.5}} + \\frac{0.707106781186548 k l_{0} r_{1} z_{1} \\psi{\\left(t \\right)} \\sin{\\left(\\phi_{0} \\right)}}{\\left(0.5 r_{1}^{2} \\sin^{2}{\\left(\\phi_{0} \\right)} + 0.5 r_{1}^{2} \\cos^{2}{\\left(\\phi_{0} \\right)} + r_{1} x_{1} \\cos{\\left(\\phi_{0} \\right)} - r_{1} x_{3} \\cos{\\left(\\phi_{0} \\right)} + r_{1} z_{1} \\sin{\\left(\\phi_{0} \\right)} - r_{1} z_{3} \\sin{\\left(\\phi_{0} \\right)} + 0.5 x_{1}^{2} - x_{1} x_{3} + 0.5 x_{3}^{2} + 0.5 z_{1}^{2} - z_{1} z_{3} + 0.5 z_{3}^{2}\\right)^{0.5}} - \\frac{0.707106781186548 k l_{0} r_{1} z_{3} \\psi{\\left(t \\right)} \\sin{\\left(\\phi_{0} \\right)}}{\\left(0.5 r_{1}^{2} \\sin^{2}{\\left(\\phi_{0} \\right)} + 0.5 r_{1}^{2} \\cos^{2}{\\left(\\phi_{0} \\right)} + r_{1} x_{1} \\cos{\\left(\\phi_{0} \\right)} - r_{1} x_{3} \\cos{\\left(\\phi_{0} \\right)} + r_{1} z_{1} \\sin{\\left(\\phi_{0} \\right)} - r_{1} z_{3} \\sin{\\left(\\phi_{0} \\right)} + 0.5 x_{1}^{2} - x_{1} x_{3} + 0.5 x_{3}^{2} + 0.5 z_{1}^{2} - z_{1} z_{3} + 0.5 z_{3}^{2}\\right)^{0.5}} - 1.0 k r_{1} x_{1} \\psi{\\left(t \\right)} \\cos{\\left(\\phi_{0} \\right)} + 1.0 k r_{1} x_{3} \\psi{\\left(t \\right)} \\cos{\\left(\\phi_{0} \\right)} - 1.0 k r_{1} z_{1} \\psi{\\left(t \\right)} \\sin{\\left(\\phi_{0} \\right)} + 1.0 k r_{1} z_{3} \\psi{\\left(t \\right)} \\sin{\\left(\\phi_{0} \\right)} - r_{1} \\operatorname{Fx}{\\left(t \\right)} \\psi{\\left(t \\right)} \\cos{\\left(\\phi_{0} \\right)}\\right) + M g r_{1} \\cos{\\left(\\phi_{0} \\right)} + O\\left(\\epsilon^{2}\\right)$"
      ],
      "text/plain": [
       "-r1*Fx(t)*sin(phi0) - 1.0*k*r1*z3*cos(phi0) + 1.0*k*r1*z1*cos(phi0) + 1.0*k*r1*x3*sin(phi0) - 1.0*k*r1*x1*sin(phi0) + 0.707106781186548*k*l0*r1*z3*cos(phi0)/(0.5*r1**2*sin(phi0)**2 + 0.5*r1**2*cos(phi0)**2 + r1*x1*cos(phi0) - r1*x3*cos(phi0) + r1*z1*sin(phi0) - r1*z3*sin(phi0) + 0.5*x1**2 - x1*x3 + 0.5*x3**2 + 0.5*z1**2 - z1*z3 + 0.5*z3**2)**0.5 - 0.707106781186548*k*l0*r1*z1*cos(phi0)/(0.5*r1**2*sin(phi0)**2 + 0.5*r1**2*cos(phi0)**2 + r1*x1*cos(phi0) - r1*x3*cos(phi0) + r1*z1*sin(phi0) - r1*z3*sin(phi0) + 0.5*x1**2 - x1*x3 + 0.5*x3**2 + 0.5*z1**2 - z1*z3 + 0.5*z3**2)**0.5 - 0.707106781186548*k*l0*r1*x3*sin(phi0)/(0.5*r1**2*sin(phi0)**2 + 0.5*r1**2*cos(phi0)**2 + r1*x1*cos(phi0) - r1*x3*cos(phi0) + r1*z1*sin(phi0) - r1*z3*sin(phi0) + 0.5*x1**2 - x1*x3 + 0.5*x3**2 + 0.5*z1**2 - z1*z3 + 0.5*z3**2)**0.5 + 0.707106781186548*k*l0*r1*x1*sin(phi0)/(0.5*r1**2*sin(phi0)**2 + 0.5*r1**2*cos(phi0)**2 + r1*x1*cos(phi0) - r1*x3*cos(phi0) + r1*z1*sin(phi0) - r1*z3*sin(phi0) + 0.5*x1**2 - x1*x3 + 0.5*x3**2 + 0.5*z1**2 - z1*z3 + 0.5*z3**2)**0.5 + epsilon*(-M*g*r1*psi(t)*sin(phi0) + 1.0*M*r1**2*Derivative(psi(t), (t, 2)) + 0.353553390593274*k*l0*r1**2*x1**2*psi(t)*sin(phi0)**2/(0.5*r1**2*sin(phi0)**2 + 0.5*r1**2*cos(phi0)**2 + r1*x1*cos(phi0) - r1*x3*cos(phi0) + r1*z1*sin(phi0) - r1*z3*sin(phi0) + 0.5*x1**2 - x1*x3 + 0.5*x3**2 + 0.5*z1**2 - z1*z3 + 0.5*z3**2)**1.5 - 0.707106781186548*k*l0*r1**2*x1*x3*psi(t)*sin(phi0)**2/(0.5*r1**2*sin(phi0)**2 + 0.5*r1**2*cos(phi0)**2 + r1*x1*cos(phi0) - r1*x3*cos(phi0) + r1*z1*sin(phi0) - r1*z3*sin(phi0) + 0.5*x1**2 - x1*x3 + 0.5*x3**2 + 0.5*z1**2 - z1*z3 + 0.5*z3**2)**1.5 - 0.707106781186548*k*l0*r1**2*x1*z1*psi(t)*sin(phi0)*cos(phi0)/(0.5*r1**2*sin(phi0)**2 + 0.5*r1**2*cos(phi0)**2 + r1*x1*cos(phi0) - r1*x3*cos(phi0) + r1*z1*sin(phi0) - r1*z3*sin(phi0) + 0.5*x1**2 - x1*x3 + 0.5*x3**2 + 0.5*z1**2 - z1*z3 + 0.5*z3**2)**1.5 + 0.707106781186548*k*l0*r1**2*x1*z3*psi(t)*sin(phi0)*cos(phi0)/(0.5*r1**2*sin(phi0)**2 + 0.5*r1**2*cos(phi0)**2 + r1*x1*cos(phi0) - r1*x3*cos(phi0) + r1*z1*sin(phi0) - r1*z3*sin(phi0) + 0.5*x1**2 - x1*x3 + 0.5*x3**2 + 0.5*z1**2 - z1*z3 + 0.5*z3**2)**1.5 + 0.353553390593274*k*l0*r1**2*x3**2*psi(t)*sin(phi0)**2/(0.5*r1**2*sin(phi0)**2 + 0.5*r1**2*cos(phi0)**2 + r1*x1*cos(phi0) - r1*x3*cos(phi0) + r1*z1*sin(phi0) - r1*z3*sin(phi0) + 0.5*x1**2 - x1*x3 + 0.5*x3**2 + 0.5*z1**2 - z1*z3 + 0.5*z3**2)**1.5 + 0.707106781186548*k*l0*r1**2*x3*z1*psi(t)*sin(phi0)*cos(phi0)/(0.5*r1**2*sin(phi0)**2 + 0.5*r1**2*cos(phi0)**2 + r1*x1*cos(phi0) - r1*x3*cos(phi0) + r1*z1*sin(phi0) - r1*z3*sin(phi0) + 0.5*x1**2 - x1*x3 + 0.5*x3**2 + 0.5*z1**2 - z1*z3 + 0.5*z3**2)**1.5 - 0.707106781186548*k*l0*r1**2*x3*z3*psi(t)*sin(phi0)*cos(phi0)/(0.5*r1**2*sin(phi0)**2 + 0.5*r1**2*cos(phi0)**2 + r1*x1*cos(phi0) - r1*x3*cos(phi0) + r1*z1*sin(phi0) - r1*z3*sin(phi0) + 0.5*x1**2 - x1*x3 + 0.5*x3**2 + 0.5*z1**2 - z1*z3 + 0.5*z3**2)**1.5 + 0.353553390593274*k*l0*r1**2*z1**2*psi(t)*cos(phi0)**2/(0.5*r1**2*sin(phi0)**2 + 0.5*r1**2*cos(phi0)**2 + r1*x1*cos(phi0) - r1*x3*cos(phi0) + r1*z1*sin(phi0) - r1*z3*sin(phi0) + 0.5*x1**2 - x1*x3 + 0.5*x3**2 + 0.5*z1**2 - z1*z3 + 0.5*z3**2)**1.5 - 0.707106781186548*k*l0*r1**2*z1*z3*psi(t)*cos(phi0)**2/(0.5*r1**2*sin(phi0)**2 + 0.5*r1**2*cos(phi0)**2 + r1*x1*cos(phi0) - r1*x3*cos(phi0) + r1*z1*sin(phi0) - r1*z3*sin(phi0) + 0.5*x1**2 - x1*x3 + 0.5*x3**2 + 0.5*z1**2 - z1*z3 + 0.5*z3**2)**1.5 + 0.353553390593274*k*l0*r1**2*z3**2*psi(t)*cos(phi0)**2/(0.5*r1**2*sin(phi0)**2 + 0.5*r1**2*cos(phi0)**2 + r1*x1*cos(phi0) - r1*x3*cos(phi0) + r1*z1*sin(phi0) - r1*z3*sin(phi0) + 0.5*x1**2 - x1*x3 + 0.5*x3**2 + 0.5*z1**2 - z1*z3 + 0.5*z3**2)**1.5 + 0.707106781186548*k*l0*r1*x1*psi(t)*cos(phi0)/(0.5*r1**2*sin(phi0)**2 + 0.5*r1**2*cos(phi0)**2 + r1*x1*cos(phi0) - r1*x3*cos(phi0) + r1*z1*sin(phi0) - r1*z3*sin(phi0) + 0.5*x1**2 - x1*x3 + 0.5*x3**2 + 0.5*z1**2 - z1*z3 + 0.5*z3**2)**0.5 - 0.707106781186548*k*l0*r1*x3*psi(t)*cos(phi0)/(0.5*r1**2*sin(phi0)**2 + 0.5*r1**2*cos(phi0)**2 + r1*x1*cos(phi0) - r1*x3*cos(phi0) + r1*z1*sin(phi0) - r1*z3*sin(phi0) + 0.5*x1**2 - x1*x3 + 0.5*x3**2 + 0.5*z1**2 - z1*z3 + 0.5*z3**2)**0.5 + 0.707106781186548*k*l0*r1*z1*psi(t)*sin(phi0)/(0.5*r1**2*sin(phi0)**2 + 0.5*r1**2*cos(phi0)**2 + r1*x1*cos(phi0) - r1*x3*cos(phi0) + r1*z1*sin(phi0) - r1*z3*sin(phi0) + 0.5*x1**2 - x1*x3 + 0.5*x3**2 + 0.5*z1**2 - z1*z3 + 0.5*z3**2)**0.5 - 0.707106781186548*k*l0*r1*z3*psi(t)*sin(phi0)/(0.5*r1**2*sin(phi0)**2 + 0.5*r1**2*cos(phi0)**2 + r1*x1*cos(phi0) - r1*x3*cos(phi0) + r1*z1*sin(phi0) - r1*z3*sin(phi0) + 0.5*x1**2 - x1*x3 + 0.5*x3**2 + 0.5*z1**2 - z1*z3 + 0.5*z3**2)**0.5 - 1.0*k*r1*x1*psi(t)*cos(phi0) + 1.0*k*r1*x3*psi(t)*cos(phi0) - 1.0*k*r1*z1*psi(t)*sin(phi0) + 1.0*k*r1*z3*psi(t)*sin(phi0) - r1*Fx(t)*psi(t)*cos(phi0)) + M*g*r1*cos(phi0) + O(epsilon**2)"
      ]
     },
     "execution_count": 12,
     "metadata": {},
     "output_type": "execute_result"
    }
   ],
   "source": [
    "# Linearize by doing series expansion up to order 2 (see last term of output)\n",
    "EOM_lin = series(EOM_psi2, epsilon, n=2)\n",
    "EOM_lin.evalf()"
   ]
  },
  {
   "cell_type": "code",
   "execution_count": 13,
   "metadata": {},
   "outputs": [
    {
     "data": {
      "text/latex": [
       "$\\displaystyle - r_{1} \\operatorname{Fx}{\\left(t \\right)} \\sin{\\left(\\phi_{0} \\right)} + \\epsilon \\left(- M g r_{1} \\psi{\\left(t \\right)} \\sin{\\left(\\phi_{0} \\right)} + 1.0 M r_{1}^{2} \\frac{d^{2}}{d t^{2}} \\psi{\\left(t \\right)} - r_{1} \\operatorname{Fx}{\\left(t \\right)} \\psi{\\left(t \\right)} \\cos{\\left(\\phi_{0} \\right)}\\right) + M g r_{1} \\cos{\\left(\\phi_{0} \\right)} + O\\left(\\epsilon^{2}\\right)$"
      ],
      "text/plain": [
       "-r1*Fx(t)*sin(phi0) + epsilon*(-M*g*r1*psi(t)*sin(phi0) + 1.0*M*r1**2*Derivative(psi(t), (t, 2)) - r1*Fx(t)*psi(t)*cos(phi0)) + M*g*r1*cos(phi0) + O(epsilon**2)"
      ]
     },
     "execution_count": 13,
     "metadata": {},
     "output_type": "execute_result"
    }
   ],
   "source": [
    "EOM_lin2 = EOM_lin.evalf(subs={k: 0}) # For faster execution\n",
    "EOM_lin2.evalf()"
   ]
  },
  {
   "cell_type": "code",
   "execution_count": 14,
   "metadata": {},
   "outputs": [
    {
     "data": {
      "text/latex": [
       "$\\displaystyle - M g r_{1} \\psi{\\left(t \\right)} \\sin{\\left(\\phi_{0} \\right)} + M g r_{1} \\cos{\\left(\\phi_{0} \\right)} + 1.0 M r_{1}^{2} \\frac{d^{2}}{d t^{2}} \\psi{\\left(t \\right)} - r_{1} \\operatorname{Fx}{\\left(t \\right)} \\psi{\\left(t \\right)} \\cos{\\left(\\phi_{0} \\right)} - r_{1} \\operatorname{Fx}{\\left(t \\right)} \\sin{\\left(\\phi_{0} \\right)}$"
      ],
      "text/plain": [
       "-M*g*r1*psi(t)*sin(phi0) + M*g*r1*cos(phi0) + 1.0*M*r1**2*Derivative(psi(t), (t, 2)) - r1*Fx(t)*psi(t)*cos(phi0) - r1*Fx(t)*sin(phi0)"
      ]
     },
     "execution_count": 14,
     "metadata": {},
     "output_type": "execute_result"
    }
   ],
   "source": [
    "# Simplify and say that the \"epsilon\" was just a temorary value for perturbations\n",
    "EOM_lin3 = EOM_lin2.removeO().evalf(subs={epsilon: 1})\n",
    "EOM_lin3.evalf()"
   ]
  },
  {
   "cell_type": "code",
   "execution_count": 15,
   "metadata": {},
   "outputs": [
    {
     "data": {
      "text/latex": [
       "$\\displaystyle \\frac{M g \\left(\\psi{\\left(t \\right)} \\sin{\\left(\\phi_{0} \\right)} - \\cos{\\left(\\phi_{0} \\right)}\\right) + \\left(\\psi{\\left(t \\right)} \\cos{\\left(\\phi_{0} \\right)} + \\sin{\\left(\\phi_{0} \\right)}\\right) \\operatorname{Fx}{\\left(t \\right)}}{M r_{1}}$"
      ],
      "text/plain": [
       "(M*g*(psi(t)*sin(phi0) - cos(phi0)) + (psi(t)*cos(phi0) + sin(phi0))*Fx(t))/(M*r1)"
      ]
     },
     "execution_count": 15,
     "metadata": {},
     "output_type": "execute_result"
    }
   ],
   "source": [
    "# Isolate the acceleration\n",
    "EOM_lin_iso = solve(EOM_lin3, diff(psi, (t, 2)))\n",
    "EOM_lin_iso[0].evalf()"
   ]
  },
  {
   "cell_type": "markdown",
   "metadata": {},
   "source": [
    "The EOM of an actual pendulum can be recovered by removing the spring and the external force. Note that this returns a cos because $\\phi (t)=0$ was set to the right, rather than downward which is more conventional for a pendulum."
   ]
  },
  {
   "cell_type": "code",
   "execution_count": 16,
   "metadata": {},
   "outputs": [
    {
     "name": "stdout",
     "output_type": "stream",
     "text": [
      "(-M*g*psi(t) - Fx(t))/(M*r1)\n"
     ]
    }
   ],
   "source": [
    "# Setting k=0 (done before) and phi0 straight down, you should recover the pendulum equation found in tutorial 2_1\n",
    "EOM_lin_iso2 = EOM_lin_iso[0].evalf(subs={phi0: 3*pi/2, k: 0})\n",
    "print(EOM_lin_iso2)"
   ]
  },
  {
   "attachments": {},
   "cell_type": "markdown",
   "metadata": {},
   "source": [
    "In the code above the high length of the expressions is a consequence of machine precision. This makes the execution times a multitude larger as well. Depending on the application it becomes more and more usefulf to simplify as early as possible in hte process. adding $k: 0$ (or another value) to one of the earlier dictionaries for example does the trick here, but it can only be applied if the goal was to not include a constant stiffness spring in the first place."
   ]
  },
  {
   "cell_type": "markdown",
   "metadata": {},
   "source": [
    "## Bonus: Obtaining the EOMs for nDOF system\n",
    "\n",
    "If your system contains multiple DOFs, you will have to take the derivative of $L$ towards each of these separately, thereby obtaining the EOM for each DOF. Let's say you obtained the following two EOMs (the EOMs are just random things I entered):"
   ]
  },
  {
   "cell_type": "code",
   "execution_count": 17,
   "metadata": {},
   "outputs": [
    {
     "data": {
      "text/latex": [
       "$\\displaystyle - c u{\\left(t \\right)} e^{u{\\left(t \\right)} w{\\left(t \\right)}} \\log{\\left(\\sqrt{t} \\right)}^{2} \\left(\\frac{d}{d t} w{\\left(t \\right)}\\right)^{2} - c \\frac{d}{d t} w{\\left(t \\right)} - k u{\\left(t \\right)} + m \\sin{\\left(u{\\left(t \\right)} \\right)} \\frac{d^{2}}{d t^{2}} w{\\left(t \\right)} + m \\cos{\\left(w{\\left(t \\right)} \\right)} \\frac{d^{2}}{d t^{2}} u{\\left(t \\right)}$"
      ],
      "text/plain": [
       "-c*u(t)*exp(u(t)*w(t))*log(sqrt(t))**2*Derivative(w(t), t)**2 - c*Derivative(w(t), t) - k*u(t) + m*sin(u(t))*Derivative(w(t), (t, 2)) + m*cos(w(t))*Derivative(u(t), (t, 2))"
      ]
     },
     "execution_count": 17,
     "metadata": {},
     "output_type": "execute_result"
    }
   ],
   "source": [
    "var(\"m c k J d q\")\n",
    "u = Function(\"u\")(t)\n",
    "w = Function(\"w\")(t)\n",
    "\n",
    "eom1 = m*cos(w)*diff(u, (t, 2)) + m*sin(u)*diff(w, (t, 2)) - c*diff(w, t) - c*diff(w, t)**2*u*ln(sqrt(t))**2*exp(u*w) - k*u\n",
    "eom1.evalf()"
   ]
  },
  {
   "cell_type": "code",
   "execution_count": 18,
   "metadata": {},
   "outputs": [
    {
     "data": {
      "text/latex": [
       "$\\displaystyle J w^{2}{\\left(t \\right)} \\frac{d^{2}}{d t^{2}} u{\\left(t \\right)} + J \\frac{d}{d t} w{\\left(t \\right)} \\frac{d^{2}}{d t^{2}} w{\\left(t \\right)} - d \\frac{d}{d t} w{\\left(t \\right)} + q u{\\left(t \\right)}$"
      ],
      "text/plain": [
       "J*w(t)**2*Derivative(u(t), (t, 2)) + J*Derivative(w(t), t)*Derivative(w(t), (t, 2)) - d*Derivative(w(t), t) + q*u(t)"
      ]
     },
     "execution_count": 18,
     "metadata": {},
     "output_type": "execute_result"
    }
   ],
   "source": [
    "eom2 = J*w**2*diff(u, (t, 2)) + J*diff(w, t)*diff(w, (t, 2)) - d*diff(w, t) + q*u\n",
    "eom2.evalf()"
   ]
  },
  {
   "cell_type": "markdown",
   "metadata": {},
   "source": [
    "You can collect both EOMs into matrix form using the following code:"
   ]
  },
  {
   "cell_type": "code",
   "execution_count": 19,
   "metadata": {},
   "outputs": [],
   "source": [
    "# linear_eq_to_matrix only accepts symbols, therefore we have to substitute the second derivative functions with symbols a1 and a2\n",
    "a1, a2 = symbols(\"a1 a2\") # acceler u and acceler w\n",
    "eom1 = eom1.evalf(subs={diff(u, (t, 2)): a1, diff(w, (t, 2)): a2})\n",
    "eom2 = eom2.evalf(subs={diff(u, (t, 2)): a1, diff(w, (t, 2)): a2})\n",
    "MTRX = linear_eq_to_matrix([eom1, eom2], [a1, a2])"
   ]
  },
  {
   "cell_type": "markdown",
   "metadata": {},
   "source": [
    "Resulting in the following system of equations:"
   ]
  },
  {
   "cell_type": "code",
   "execution_count": 20,
   "metadata": {},
   "outputs": [
    {
     "data": {
      "text/latex": [
       "$\\displaystyle \\left[\\begin{matrix}m \\cos{\\left(w{\\left(t \\right)} \\right)} & m \\sin{\\left(u{\\left(t \\right)} \\right)}\\\\J w^{2}{\\left(t \\right)} & J \\frac{d}{d t} w{\\left(t \\right)}\\end{matrix}\\right]$"
      ],
      "text/plain": [
       "Matrix([\n",
       "[m*cos(w(t)),           m*sin(u(t))],\n",
       "[  J*w(t)**2, J*Derivative(w(t), t)]])"
      ]
     },
     "execution_count": 20,
     "metadata": {},
     "output_type": "execute_result"
    }
   ],
   "source": [
    "M = MTRX[0]\n",
    "M.evalf()"
   ]
  },
  {
   "cell_type": "markdown",
   "metadata": {},
   "source": [
    "And the following right-hand-side:"
   ]
  },
  {
   "cell_type": "code",
   "execution_count": 21,
   "metadata": {},
   "outputs": [
    {
     "data": {
      "text/latex": [
       "$\\displaystyle \\left[\\begin{matrix}c u{\\left(t \\right)} e^{u{\\left(t \\right)} w{\\left(t \\right)}} \\log{\\left(\\sqrt{t} \\right)}^{2} \\left(\\frac{d}{d t} w{\\left(t \\right)}\\right)^{2} + c \\frac{d}{d t} w{\\left(t \\right)} + k u{\\left(t \\right)}\\\\d \\frac{d}{d t} w{\\left(t \\right)} - q u{\\left(t \\right)}\\end{matrix}\\right]$"
      ],
      "text/plain": [
       "Matrix([\n",
       "[c*u(t)*exp(u(t)*w(t))*log(sqrt(t))**2*Derivative(w(t), t)**2 + c*Derivative(w(t), t) + k*u(t)],\n",
       "[                                                               d*Derivative(w(t), t) - q*u(t)]])"
      ]
     },
     "execution_count": 21,
     "metadata": {},
     "output_type": "execute_result"
    }
   ],
   "source": [
    "F = MTRX[1]\n",
    "F.evalf()"
   ]
  }
 ],
 "metadata": {
  "kernelspec": {
   "display_name": "Python 3",
   "language": "python",
   "name": "python3"
  },
  "language_info": {
   "codemirror_mode": {
    "name": "ipython",
    "version": 3
   },
   "file_extension": ".py",
   "mimetype": "text/x-python",
   "name": "python",
   "nbconvert_exporter": "python",
   "pygments_lexer": "ipython3",
   "version": "3.10.10"
  },
  "vscode": {
   "interpreter": {
    "hash": "cbd884b27ce8a521f14a4395d2fc856cd6c799b684d9efdb8253cb562c6eeba0"
   }
  }
 },
 "nbformat": 4,
 "nbformat_minor": 4
}
