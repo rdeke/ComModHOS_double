{
 "cells": [
  {
   "attachments": {},
   "cell_type": "markdown",
   "metadata": {},
   "source": [
    "# Tutorial 2.3: Deriving the EOM of a 2DOF system\n",
    "\n",
    "<center><img src=\"../images/Module2/w2_t3_mcksystem2dof.png\" width=\"400\" /></center>"
   ]
  },
  {
   "attachments": {},
   "cell_type": "markdown",
   "metadata": {},
   "source": [
    "## Part 1: Kinematic equations\n",
    "\n",
    "We first start by defining the variables. Assuming that x1, and x2 are the positions of block 1 and 2 respectively. The wall is located at x0"
   ]
  },
  {
   "cell_type": "code",
   "execution_count": 189,
   "metadata": {},
   "outputs": [],
   "source": [
    "import numpy as np\n",
    "import matplotlib.pyplot as plt\n",
    "from scipy.integrate import solve_ivp\n",
    "from sympy import *\n",
    "\n",
    "var(\"t x0 x1 x2\")      \n",
    "x1 = Function(\"x1\")(t)\n",
    "x2 = Function(\"x2\")(t)\n"
   ]
  },
  {
   "cell_type": "code",
   "execution_count": 190,
   "metadata": {},
   "outputs": [],
   "source": [
    "# Define the kinematic relations here"
   ]
  },
  {
   "attachments": {},
   "cell_type": "markdown",
   "metadata": {},
   "source": [
    "The velocities can then be obtained using:\n",
    "\n",
    "-----------------------------------------------------------------------------------------------------\n",
    "**Problem**: Define the velocities\n",
    "\n",
    "*Hint*: Use derivatives.\n",
    "\n",
    "---------------------------------------------------------------------------------------------------"
   ]
  },
  {
   "cell_type": "code",
   "execution_count": 191,
   "metadata": {},
   "outputs": [],
   "source": [
    "# Compute/define the velocities here"
   ]
  },
  {
   "attachments": {},
   "cell_type": "markdown",
   "metadata": {},
   "source": [
    "## Part 2: Energy equations\n",
    "### Kinetic energy:\n",
    "There are 2 masses in this system.\n",
    "\n",
    "-----------------------------------------------------------------------------------------------------\n",
    "**Problem**: Define the kinetic energy\n",
    "\n",
    "---------------------------------------------------------------------------------------------------"
   ]
  },
  {
   "cell_type": "code",
   "execution_count": 192,
   "metadata": {},
   "outputs": [],
   "source": [
    "var(\"m1 m2\")\n",
    "# Define the kinetic energy here (T)\n"
   ]
  },
  {
   "attachments": {},
   "cell_type": "markdown",
   "metadata": {},
   "source": [
    "### Potential energy:"
   ]
  },
  {
   "attachments": {},
   "cell_type": "markdown",
   "metadata": {},
   "source": [
    "The work done by the spring between the wall and block 1, and between block 1 and 2 contributes to the potential energy. When assuming that the spring length does not change in time, the work done is dependent not on x1 and x2, but on the change in length.\n",
    "\n",
    "-----------------------------------------------------------------------------------------------------\n",
    "**Problem**: Define the potential energy V.\n",
    "\n",
    "---------------------------------------------------------------------------------------------------"
   ]
  },
  {
   "cell_type": "code",
   "execution_count": 193,
   "metadata": {},
   "outputs": [],
   "source": [
    "var(\"k1 l1_0 k2 l2_0\")\n",
    "# Define the potential energy here (V)"
   ]
  },
  {
   "attachments": {},
   "cell_type": "markdown",
   "metadata": {},
   "source": [
    "### Work by external force\n",
    "The work done by an external force working in the horizontal direction. The forces act on block 1 and 2 respectively\n",
    "\n",
    "-----------------------------------------------------------------------------------------------------\n",
    "**Problem**: Define the external work.\n",
    "\n",
    "---------------------------------------------------------------------------------------------------"
   ]
  },
  {
   "cell_type": "code",
   "execution_count": 194,
   "metadata": {},
   "outputs": [],
   "source": [
    "F1 = Function(\"F1\")(t)\n",
    "F2 = Function(\"F2\")(t)\n",
    "\n",
    "# Define your external work here (W)"
   ]
  },
  {
   "attachments": {},
   "cell_type": "markdown",
   "metadata": {},
   "source": [
    "## Step 3: Construct the Lagrangian\n",
    "\n",
    "-----------------------------------------------------------------------------------------------------\n",
    "**Problem**: Use T, V and W to find the lagrangian L. Simplify it using L.evalf()\n",
    "\n",
    "---------------------------------------------------------------------------------------------------"
   ]
  },
  {
   "cell_type": "code",
   "execution_count": 195,
   "metadata": {},
   "outputs": [],
   "source": [
    "# Define your Lagrangian here (L)"
   ]
  },
  {
   "attachments": {},
   "cell_type": "markdown",
   "metadata": {},
   "source": [
    "### Dissipating energy\n",
    "\n",
    "The contribution of the dashpot system must be added too. This is prepared here."
   ]
  },
  {
   "cell_type": "code",
   "execution_count": 196,
   "metadata": {},
   "outputs": [],
   "source": [
    "var(\"c1 c2\")\n",
    "# the dashpots depend on dl as well!\n",
    "v_dl1 = diff(dl1, t)\n",
    "v_dl2 = diff(dl2, t)\n",
    "\n",
    "D = 0.5*c1*v_dl1**2 + 0.5*c2*v_dl2**2"
   ]
  },
  {
   "attachments": {},
   "cell_type": "markdown",
   "metadata": {},
   "source": [
    "## Step 4: Obtaining the EoM\n",
    "\n",
    "In order to obtain the EoMs we have to take derivatives w.r.t. $x_1$ and its velocity, as well as $x_2$. "
   ]
  },
  {
   "cell_type": "code",
   "execution_count": 197,
   "metadata": {},
   "outputs": [],
   "source": [
    "# Compute the EOM here\n",
    "EOM_x1 = diff( diff(L, diff(x1,   t)), t) + diff(D, v1)- diff(L, x1)\n",
    "EOM_x2 = diff( diff(L, diff(x2,   t)), t) + diff(D, v2)- diff(L, x2)"
   ]
  },
  {
   "attachments": {},
   "cell_type": "markdown",
   "metadata": {},
   "source": [
    "Now we isolate it for the acceleration. Then we convert the EOM to matrices for easier interpretation. "
   ]
  },
  {
   "cell_type": "code",
   "execution_count": 198,
   "metadata": {},
   "outputs": [],
   "source": [
    "var(\"acc1 acc2 vel1 vel2\")\n",
    "\n",
    "dict_values = {Derivative(x1, (t,2)): acc1,\n",
    "               Derivative(x2, (t,2)): acc2,\n",
    "               Derivative(x1, t): vel1,\n",
    "               Derivative(x2, t): vel2}\n",
    "\n",
    "EOM_1 = EOM_x1.evalf(subs=dict_values)\n",
    "EOM_2 = EOM_x2.evalf(subs=dict_values)\n",
    "\n",
    "MTRX = linear_eq_to_matrix([EOM_1, EOM_2], [acc1, acc2])\n",
    "\n",
    "M = MTRX[0]\n",
    "F = MTRX[1]"
   ]
  },
  {
   "cell_type": "code",
   "execution_count": 199,
   "metadata": {},
   "outputs": [
    {
     "data": {
      "text/latex": [
       "$\\displaystyle \\left[\\begin{matrix}1.0 m_{1} & 0\\\\0 & 1.0 m_{2}\\end{matrix}\\right]$"
      ],
      "text/plain": [
       "Matrix([\n",
       "[1.0*m1,      0],\n",
       "[     0, 1.0*m2]])"
      ]
     },
     "execution_count": 199,
     "metadata": {},
     "output_type": "execute_result"
    }
   ],
   "source": [
    "M"
   ]
  },
  {
   "cell_type": "code",
   "execution_count": 200,
   "metadata": {},
   "outputs": [
    {
     "data": {
      "text/latex": [
       "$\\displaystyle \\left[\\begin{matrix}- 1.0 c_{1} vel_{1} - 0.5 c_{2} \\cdot \\left(2.0 vel_{1} - 2.0 vel_{2}\\right) - 0.5 k_{1} \\left(- 2.0 l_{1 0} - 2.0 x_{0} + 2.0 x_{1}{\\left(t \\right)}\\right) - 0.5 k_{2} \\cdot \\left(2.0 l_{2 0} + 2.0 x_{1}{\\left(t \\right)} - 2.0 x_{2}{\\left(t \\right)}\\right) - F_{1}{\\left(t \\right)}\\\\- 0.5 c_{2} \\left(- 2.0 vel_{1} + 2.0 vel_{2}\\right) - 0.5 k_{2} \\left(- 2.0 l_{2 0} - 2.0 x_{1}{\\left(t \\right)} + 2.0 x_{2}{\\left(t \\right)}\\right) - F_{2}{\\left(t \\right)}\\end{matrix}\\right]$"
      ],
      "text/plain": [
       "Matrix([\n",
       "[-1.0*c1*vel1 - 0.5*c2*(2.0*vel1 - 2.0*vel2) - 0.5*k1*(-2.0*l1_0 - 2.0*x0 + 2.0*x1(t)) - 0.5*k2*(2.0*l2_0 + 2.0*x1(t) - 2.0*x2(t)) - F1(t)],\n",
       "[                                                      -0.5*c2*(-2.0*vel1 + 2.0*vel2) - 0.5*k2*(-2.0*l2_0 - 2.0*x1(t) + 2.0*x2(t)) - F2(t)]])"
      ]
     },
     "execution_count": 200,
     "metadata": {},
     "output_type": "execute_result"
    }
   ],
   "source": [
    "F"
   ]
  },
  {
   "attachments": {},
   "cell_type": "markdown",
   "metadata": {},
   "source": [
    "As one can see, this system is already linearized. We can therefore immediately start solving the system. In case of a non-linear example, the linearization must be performed for each EOM separately."
   ]
  },
  {
   "attachments": {},
   "cell_type": "markdown",
   "metadata": {},
   "source": [
    "## Step 5: Solve the equation"
   ]
  },
  {
   "cell_type": "code",
   "execution_count": 208,
   "metadata": {},
   "outputs": [],
   "source": [
    "# Just plugging in some random variables\n",
    "wall_x0 = 0\n",
    "mass1 = 1\n",
    "mass2 = 2\n",
    "damp1 = 3\n",
    "damp2 = 4\n",
    "spring1 = 50\n",
    "spring2 = 60\n",
    "length1_0 = 7\n",
    "length2_0 = 8\n",
    "t0 = 0\n",
    "tf = 10\n",
    "def Force_func_1(t):\n",
    "    return 10 * np.cos(np.pi * t)\n",
    "def Force_func_2(t):\n",
    "    return 1 - 3 * np.sin(3 * np.pi * t)\n",
    "\n",
    "def qdot(time,q):\n",
    "    \n",
    "    vt = q[int(len(q)/2):]\n",
    "    \n",
    "    Force1 =  Force_func_1(time)\n",
    "    Force2 =  Force_func_2(time)\n",
    "    dict_values = { x0: wall_x0,\n",
    "                    F1: Force1, F2: Force2, \n",
    "                    m1: mass1, m2: mass2,\n",
    "                    c1: damp1, c2: damp2,\n",
    "                    k1: spring1, k2: spring2,\n",
    "                    l1_0: length1_0, l2_0: length2_0,\n",
    "                    x1: q[0], x2: q[1],\n",
    "                    vel1: q[2], vel2: q[3]}  \n",
    "    Mass_matr =  M.evalf(subs=dict_values)\n",
    "    Force_vect = F.evalf(subs=dict_values)\n",
    "    at = Mass_matr.inv()*Force_vect\n",
    "    \n",
    "    return list(vt) + list(np.transpose(at)[0])"
   ]
  },
  {
   "cell_type": "code",
   "execution_count": 209,
   "metadata": {},
   "outputs": [],
   "source": [
    "disp0 = [length1_0,length2_0]\n",
    "velo0 = [0,0]\n",
    "q0 = disp0+velo0\n",
    "sol = solve_ivp(fun=qdot,t_span=[0,tf],y0=q0)"
   ]
  },
  {
   "cell_type": "code",
   "execution_count": 210,
   "metadata": {},
   "outputs": [
    {
     "data": {
      "image/png": "[encoded data removed]",
      "text/plain": [
       "<Figure size 640x480 with 1 Axes>"
      ]
     },
     "metadata": {},
     "output_type": "display_data"
    }
   ],
   "source": [
    "plt.plot(sol.t,sol.y[0]-length1_0, label=\"x1\")\n",
    "plt.plot(sol.t,sol.y[1]-length2_0, label=\"x2\")\n",
    "plt.xlabel(\"Time [s]\")\n",
    "plt.ylabel(\"Excursion from initial position [m]\")\n",
    "plt.title(\"MCK-system motion from Lagrangian equations\")\n",
    "plt.legend();"
   ]
  },
  {
   "attachments": {},
   "cell_type": "markdown",
   "metadata": {},
   "source": [
    "We see some interesting points here:\n",
    "- The results look quite complex, indicating that a numerical solution is most likely a lot easier than trying to derive the solution analytically.\n",
    "- The x2 trace diverges from the mean line, this is off course a consquence of the first term of `Force_func_2(t)`\n",
    "- The high values of the excursion are a consquence of the choice of input parameters. Higher stiffnesses will reduce the excursions. Do take into account that higher stiffnesses result in higher accelerations, reducting the time step that solve_ivp uses. This may increase calculation times."
   ]
  },
  {
   "attachments": {},
   "cell_type": "markdown",
   "metadata": {},
   "source": [
    "-----------------------------------------------------------------------------------------------------\n",
    "[The solution can be found here.](w2_t3_sol.ipynb)"
   ]
  }
 ],
 "metadata": {
  "kernelspec": {
   "display_name": "Python 3",
   "language": "python",
   "name": "python3"
  },
  "language_info": {
   "codemirror_mode": {
    "name": "ipython",
    "version": 3
   },
   "file_extension": ".py",
   "mimetype": "text/x-python",
   "name": "python",
   "nbconvert_exporter": "python",
   "pygments_lexer": "ipython3",
   "version": "3.10.10"
  },
  "vscode": {
   "interpreter": {
    "hash": "cbd884b27ce8a521f14a4395d2fc856cd6c799b684d9efdb8253cb562c6eeba0"
   }
  }
 },
 "nbformat": 4,
 "nbformat_minor": 4
}
