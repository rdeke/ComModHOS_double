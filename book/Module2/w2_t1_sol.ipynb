{
 "cells": [
  {
   "attachments": {},
   "cell_type": "markdown",
   "metadata": {},
   "source": [
    "# Tutorial 2.1: Linearizing the Equations of Motion (Solution)\n",
    "In this tutorial you will learn to linearize the Equations of Motion of the pendulum as covered in the lecture. "
   ]
  },
  {
   "cell_type": "code",
   "execution_count": 1,
   "metadata": {},
   "outputs": [],
   "source": [
    "# for time comparison later\n",
    "import time\n",
    "start_time = time.time()"
   ]
  },
  {
   "attachments": {},
   "cell_type": "markdown",
   "metadata": {},
   "source": [
    "## Part 1: Kinematic equations\n",
    "\n",
    "We first start by defining the variables. Let's start with the kinematic relations of a pendulum hanging from the point $(x_1, z_1)$. Note that the horizontal coordinate x is defined with a cosine, indicating that the angle is defined counter-clockwise starting from the horizontal. A hanging pendulum thus has $\\phi_1 = \\frac{-\\pi}{2} = \\frac{3\\pi}{2}$."
   ]
  },
  {
   "cell_type": "code",
   "execution_count": 2,
   "metadata": {},
   "outputs": [],
   "source": [
    "from sympy import *\n",
    "var(\"t x1 z1 r phi0\") # independent variables      \n",
    "phi1 = Function(\"phi1\")(t)\n",
    "x2 = x1 + r*cos(phi1)\n",
    "z2 = z1 + r*sin(phi1)"
   ]
  },
  {
   "cell_type": "markdown",
   "metadata": {},
   "source": [
    "The velocities can then be obtained using:"
   ]
  },
  {
   "cell_type": "code",
   "execution_count": 3,
   "metadata": {},
   "outputs": [],
   "source": [
    "xdot = diff(x2, t)\n",
    "zdot = diff(z2, t)"
   ]
  },
  {
   "cell_type": "markdown",
   "metadata": {},
   "source": [
    "## Part 2: Energy equations\n",
    "### Kinetic energy:\n",
    "The in this system is $m$, such that the kinetic energy is given by:"
   ]
  },
  {
   "cell_type": "code",
   "execution_count": 4,
   "metadata": {},
   "outputs": [
    {
     "data": {
      "text/latex": [
       "$\\displaystyle 0.5 m \\left(r^{2} \\sin^{2}{\\left(\\phi_{1}{\\left(t \\right)} \\right)} \\left(\\frac{d}{d t} \\phi_{1}{\\left(t \\right)}\\right)^{2} + r^{2} \\cos^{2}{\\left(\\phi_{1}{\\left(t \\right)} \\right)} \\left(\\frac{d}{d t} \\phi_{1}{\\left(t \\right)}\\right)^{2}\\right)$"
      ],
      "text/plain": [
       "0.5*m*(r**2*sin(phi1(t))**2*Derivative(phi1(t), t)**2 + r**2*cos(phi1(t))**2*Derivative(phi1(t), t)**2)"
      ]
     },
     "execution_count": 4,
     "metadata": {},
     "output_type": "execute_result"
    }
   ],
   "source": [
    "var(\"m\")\n",
    "T = 0.5*m*(xdot**2 + zdot**2)\n",
    "T.evalf()"
   ]
  },
  {
   "cell_type": "markdown",
   "metadata": {},
   "source": [
    "This expression can be simplified to:"
   ]
  },
  {
   "cell_type": "code",
   "execution_count": 5,
   "metadata": {},
   "outputs": [
    {
     "data": {
      "text/latex": [
       "$\\displaystyle 0.5 m r^{2} \\left(\\frac{d}{d t} \\phi_{1}{\\left(t \\right)}\\right)^{2}$"
      ],
      "text/plain": [
       "0.5*m*r**2*Derivative(phi1(t), t)**2"
      ]
     },
     "execution_count": 5,
     "metadata": {},
     "output_type": "execute_result"
    }
   ],
   "source": [
    "T = simplify(T) # Linearization\n",
    "T.evalf()"
   ]
  },
  {
   "cell_type": "markdown",
   "metadata": {},
   "source": [
    "### Potential energy:\n",
    "The potential energy on the pendulum is due to gravity:"
   ]
  },
  {
   "cell_type": "code",
   "execution_count": 6,
   "metadata": {},
   "outputs": [
    {
     "data": {
      "text/latex": [
       "$\\displaystyle g m \\left(r \\sin{\\left(\\phi_{1}{\\left(t \\right)} \\right)} + z_{1}\\right)$"
      ],
      "text/plain": [
       "g*m*(r*sin(phi1(t)) + z1)"
      ]
     },
     "execution_count": 6,
     "metadata": {},
     "output_type": "execute_result"
    }
   ],
   "source": [
    "var(\"g\")\n",
    "V = m*g*z2\n",
    "V.evalf()"
   ]
  },
  {
   "cell_type": "markdown",
   "metadata": {},
   "source": [
    "## Step 3: Construct the Lagrangian"
   ]
  },
  {
   "cell_type": "code",
   "execution_count": 7,
   "metadata": {},
   "outputs": [
    {
     "data": {
      "text/latex": [
       "$\\displaystyle - g m \\left(r \\sin{\\left(\\phi_{1}{\\left(t \\right)} \\right)} + z_{1}\\right) + 0.5 m r^{2} \\left(\\frac{d}{d t} \\phi_{1}{\\left(t \\right)}\\right)^{2}$"
      ],
      "text/plain": [
       "-g*m*(r*sin(phi1(t)) + z1) + 0.5*m*r**2*Derivative(phi1(t), t)**2"
      ]
     },
     "execution_count": 7,
     "metadata": {},
     "output_type": "execute_result"
    }
   ],
   "source": [
    "L = T - V\n",
    "L.evalf()"
   ]
  },
  {
   "cell_type": "markdown",
   "metadata": {},
   "source": [
    "## Step 4: Obtaining the EoM\n",
    "\n",
    "In order to obtain the EoMs we have to take derivatives w.r.t. $\\phi_1$ and its velocity. "
   ]
  },
  {
   "cell_type": "code",
   "execution_count": 8,
   "metadata": {},
   "outputs": [
    {
     "data": {
      "text/latex": [
       "$\\displaystyle m r \\left(g \\cos{\\left(\\phi_{1}{\\left(t \\right)} \\right)} + 1.0 r \\frac{d^{2}}{d t^{2}} \\phi_{1}{\\left(t \\right)}\\right)$"
      ],
      "text/plain": [
       "m*r*(g*cos(phi1(t)) + 1.0*r*Derivative(phi1(t), (t, 2)))"
      ]
     },
     "execution_count": 8,
     "metadata": {},
     "output_type": "execute_result"
    }
   ],
   "source": [
    "EOM_phi = diff( diff(L, diff(phi1, t)), t) - diff(L, phi1)\n",
    "# ! LHS needs derivative to get \"velocity\"\n",
    "EOM_phi = simplify(EOM_phi)\n",
    "EOM_phi.evalf()"
   ]
  },
  {
   "attachments": {},
   "cell_type": "markdown",
   "metadata": {},
   "source": [
    "The equation is nonlinear since it depends on the cosine of the angle. We want to obtain a linear function, so let's linearize. We consider a perturbation around the point we want to linearize ($\\phi_0$). We linearize with the following function substitution: $\\phi_1(t) = \\phi_0 + \\epsilon \\psi(t)$. The $\\epsilon$ is added in order to apply the Taylor series expansion. \n",
    "\n",
    "On a technical note: Using SymPy for function substitution can be tricky, hence we will use temporary symbols called `tmp1` and `tmp2` in order to do the substitution."
   ]
  },
  {
   "cell_type": "code",
   "execution_count": 9,
   "metadata": {},
   "outputs": [
    {
     "name": "stdout",
     "output_type": "stream",
     "text": [
      "m*r*(g*cos(epsilon*psi(t) + phi0) + 1.0*r*Derivative(epsilon*psi(t) + phi0, (t, 2)))\n"
     ]
    },
    {
     "data": {
      "text/latex": [
       "$\\displaystyle m r \\left(g \\cos{\\left(\\epsilon \\psi{\\left(t \\right)} + \\phi_{0} \\right)} + 1.0 r \\frac{\\partial^{2}}{\\partial t^{2}} \\left(\\epsilon \\psi{\\left(t \\right)} + \\phi_{0}\\right)\\right)$"
      ],
      "text/plain": [
       "m*r*(g*cos(epsilon*psi(t) + phi0) + 1.0*r*Derivative(epsilon*psi(t) + phi0, (t, 2)))"
      ]
     },
     "execution_count": 9,
     "metadata": {},
     "output_type": "execute_result"
    }
   ],
   "source": [
    "var(\"phi0 epsilon\")\n",
    "psi = Function(\"psi\")(t) # perturbation function\n",
    "\n",
    "tmp1 = symbols(\"tmp1\")\n",
    "EOM_psi = EOM_phi.evalf(subs={phi1: tmp1})\n",
    "EOM_psi = EOM_psi.evalf(subs={tmp1: phi0 + epsilon*psi})\n",
    "print(EOM_psi)\n",
    "EOM_psi.evalf()"
   ]
  },
  {
   "cell_type": "markdown",
   "metadata": {},
   "source": [
    "Now, we can apply the Taylor series expansion using the function $\\epsilon$ as a variable."
   ]
  },
  {
   "cell_type": "code",
   "execution_count": 10,
   "metadata": {},
   "outputs": [
    {
     "data": {
      "text/latex": [
       "$\\displaystyle 1.0 m r^{2} \\frac{d^{2}}{d t^{2}} \\phi_{0} + g m r \\cos{\\left(\\phi_{0} \\right)} + \\epsilon \\left(- g m r \\psi{\\left(t \\right)} \\sin{\\left(\\phi_{0} \\right)} + 1.0 m r^{2} \\frac{d^{2}}{d t^{2}} \\psi{\\left(t \\right)}\\right) + O\\left(\\epsilon^{2}\\right)$"
      ],
      "text/plain": [
       "1.0*m*r**2*Derivative(phi0, (t, 2)) + g*m*r*cos(phi0) + epsilon*(-g*m*r*psi(t)*sin(phi0) + 1.0*m*r**2*Derivative(psi(t), (t, 2))) + O(epsilon**2)"
      ]
     },
     "execution_count": 10,
     "metadata": {},
     "output_type": "execute_result"
    }
   ],
   "source": [
    "EOM_lin = series(EOM_psi, epsilon, n=2)\n",
    "EOM_lin.evalf()"
   ]
  },
  {
   "cell_type": "markdown",
   "metadata": {},
   "source": [
    "Note that we know that $\\frac{d^2\\phi_0}{dt^2}=0$, so we can redefine the derivative in terms of $\\psi$ only."
   ]
  },
  {
   "cell_type": "code",
   "execution_count": 11,
   "metadata": {},
   "outputs": [
    {
     "data": {
      "text/latex": [
       "$\\displaystyle m r \\left(1.0 \\epsilon r \\frac{d^{2}}{d t^{2}} \\psi{\\left(t \\right)} + g \\cos{\\left(\\epsilon \\psi{\\left(t \\right)} + \\phi_{0} \\right)}\\right)$"
      ],
      "text/plain": [
       "m*r*(1.0*epsilon*r*Derivative(psi(t), (t, 2)) + g*cos(epsilon*psi(t) + phi0))"
      ]
     },
     "execution_count": 11,
     "metadata": {},
     "output_type": "execute_result"
    }
   ],
   "source": [
    "tmp2 = symbols(\"tmp2\")\n",
    "EOM_psi2 = EOM_phi.evalf(subs={diff(phi1, (t, 2)): tmp2, phi1: tmp1})\n",
    "EOM_psi2 = EOM_psi2.evalf(subs={tmp2: diff(phi0 + epsilon*psi, (t, 2)), tmp1: phi0 + epsilon*psi})\n",
    "EOM_psi2.evalf()"
   ]
  },
  {
   "cell_type": "code",
   "execution_count": 12,
   "metadata": {},
   "outputs": [
    {
     "data": {
      "text/latex": [
       "$\\displaystyle g m r \\cos{\\left(\\phi_{0} \\right)} + \\epsilon \\left(- g m r \\psi{\\left(t \\right)} \\sin{\\left(\\phi_{0} \\right)} + 1.0 m r^{2} \\frac{d^{2}}{d t^{2}} \\psi{\\left(t \\right)}\\right) + O\\left(\\epsilon^{2}\\right)$"
      ],
      "text/plain": [
       "g*m*r*cos(phi0) + epsilon*(-g*m*r*psi(t)*sin(phi0) + 1.0*m*r**2*Derivative(psi(t), (t, 2))) + O(epsilon**2)"
      ]
     },
     "execution_count": 12,
     "metadata": {},
     "output_type": "execute_result"
    }
   ],
   "source": [
    "EOM_lin = series(EOM_psi2, epsilon, n=2)\n",
    "EOM_lin.evalf()"
   ]
  },
  {
   "cell_type": "markdown",
   "metadata": {},
   "source": [
    "Then, we obtain the linearized EOM by setting $\\epsilon = 1$."
   ]
  },
  {
   "cell_type": "code",
   "execution_count": 13,
   "metadata": {},
   "outputs": [
    {
     "data": {
      "text/latex": [
       "$\\displaystyle - g m r \\psi{\\left(t \\right)} \\sin{\\left(\\phi_{0} \\right)} + g m r \\cos{\\left(\\phi_{0} \\right)} + 1.0 m r^{2} \\frac{d^{2}}{d t^{2}} \\psi{\\left(t \\right)}$"
      ],
      "text/plain": [
       "-g*m*r*psi(t)*sin(phi0) + g*m*r*cos(phi0) + 1.0*m*r**2*Derivative(psi(t), (t, 2))"
      ]
     },
     "execution_count": 13,
     "metadata": {},
     "output_type": "execute_result"
    }
   ],
   "source": [
    "EOM_lin = EOM_lin.removeO().evalf(subs={epsilon: 1})\n",
    "EOM_lin.evalf()"
   ]
  },
  {
   "cell_type": "markdown",
   "metadata": {},
   "source": [
    "We see that we get an expression that only depends on (linearly) on the perturbation $\\psi(t)$. Isolating the second derivative with respect to time of the perturbation, we get the final expression of the linearized system."
   ]
  },
  {
   "cell_type": "code",
   "execution_count": 14,
   "metadata": {},
   "outputs": [
    {
     "data": {
      "text/latex": [
       "$\\displaystyle \\frac{g \\left(\\psi{\\left(t \\right)} \\sin{\\left(\\phi_{0} \\right)} - \\cos{\\left(\\phi_{0} \\right)}\\right)}{r}$"
      ],
      "text/plain": [
       "g*(psi(t)*sin(phi0) - cos(phi0))/r"
      ]
     },
     "execution_count": 14,
     "metadata": {},
     "output_type": "execute_result"
    }
   ],
   "source": [
    "EOM_lin_iso = solve(EOM_lin, diff(psi, (t, 2)))\n",
    "EOM_lin_iso[0].evalf()"
   ]
  },
  {
   "cell_type": "markdown",
   "metadata": {},
   "source": [
    "In this problem, our initial angle is $\\phi_0 = 3*\\frac{\\pi}{2}$, then the final Equation of Motion will be:"
   ]
  },
  {
   "cell_type": "code",
   "execution_count": 15,
   "metadata": {},
   "outputs": [
    {
     "data": {
      "text/latex": [
       "$\\displaystyle - \\frac{g \\psi{\\left(t \\right)}}{r}$"
      ],
      "text/plain": [
       "-g*psi(t)/r"
      ]
     },
     "execution_count": 15,
     "metadata": {},
     "output_type": "execute_result"
    }
   ],
   "source": [
    "a = EOM_lin_iso[0].evalf(subs={phi0: 3*pi/2})\n",
    "a"
   ]
  },
  {
   "cell_type": "code",
   "execution_count": 16,
   "metadata": {},
   "outputs": [],
   "source": [
    "end_time = time.time()"
   ]
  },
  {
   "cell_type": "markdown",
   "metadata": {},
   "source": [
    "### Remarks\n",
    "\n",
    "1) The problem studied here is already linear with respect to the accelerations and does not depend on velocities. If we had a nonlinear dependency on accelerations and/or velocities, we should have taken into account the gradients with respect these two quantities.\n",
    "2) For a multiple DOF system, this process has to be done for all the EOM associated to each DOF.\n"
   ]
  },
  {
   "cell_type": "markdown",
   "metadata": {},
   "source": [
    "## Part 3: Solve the equation\n",
    "\n",
    "Now we can solve the equation using an ODE solver"
   ]
  },
  {
   "cell_type": "code",
   "execution_count": 17,
   "metadata": {},
   "outputs": [
    {
     "name": "stdout",
     "output_type": "stream",
     "text": [
      "-g*psi(t)/r\n",
      "-9.81*psisym\n"
     ]
    }
   ],
   "source": [
    "tsym, psisym = symbols(\"tsym psisym\")\n",
    "print(a)\n",
    "a = a.evalf(subs={t: tsym, psi: psisym, g: 9.81, r: 1.0})\n",
    "print(a)\n",
    "def qdot(t,q):\n",
    "    vt = q[1]\n",
    "    at = a.evalf(subs={psisym: q[0], tsym: t})\n",
    "    return [vt,at]"
   ]
  },
  {
   "cell_type": "code",
   "execution_count": 18,
   "metadata": {},
   "outputs": [
    {
     "data": {
      "text/plain": [
       "[0, 0]"
      ]
     },
     "execution_count": 18,
     "metadata": {},
     "output_type": "execute_result"
    }
   ],
   "source": [
    "# Just for demonstration\n",
    "qdot(0,[0,0])"
   ]
  },
  {
   "cell_type": "code",
   "execution_count": 19,
   "metadata": {},
   "outputs": [],
   "source": [
    "from scipy.integrate import solve_ivp\n",
    "sol = solve_ivp(fun=qdot,t_span=[0,10],y0=[1,0])\n",
    "# Note: The initial \"angle\" of 1 would not be considered small, so the linearization would in practice not be physically accurate."
   ]
  },
  {
   "cell_type": "code",
   "execution_count": 20,
   "metadata": {},
   "outputs": [
    {
     "data": {
      "image/png": "[encoded data removed]",
      "text/plain": [
       "<Figure size 640x480 with 1 Axes>"
      ]
     },
     "metadata": {},
     "output_type": "display_data"
    }
   ],
   "source": [
    "import matplotlib.pyplot as plt\n",
    "plt.plot(sol.t,sol.y[0])\n",
    "plt.xlabel(\"Time [s]\")\n",
    "plt.ylabel(\"Excursion [rad]\")\n",
    "plt.title(\"Pendulum motion from Lagrangian equations\");"
   ]
  },
  {
   "cell_type": "markdown",
   "metadata": {},
   "source": [
    "## Part 4: Performance comparison"
   ]
  },
  {
   "cell_type": "code",
   "execution_count": 21,
   "metadata": {},
   "outputs": [
    {
     "name": "stdout",
     "output_type": "stream",
     "text": [
      "6.6967291831970215\n"
     ]
    }
   ],
   "source": [
    "print(end_time-start_time)"
   ]
  },
  {
   "attachments": {},
   "cell_type": "markdown",
   "metadata": {},
   "source": [
    "Depending on the machine you are running on the execution of this notebook takes anywhere from 1 tin a few seconds. For the development of this tutorial a TU Delft issue HP Zbook G5 was used, carrying an i7-8750H CPU at 2.2 GHz with 16 GB of 64 bit RAM. The notebook took 1.64 seconds to execute.\n",
    "\n",
    "An alternative way of doing symbolic calculations is through the use of [Maplesoft](https://maplesoft.com/). Below you can see an example of a Maple math file that performs the same calculations as in this notebook from the `start_time` to the `end_time`. This gives, as shown below, an execution time of 2.256. While Maple can be more intuitive for symbolic manipulations, it becomes clear that the computional cost of the sympy package is rather good."
   ]
  },
  {
   "attachments": {},
   "cell_type": "markdown",
   "metadata": {},
   "source": [
    "<center><img src=\"../images/Module2/Maple/w2_t1_MapleExample.png\" width=\"600\" /></center>"
   ]
  },
  {
   "attachments": {},
   "cell_type": "markdown",
   "metadata": {},
   "source": [
    "## Part 5: Exercise\n",
    "\n",
    "Now it is time to applied what you have learned. Using the tutorial above, try to construct, and then solve the following problem:\n",
    "- A mass-spring-damper system with a point mass of 200 kg at the end.\n",
    "- A spring with spring-stiffness 10 kN/m.\n",
    "- A damper with damping force 1 kN s/m.\n",
    "- An external force defined as (in kN) $F(t) = 10 \\sin(\\pi t)$.\n",
    "\n",
    "<center><img src=\"../images/Module2/w2_t1_mcksystem.png\" width=\"400\" /></center>"
   ]
  },
  {
   "cell_type": "code",
   "execution_count": 22,
   "metadata": {},
   "outputs": [],
   "source": [
    "# independent variables      \n",
    "var(\"t x0 x\") \n",
    "# position\n",
    "x = Function(\"x\")(t)\n",
    "# velocity\n",
    "xdot = diff(x,t)\n",
    "\n",
    "# kinetic energy\n",
    "var(\"m\")\n",
    "T = 0.5*m*xdot**2\n",
    "# potential energy\n",
    "var(\"k\")\n",
    "V = 0.5*k*(x-x0)**2\n",
    "# lagrangian\n",
    "L = T - V\n",
    "# damping component\n",
    "var(\"c\")\n",
    "D = 0.5*c*xdot**2\n",
    "\n",
    "# obtaining the EOM, including the external force\n",
    "Qi = var(\"Qi\")\n",
    "EOM_x = diff( diff(L, xdot), t) + diff(D, xdot) - diff(L, x) - Qi\n",
    "# Does it make sense? Is it Linear?\n",
    "simplify(EOM_x).evalf()\n",
    "# extract the acceleration\n",
    "xdotdot = solve(EOM_x, diff(x, (t,2)))\n",
    "a = xdotdot[0].evalf()\n"
   ]
  },
  {
   "cell_type": "code",
   "execution_count": 23,
   "metadata": {},
   "outputs": [
    {
     "data": {
      "image/png": "[encoded data removed]",
      "text/plain": [
       "<Figure size 640x480 with 1 Axes>"
      ]
     },
     "metadata": {},
     "output_type": "display_data"
    }
   ],
   "source": [
    "# Solving the system\n",
    "# Defining constants\n",
    "m_model = 200\n",
    "c_model = 1e3\n",
    "k_model = 10e3\n",
    "x0_model = 0\n",
    "import numpy as np\n",
    "def F_ext(t):\n",
    "    return 10e3*np.sin(np.pi * t)\n",
    "\n",
    "t0 = 0\n",
    "tend = 10\n",
    "\n",
    "tsym, xsym, xdotsym = symbols(\"tsym xsym xdotsym\")\n",
    "a_model = a.evalf(subs={t: tsym, x: xsym, Derivative(x, t): xdotsym, m: m_model, c: c_model, k: k_model, x0: x0_model})\n",
    "def qdot(t,q):\n",
    "    vt = q[1]\n",
    "    at = F_ext(t)/m_model + a_model.evalf(subs={xsym: q[0], tsym: t, xdotsym: q[1], Qi: F_ext(t)})\n",
    "    return [vt,at]\n",
    "sol = solve_ivp(fun=qdot,t_span=[0,tend],y0=[x0_model,0])\n",
    "plt.plot(sol.t,sol.y[0])\n",
    "plt.xlabel(\"Time [s]\")\n",
    "plt.ylabel(\"Excursion [m]\")\n",
    "plt.title(\"MCK-system motion from Lagrangian equations\");"
   ]
  }
 ],
 "metadata": {
  "kernelspec": {
   "display_name": "Python 3",
   "language": "python",
   "name": "python3"
  },
  "language_info": {
   "codemirror_mode": {
    "name": "ipython",
    "version": 3
   },
   "file_extension": ".py",
   "mimetype": "text/x-python",
   "name": "python",
   "nbconvert_exporter": "python",
   "pygments_lexer": "ipython3",
   "version": "3.10.10"
  },
  "vscode": {
   "interpreter": {
    "hash": "cbd884b27ce8a521f14a4395d2fc856cd6c799b684d9efdb8253cb562c6eeba0"
   }
  }
 },
 "nbformat": 4,
 "nbformat_minor": 4
}
