{
 "cells": [
  {
   "attachments": {},
   "cell_type": "markdown",
   "metadata": {},
   "source": [
    "# Week 1: Numerical methods for ODEs\n",
    "\n",
    "This week the focus lies in learning different methods and schemes to solve MCK (mass-damper-spring) systems. "
   ]
  },
  {
   "attachments": {},
   "cell_type": "markdown",
   "metadata": {},
   "source": [
    "## Part 1.1: Introduction to time deiscretization\n",
    "\n",
    "This theory is explained in [LINK TO VIDEO].\n",
    "\n",
    "(add course content written out))"
   ]
  },
  {
   "attachments": {},
   "cell_type": "markdown",
   "metadata": {},
   "source": [
    "## Part 1.2: Taylor series expansions\n",
    "\n",
    "This theory is explained in [LINK TO VIDEO].\n",
    "\n",
    "(add course content written out))"
   ]
  },
  {
   "attachments": {},
   "cell_type": "markdown",
   "metadata": {},
   "source": [
    "## Part 1.3: Using TSE to solve ODE\n",
    "\n",
    "This theory is explained in [LINK TO VIDEO].\n",
    "\n",
    "(add course content written out))"
   ]
  },
  {
   "attachments": {},
   "cell_type": "markdown",
   "metadata": {},
   "source": [
    "## Part 1.4: Numerical errors\n",
    "\n",
    "This theory is explained in [LINK TO VIDEO].\n",
    "\n",
    "(add course content written out))"
   ]
  },
  {
   "attachments": {},
   "cell_type": "markdown",
   "metadata": {},
   "source": [
    "## Part 1.5: ODE solver scheme\n",
    "\n",
    "This theory is explained in [LINK TO VIDEO].\n",
    "\n",
    "(add course content written out))"
   ]
  },
  {
   "attachments": {},
   "cell_type": "markdown",
   "metadata": {},
   "source": [
    "## Part 1.6: Time stepping and error control\n",
    "\n",
    "This theory is explained in [LINK TO VIDEO].\n",
    "\n",
    "(add course content written out))"
   ]
  },
  {
   "attachments": {},
   "cell_type": "markdown",
   "metadata": {},
   "source": [
    "## Part 1.7: Types of solvers\n",
    "\n",
    "This theory is explained in [LINK TO VIDEO].\n"
   ]
  },
  {
   "attachments": {},
   "cell_type": "markdown",
   "metadata": {},
   "source": [
    "## Part 1.8: Practical aspects\n",
    "\n",
    "This theory is explained in [LINK TO VIDEO].\n"
   ]
  }
 ],
 "metadata": {
  "kernelspec": {
   "display_name": "Python 3",
   "language": "python",
   "name": "python3"
  },
  "language_info": {
   "codemirror_mode": {
    "name": "ipython",
    "version": 3
   },
   "file_extension": ".py",
   "mimetype": "text/x-python",
   "name": "python",
   "nbconvert_exporter": "python",
   "pygments_lexer": "ipython3",
   "version": "3.10.9"
  },
  "vscode": {
   "interpreter": {
    "hash": "cbd884b27ce8a521f14a4395d2fc856cd6c799b684d9efdb8253cb562c6eeba0"
   }
  }
 },
 "nbformat": 4,
 "nbformat_minor": 2
}
