{
 "cells": [
  {
   "cell_type": "markdown",
   "id": "ee48ddb8",
   "metadata": {},
   "source": [
    "# Tutorial 3.2: Solving a cantilever beam with Finite Differences\n",
    "\n",
    "In this tutorial we will learn how to obtain the motion of a cantilever beam using Finite Differences\n",
    "\n",
    "The equation of motion of the beam is:\n",
    "$$\\rho A \\ddot{w} + EI w'''' = q(x,t)$$\n",
    "\n",
    "where $w(t)$ is the deflection of the beam, $\\rho$ its density, $A$ its cross-sectional area, $E$ its Young's modulus, $I$ its second moment of area and $q(x,t)$ a distributed force applied to the beam. \n",
    "\n",
    "The boundary conditions for a cantilever beam are:\n",
    "$$ w(0) = w'(0) = \\dot{w}(0) = \\ddot{w}(0) = 0 $$\n",
    "$$EI\\ w^{'''}(L) = F_{\\mathrm{ext}}(t) $$\n",
    "$$EI\\ w^{''}(L) = M_{\\mathrm{ext}}(t) $$\n",
    "\n",
    "## The roadmap to finde the beam deflection  using Finite Differences\n",
    "\n",
    "The steps needed to discretize the beam are listed next. \n",
    "1. Discretize space into $N + 1$ points.\n",
    "2. Discretize the EOM of the beam. To do this, you will have to approximate the 4th order derivative with FD. Use a second order approximation. You can find the coefficients [here](https://en.wikipedia.org/wiki/Finite_difference_coefficient) (or google `finite difference coefficients' and click the Wikipedia page)}.\n",
    "3. Apply the boundary conditions. Use the definition of discrete derivatives and EOM to find the relation between the ghost points and the interior points.\n",
    "4. Combine all equations into matrices. \n",
    "5. Solve the resulting ODE system"
   ]
  },
  {
   "cell_type": "code",
   "execution_count": 1,
   "id": "954667af",
   "metadata": {},
   "outputs": [],
   "source": [
    "# Load packages\n",
    "%matplotlib inline\n",
    "import matplotlib.pyplot as plt\n",
    "from matplotlib import cm\n",
    "import numpy as np\n",
    "import scipy as sp\n",
    "from scipy.integrate import solve_ivp"
   ]
  },
  {
   "cell_type": "markdown",
   "id": "f89a080a",
   "metadata": {},
   "source": [
    "### Step 1: Discretize space"
   ]
  },
  {
   "cell_type": "code",
   "execution_count": 2,
   "id": "cf8e0c07",
   "metadata": {},
   "outputs": [
    {
     "name": "stdout",
     "output_type": "stream",
     "text": [
      "[ 0.  1.  2.  3.  4.  5.  6.  7.  8.  9. 10.]\n"
     ]
    }
   ],
   "source": [
    "# Your code goes here\n",
    "L = 10\n",
    "N = 10\n",
    "x = np.linspace(0,L,N+1)\n",
    "print(x)"
   ]
  },
  {
   "cell_type": "markdown",
   "id": "7052edd7",
   "metadata": {},
   "source": [
    "### Step 2: Discretize the EOM of the beam\n",
    "\n",
    "Using the coefficients for a centered FD scheme for 4th order derivatives with 2nd order accuracy we have:\n",
    "\n",
    "$$ w_i^{''''} = \\frac{w_{i-2}-4w_{i-1}+6w_i-4w_{i+1}+w_{i+2}}{\\Delta x^4}$$\n",
    "\n",
    "The equivalent scheme for the 3rd order derivative is:\n",
    "\n",
    "$$ w_i^{'''} = \\frac{-0.5w_{i-2}+w_{i-1}-w_{i+1}+0.5w_{i+2}}{\\Delta x^3}$$\n",
    "\n",
    "For the 2nd order derivative:\n",
    "\n",
    "$$ w_i^{''} = \\frac{w_{i-1}-2w_i+w_{i+1}}{\\Delta x^2}$$\n",
    "\n",
    "And for the 1st order derivative:\n",
    "\n",
    "$$ w_i^{'} = \\frac{-0.5w_{i-1}+0.5w_{i+1}}{\\Delta x}$$\n",
    "\n",
    "Replacing these expressions into the equation of motion we get the discrete system:\n",
    "\n",
    "> Your derivations go here\n",
    "$$\\rho A \\ddot{w_i} + \\frac{EI}{\\Delta x^4} \\left( w_{i-2}-4w_{i-1}+6w_i-4w_{i+1}+w_{i+2} \\right) = q_i(t)$$"
   ]
  },
  {
   "cell_type": "markdown",
   "id": "76a2ea71",
   "metadata": {
    "tags": []
   },
   "source": [
    "### Step 3: Apply boundary conditions\n",
    "\n",
    "> Your derivations go here\n",
    "$$ w_0 = 0$$\n",
    "$$w_0' = 0$$\n",
    "$$\\dot{w_0} = 0$$\n",
    "$$\\ddot{w_0} = 0 $$\n",
    "$$EI\\ w_N^{'''} = F_{\\mathrm{ext}}(t) $$\n",
    "$$EI\\ w_N^{''} = M_{\\mathrm{ext}}(t) $$"
   ]
  },
  {
   "cell_type": "markdown",
   "id": "787fd25f",
   "metadata": {},
   "source": [
    "So this means that:\n",
    "\n",
    "0) Intermediate:\n",
    "\n",
    "\n",
    "1) i = 1 also needs i = -1: \n",
    "$$ w_i^{'} = \\frac{-0.5w_{i-1}+0.5w_{i+1}}{\\Delta x}$$\n",
    "$$\\Rightarrow  w_0^{'} = \\frac{-0.5w_{-1}+0.5w_{1}}{\\Delta x} = 0 $$\n",
    "$$\\Rightarrow w_1 = w_{-1}$$ \n",
    "\n",
    "2) i = N-1 also needs i = N+1:\n",
    "$$ EI\\ w_{N}^{''} = EI\\ \\frac{w_{N-1}-2w_{N}+w_{N+1}}{\\Delta x^2} = M_{\\mathrm{ext}} $$\n",
    "$$ \\Rightarrow w_{N+1} = \\frac{\\Delta x^2}{EI}M_{\\mathrm{ext}}-w_{N-1}+2w_{N} $$\n",
    "\n",
    "3) i = N also needs i = N+2:\n",
    "$$EI\\ w_N^{'''} = EI\\ \\frac{-0.5w_{N-2}+w_{N-1}-w_{N+1}+0.5w_{N+2}}{\\Delta x^3} = F_{\\mathrm{ext}} $$\n",
    "$$ \\Rightarrow w_{N+2} = 2\\frac{\\Delta x^3}{EI}F_{\\mathrm{ext}}+w_{N-2}-2w_{N-1}+2w_{N+1} $$"
   ]
  },
  {
   "cell_type": "markdown",
   "id": "fa6e2296",
   "metadata": {},
   "source": [
    "### Step 4: Matrix form\n",
    "\n",
    "Summarizing we have the following discrete (in space) equations:\n",
    "\n",
    "- For $i=1$:\n",
    "> Your derivations go here\n",
    "$$ \\rho A \\ddot{w_1} + \\frac{EI}{\\Delta x^4} \\left( 7w_1-4w_{2}+w_{3} \\right) = q_1 $$\n",
    "- For $i=2$:\n",
    "> Your derivations go here\n",
    "$$ \\rho A \\ddot{w_2} + \\frac{EI}{\\Delta x^4} \\left(-4w_{1}+6w_{2}-4w_{3}+w_{4} \\right) = q_2 $$\n",
    "- For $i=3,...,N-2$:\n",
    "> Your derivations go here\n",
    "$$\\rho A \\ddot{w_i} + \\frac{EI}{\\Delta x^4} \\left( w_{i-2}-4w_{i-1}+6w_i-4w_{i+1}+w_{i+2} \\right) = q_i$$\n",
    "- For $i=N-1$:\n",
    "> Your derivations go here\n",
    "$$\\rho A \\ddot{w_{N-1}} + \\frac{EI}{\\Delta x^4} \\left( w_{N-3}-4w_{N-2}+5w_{N-1}-2w_{N} \\right) = \n",
    "q_{N-1}-\\frac{1}{\\Delta x^2}M_{\\mathrm{ext}}$$\n",
    "- For $i=N$:\n",
    "> Your derivations go here\n",
    "\n",
    "This is equivalent to the following system:\n",
    "> Your derivations go here\n",
    "\n",
    "And in a compact form:\n",
    "$$\\boldsymbol{M}\\ddot{\\boldsymbol{w}}+\\boldsymbol{K}\\boldsymbol{w}=\\boldsymbol{F}$$"
   ]
  },
  {
   "cell_type": "code",
   "execution_count": 3,
   "id": "077a3197",
   "metadata": {},
   "outputs": [],
   "source": [
    "# Construct the matrices and external force vector"
   ]
  },
  {
   "cell_type": "markdown",
   "id": "2bf74fbc",
   "metadata": {},
   "source": [
    "# Step 5: Solve the ODE system\n",
    "\n",
    "Now, we just need to apply what we learned in the previous session to solve the dynamic problem. The main novelty is that here we work with matrices."
   ]
  },
  {
   "cell_type": "code",
   "execution_count": 4,
   "id": "838e3ca4",
   "metadata": {},
   "outputs": [],
   "source": [
    "# Define the ODE function \n",
    "\n",
    "# Define initial state\n",
    "\n",
    "# Define time interval and time evaluation points\n",
    "\n",
    "# Solve\n",
    "\n",
    "# Plot\n"
   ]
  },
  {
   "cell_type": "markdown",
   "id": "6a45c09f",
   "metadata": {},
   "source": [
    "## Exercise: Add a point mass at the extreme of the beam"
   ]
  },
  {
   "cell_type": "code",
   "execution_count": null,
   "id": "c0198348",
   "metadata": {},
   "outputs": [],
   "source": []
  }
 ],
 "metadata": {
  "kernelspec": {
   "display_name": "Python 3 (ipykernel)",
   "language": "python",
   "name": "python3"
  },
  "language_info": {
   "codemirror_mode": {
    "name": "ipython",
    "version": 3
   },
   "file_extension": ".py",
   "mimetype": "text/x-python",
   "name": "python",
   "nbconvert_exporter": "python",
   "pygments_lexer": "ipython3",
   "version": "3.7.3"
  }
 },
 "nbformat": 4,
 "nbformat_minor": 5
}
