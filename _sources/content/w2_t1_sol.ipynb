{
 "cells": [
  {
   "cell_type": "markdown",
   "metadata": {},
   "source": [
    "# Tutorial 2.1: Linearizing the Equations of Motion\n",
    "In this tutorial you will learn to linearize the Equations of Motion of the pendulum as covered in the lecture. "
   ]
  },
  {
   "cell_type": "markdown",
   "metadata": {},
   "source": [
    "## Part 1: Kinematic equations\n",
    "\n",
    "We first start by defining the variables. Let's start with the kinematic relations of a pendulum hanging from the point $(x_0, z_0)$."
   ]
  },
  {
   "cell_type": "code",
   "execution_count": 1,
   "metadata": {},
   "outputs": [],
   "source": [
    "from sympy import *\n",
    "# For myself: usedd for \"some\" symbolic operations in Python\n",
    "\n",
    "var(\"t x1 z1 r phi0\") # independent variables      \n",
    "phi1 = Function(\"phi1\")(t)\n",
    "x2 = x1 + r*cos(phi1)\n",
    "z2 = z1 + r*sin(phi1)"
   ]
  },
  {
   "cell_type": "markdown",
   "metadata": {},
   "source": [
    "The velocities can then be obtained using:"
   ]
  },
  {
   "cell_type": "code",
   "execution_count": 2,
   "metadata": {},
   "outputs": [],
   "source": [
    "xdot = diff(x2, t)\n",
    "zdot = diff(z2, t)"
   ]
  },
  {
   "cell_type": "markdown",
   "metadata": {},
   "source": [
    "## Part 2: Energy equations\n",
    "### Kinetic energy:\n",
    "The in this system is $m$, such that the kinetic energy is given by:"
   ]
  },
  {
   "cell_type": "code",
   "execution_count": 3,
   "metadata": {},
   "outputs": [
    {
     "data": {
      "text/latex": [
       "$\\displaystyle 0.5 m \\left(r^{2} \\sin^{2}{\\left(\\phi_{1}{\\left(t \\right)} \\right)} \\left(\\frac{d}{d t} \\phi_{1}{\\left(t \\right)}\\right)^{2} + r^{2} \\cos^{2}{\\left(\\phi_{1}{\\left(t \\right)} \\right)} \\left(\\frac{d}{d t} \\phi_{1}{\\left(t \\right)}\\right)^{2}\\right)$"
      ],
      "text/plain": [
       "0.5*m*(r**2*sin(phi1(t))**2*Derivative(phi1(t), t)**2 + r**2*cos(phi1(t))**2*Derivative(phi1(t), t)**2)"
      ]
     },
     "execution_count": 3,
     "metadata": {},
     "output_type": "execute_result"
    }
   ],
   "source": [
    "var(\"m\")\n",
    "T = 0.5*m*(xdot**2 + zdot**2)\n",
    "T.evalf()"
   ]
  },
  {
   "cell_type": "markdown",
   "metadata": {},
   "source": [
    "This expression can be simplified to:"
   ]
  },
  {
   "cell_type": "code",
   "execution_count": 4,
   "metadata": {},
   "outputs": [
    {
     "data": {
      "text/latex": [
       "$\\displaystyle 0.5 m r^{2} \\left(\\frac{d}{d t} \\phi_{1}{\\left(t \\right)}\\right)^{2}$"
      ],
      "text/plain": [
       "0.5*m*r**2*Derivative(phi1(t), t)**2"
      ]
     },
     "execution_count": 4,
     "metadata": {},
     "output_type": "execute_result"
    }
   ],
   "source": [
    "T = simplify(T) # Linearization\n",
    "T.evalf()"
   ]
  },
  {
   "cell_type": "markdown",
   "metadata": {},
   "source": [
    "### Potential energy:\n",
    "The potential energy on the pendulum is due to gravity:"
   ]
  },
  {
   "cell_type": "code",
   "execution_count": 5,
   "metadata": {},
   "outputs": [
    {
     "data": {
      "text/latex": [
       "$\\displaystyle g m \\left(r \\sin{\\left(\\phi_{1}{\\left(t \\right)} \\right)} + z_{1}\\right)$"
      ],
      "text/plain": [
       "g*m*(r*sin(phi1(t)) + z1)"
      ]
     },
     "execution_count": 5,
     "metadata": {},
     "output_type": "execute_result"
    }
   ],
   "source": [
    "var(\"g\")\n",
    "V = m*g*z2\n",
    "V.evalf()"
   ]
  },
  {
   "cell_type": "markdown",
   "metadata": {},
   "source": [
    "## Step 3: Construct the Lagrangian"
   ]
  },
  {
   "cell_type": "code",
   "execution_count": 6,
   "metadata": {},
   "outputs": [
    {
     "data": {
      "text/latex": [
       "$\\displaystyle - g m \\left(r \\sin{\\left(\\phi_{1}{\\left(t \\right)} \\right)} + z_{1}\\right) + 0.5 m r^{2} \\left(\\frac{d}{d t} \\phi_{1}{\\left(t \\right)}\\right)^{2}$"
      ],
      "text/plain": [
       "-g*m*(r*sin(phi1(t)) + z1) + 0.5*m*r**2*Derivative(phi1(t), t)**2"
      ]
     },
     "execution_count": 6,
     "metadata": {},
     "output_type": "execute_result"
    }
   ],
   "source": [
    "L = T - V\n",
    "L.evalf()"
   ]
  },
  {
   "cell_type": "markdown",
   "metadata": {},
   "source": [
    "## Step 4: Obtaining the EoM\n",
    "\n",
    "In order to obtain the EoMs we have to take derivatives w.r.t. $\\phi_1$ and its velocity. "
   ]
  },
  {
   "cell_type": "code",
   "execution_count": 7,
   "metadata": {},
   "outputs": [
    {
     "data": {
      "text/latex": [
       "$\\displaystyle m r \\left(g \\cos{\\left(\\phi_{1}{\\left(t \\right)} \\right)} + 1.0 r \\frac{d^{2}}{d t^{2}} \\phi_{1}{\\left(t \\right)}\\right)$"
      ],
      "text/plain": [
       "m*r*(g*cos(phi1(t)) + 1.0*r*Derivative(phi1(t), (t, 2)))"
      ]
     },
     "execution_count": 7,
     "metadata": {},
     "output_type": "execute_result"
    }
   ],
   "source": [
    "EOM_phi = diff( diff(L, diff(phi1, t)), t) - diff(L, phi1)\n",
    "# ! LHS need derivative to \"velocity\"\n",
    "EOM_phi = simplify(EOM_phi)\n",
    "EOM_phi.evalf()"
   ]
  },
  {
   "cell_type": "markdown",
   "metadata": {},
   "source": [
    "The equation is nonlinear since it depends on the cosine of the angle. We want to obtain a linear function, so let's linearize. We consider a perturbation around the point we want to linearize ($\\phi_0$). We linearize with the following function substitution: $\\phi_1(t) = \\phi_0 + \\epsilon \\psi(t)$. The $\\epsilon$ is added in order to apply the Taylor series expansion. \n",
    "\n",
    "On a technical note: Using SymPy for function substitution can be tricky, hence we will use temporary symbols called `tmp1` and `tmp2` in order to do the substitution."
   ]
  },
  {
   "cell_type": "code",
   "execution_count": 8,
   "metadata": {},
   "outputs": [
    {
     "name": "stdout",
     "output_type": "stream",
     "text": [
      "m*r*(g*cos(epsilon*psi(t) + phi0) + 1.0*r*Derivative(epsilon*psi(t) + phi0, (t, 2)))\n"
     ]
    },
    {
     "data": {
      "text/latex": [
       "$\\displaystyle m r \\left(g \\cos{\\left(\\epsilon \\psi{\\left(t \\right)} + \\phi_{0} \\right)} + 1.0 r \\frac{\\partial^{2}}{\\partial t^{2}} \\left(\\epsilon \\psi{\\left(t \\right)} + \\phi_{0}\\right)\\right)$"
      ],
      "text/plain": [
       "m*r*(g*cos(epsilon*psi(t) + phi0) + 1.0*r*Derivative(epsilon*psi(t) + phi0, (t, 2)))"
      ]
     },
     "execution_count": 8,
     "metadata": {},
     "output_type": "execute_result"
    }
   ],
   "source": [
    "var(\"phi0 epsilon\")\n",
    "psi = Function(\"psi\")(t) # perturbation function\n",
    "\n",
    "tmp1 = symbols(\"tmp1\")\n",
    "EOM_psi = EOM_phi.evalf(subs={phi1: tmp1})\n",
    "EOM_psi = EOM_psi.evalf(subs={tmp1: phi0 + epsilon*psi})\n",
    "print(EOM_psi)\n",
    "EOM_psi.evalf()"
   ]
  },
  {
   "cell_type": "markdown",
   "metadata": {},
   "source": [
    "Now, we can apply the Taylor series expansion using the function $\\epsilon$ as a variable."
   ]
  },
  {
   "cell_type": "code",
   "execution_count": 9,
   "metadata": {},
   "outputs": [
    {
     "data": {
      "text/latex": [
       "$\\displaystyle 1.0 m r^{2} \\frac{d^{2}}{d t^{2}} \\phi_{0} + g m r \\cos{\\left(\\phi_{0} \\right)} + \\epsilon \\left(- g m r \\psi{\\left(t \\right)} \\sin{\\left(\\phi_{0} \\right)} + 1.0 m r^{2} \\frac{d^{2}}{d t^{2}} \\psi{\\left(t \\right)}\\right) + O\\left(\\epsilon^{2}\\right)$"
      ],
      "text/plain": [
       "1.0*m*r**2*Derivative(phi0, (t, 2)) + g*m*r*cos(phi0) + epsilon*(-g*m*r*psi(t)*sin(phi0) + 1.0*m*r**2*Derivative(psi(t), (t, 2))) + O(epsilon**2)"
      ]
     },
     "execution_count": 9,
     "metadata": {},
     "output_type": "execute_result"
    }
   ],
   "source": [
    "EOM_lin = series(EOM_psi, epsilon, n=2)\n",
    "EOM_lin.evalf()"
   ]
  },
  {
   "cell_type": "markdown",
   "metadata": {},
   "source": [
    "Note that we know that $\\frac{d^2\\phi_0}{dt^2}=0$, so we can redefine the derivative in terms of $\\psi$ only."
   ]
  },
  {
   "cell_type": "code",
   "execution_count": 10,
   "metadata": {},
   "outputs": [
    {
     "data": {
      "text/latex": [
       "$\\displaystyle m r \\left(1.0 \\epsilon r \\frac{d^{2}}{d t^{2}} \\psi{\\left(t \\right)} + g \\cos{\\left(\\epsilon \\psi{\\left(t \\right)} + \\phi_{0} \\right)}\\right)$"
      ],
      "text/plain": [
       "m*r*(1.0*epsilon*r*Derivative(psi(t), (t, 2)) + g*cos(epsilon*psi(t) + phi0))"
      ]
     },
     "execution_count": 10,
     "metadata": {},
     "output_type": "execute_result"
    }
   ],
   "source": [
    "tmp2 = symbols(\"tmp2\")\n",
    "EOM_psi2 = EOM_phi.evalf(subs={diff(phi1, (t, 2)): tmp2, phi1: tmp1})\n",
    "EOM_psi2 = EOM_psi2.evalf(subs={tmp2: diff(phi0 + epsilon*psi, (t, 2)), tmp1: phi0 + epsilon*psi})\n",
    "EOM_psi2.evalf()"
   ]
  },
  {
   "cell_type": "code",
   "execution_count": 11,
   "metadata": {},
   "outputs": [
    {
     "data": {
      "text/latex": [
       "$\\displaystyle g m r \\cos{\\left(\\phi_{0} \\right)} + \\epsilon \\left(- g m r \\psi{\\left(t \\right)} \\sin{\\left(\\phi_{0} \\right)} + 1.0 m r^{2} \\frac{d^{2}}{d t^{2}} \\psi{\\left(t \\right)}\\right) + O\\left(\\epsilon^{2}\\right)$"
      ],
      "text/plain": [
       "g*m*r*cos(phi0) + epsilon*(-g*m*r*psi(t)*sin(phi0) + 1.0*m*r**2*Derivative(psi(t), (t, 2))) + O(epsilon**2)"
      ]
     },
     "execution_count": 11,
     "metadata": {},
     "output_type": "execute_result"
    }
   ],
   "source": [
    "EOM_lin = series(EOM_psi2, epsilon, n=2)\n",
    "EOM_lin.evalf()"
   ]
  },
  {
   "cell_type": "markdown",
   "metadata": {},
   "source": [
    "Then, we obtain the linearized EOM by setting $\\epsilon = 1$."
   ]
  },
  {
   "cell_type": "code",
   "execution_count": 12,
   "metadata": {},
   "outputs": [
    {
     "data": {
      "text/latex": [
       "$\\displaystyle - g m r \\psi{\\left(t \\right)} \\sin{\\left(\\phi_{0} \\right)} + g m r \\cos{\\left(\\phi_{0} \\right)} + 1.0 m r^{2} \\frac{d^{2}}{d t^{2}} \\psi{\\left(t \\right)}$"
      ],
      "text/plain": [
       "-g*m*r*psi(t)*sin(phi0) + g*m*r*cos(phi0) + 1.0*m*r**2*Derivative(psi(t), (t, 2))"
      ]
     },
     "execution_count": 12,
     "metadata": {},
     "output_type": "execute_result"
    }
   ],
   "source": [
    "EOM_lin = EOM_lin.removeO().evalf(subs={epsilon: 1})\n",
    "EOM_lin.evalf()"
   ]
  },
  {
   "cell_type": "markdown",
   "metadata": {},
   "source": [
    "We see that we get an expression that only depends on (linearly) on the perturbation $\\psi(t)$. Isolating the second derivative with respect to time of the perturbation, we get the final expression of the linearized system."
   ]
  },
  {
   "cell_type": "code",
   "execution_count": 13,
   "metadata": {},
   "outputs": [
    {
     "data": {
      "text/latex": [
       "$\\displaystyle \\frac{g \\left(\\psi{\\left(t \\right)} \\sin{\\left(\\phi_{0} \\right)} - \\cos{\\left(\\phi_{0} \\right)}\\right)}{r}$"
      ],
      "text/plain": [
       "g*(psi(t)*sin(phi0) - cos(phi0))/r"
      ]
     },
     "execution_count": 13,
     "metadata": {},
     "output_type": "execute_result"
    }
   ],
   "source": [
    "EOM_lin_iso = solve(EOM_lin, diff(psi, (t, 2)))\n",
    "EOM_lin_iso[0].evalf()"
   ]
  },
  {
   "cell_type": "markdown",
   "metadata": {},
   "source": [
    "In this problem, our initial angle is $\\phi_0 = 3*\\frac{\\pi}{2}$, then the final Equation of Motion will be:"
   ]
  },
  {
   "cell_type": "code",
   "execution_count": 14,
   "metadata": {},
   "outputs": [
    {
     "data": {
      "text/latex": [
       "$\\displaystyle - \\frac{g \\psi{\\left(t \\right)}}{r}$"
      ],
      "text/plain": [
       "-g*psi(t)/r"
      ]
     },
     "execution_count": 14,
     "metadata": {},
     "output_type": "execute_result"
    }
   ],
   "source": [
    "a = EOM_lin_iso[0].evalf(subs={phi0: 3*pi/2})\n",
    "a"
   ]
  },
  {
   "cell_type": "markdown",
   "metadata": {},
   "source": [
    "### Remarks\n",
    "\n",
    "1) The problem studied here is already linear with respect to the accelerations and does not depend on velocities. If we had a nonlinear dependency on accelerations and/or velocities, we should have taken into account the gradients with respect these two quantities.\n",
    "2) For a multiple DOF system, this process has to be done for all the EOM associated to each DOF.\n"
   ]
  },
  {
   "cell_type": "markdown",
   "metadata": {},
   "source": [
    "## Part 3: Solve the equation\n",
    "\n",
    "Now we can solve the equation using an ODE solver"
   ]
  },
  {
   "cell_type": "code",
   "execution_count": 19,
   "metadata": {},
   "outputs": [
    {
     "name": "stdout",
     "output_type": "stream",
     "text": [
      "-9.81*psisym\n",
      "-9.81*psisym\n"
     ]
    }
   ],
   "source": [
    "tsym, psisym = symbols(\"tsym psisym\")\n",
    "print(a)\n",
    "a = a.evalf(subs={t: tsym, psi: psisym, g: 9.81, r: 1.0})\n",
    "print(a)\n",
    "def qdot(t,q):\n",
    "    vt = q[1]\n",
    "    at = a.evalf(subs={psisym: q[0], tsym: t})\n",
    "    print([vt,at])\n",
    "    return [vt,at]"
   ]
  },
  {
   "cell_type": "code",
   "execution_count": 20,
   "metadata": {},
   "outputs": [
    {
     "name": "stdout",
     "output_type": "stream",
     "text": [
      "[0, 0]\n"
     ]
    },
    {
     "data": {
      "text/plain": [
       "[0, 0]"
      ]
     },
     "execution_count": 20,
     "metadata": {},
     "output_type": "execute_result"
    }
   ],
   "source": [
    "# Just for demonstration\n",
    "qdot(0,[0,0])"
   ]
  },
  {
   "cell_type": "code",
   "execution_count": 21,
   "metadata": {},
   "outputs": [
    {
     "name": "stdout",
     "output_type": "stream",
     "text": [
      "[0.0, -9.81000000000000]\n",
      "[-9.99000999000999e-06, -9.81000000000000]\n",
      "[-0.0001998001998001998, -9.81000000000000]\n",
      "[-0.00029970029970029965, -9.80999995508986]\n",
      "[-0.0007992007829397421, -9.80999968063904]\n",
      "[-0.0008880008525343871, -9.80999960572721]\n",
      "[-0.0009990009601962056, -9.80999950099850]\n",
      "[-0.000999000982062399, -9.80999950099851]\n",
      "[-0.002997002878432799, -9.80999750499255]\n",
      "[-0.003996003369275808, -9.80999201597632]\n",
      "[-0.008990989054277799, -9.80995958089667]\n",
      "[-0.009878969928796295, -9.80995120257226]\n",
      "[-0.010988966577551898, -9.80993962080853]\n",
      "[-0.0109889884437484, -9.80993962088068]\n",
      "[-0.03096888544965927, -9.80972006067201]\n",
      "[-0.040958330877229845, -9.80916118198363]\n",
      "[-0.09088873808661486, -9.80586796880756]\n",
      "[-0.09974864730679087, -9.80502101144213]\n",
      "[-0.11084407993005183, -9.80385174510392]\n",
      "[-0.11086594658662938, -9.80385244472089]\n",
      "[-0.31054093917245096, -9.78170140644184]\n",
      "[-0.40987089167247925, -9.72574389596185]\n",
      "[-0.8897058509101577, -9.39789026164981]\n",
      "[-0.958356891171784, -9.31058851797434]\n",
      "[-1.0648941535040524, -9.19353043728368]\n",
      "[-1.0868072706228022, -9.20048738658223]\n",
      "[-1.5654895356232488, -8.64578754023228]\n",
      "[-1.7723633010535917, -8.09358152317895]\n",
      "[-2.516431637557454, -5.32175395483544]\n",
      "[-2.3524775761304633, -4.77602107521564]\n",
      "[-2.501835937897718, -3.85406410762202]\n",
      "[-2.8828694253798095, -3.83418412617521]\n",
      "[-3.124315428248018, -2.05327797147091]\n",
      "[-3.1188729298821967, -0.995026189000478]\n",
      "[-2.76362571278826, 3.09708761786679]\n",
      "[-2.31175099256661, 2.70075557190083]\n",
      "[-2.1157004983761247, 3.92006743897532]\n",
      "[-2.611289029178611, 5.41641621915770]\n",
      "[-2.291406414905704, 6.92928951924357]\n",
      "[-2.0309494572813147, 7.47723350780839]\n",
      "[-0.835881163328972, 8.95001267151938]\n",
      "[-0.69568115355834, 7.86748120633155]\n",
      "[-0.305246265805442, 8.06231883629372]\n",
      "[-0.1901919902118041, 9.79138484562397]\n",
      "[0.4346140668936429, 9.91044387587640]\n",
      "[0.7555641401168729, 9.52995799619828]\n",
      "[1.8706435458636501, 7.04350441635793]\n",
      "[1.5818655532955521, 5.79576114879568]\n",
      "[1.8869188774513233, 4.78106863861890]\n",
      "[2.527214714798657, 5.79410293444951]\n",
      "[2.8844301614732033, 4.26563907959942]\n",
      "[2.957026692411104, 3.25835706332800]\n",
      "[2.935829523722843, -0.908273053847005]\n",
      "[2.500956747546382, -0.881047268746578]\n",
      "[2.407642804244809, -2.16954564675072]\n",
      "[2.9589230863259135, -3.21482370305191]\n",
      "[2.7628350608486842, -4.98532641108874]\n",
      "[2.54330034948626, -5.73858001922417]\n",
      "[1.4537695098224552, -8.06582415361683]\n",
      "[1.21839873088068, -6.98163818441852]\n",
      "[0.8343565201946084, -7.47420073237533]\n",
      "[0.86977441805716, -9.42334980388593]\n",
      "[0.27208454253684755, -9.96453539326043]\n",
      "[-0.06537657721412282, -9.81675098181784]\n",
      "[-1.323834519321831, -8.18580947187884]\n",
      "[-1.1361071162303533, -6.79715673194952]\n",
      "[-1.5020921469010955, -6.02783358553088]\n",
      "[-2.046689372911217, -7.42475784427822]\n",
      "[-2.4929872805026005, -6.21787948823517]\n",
      "[-2.6345233779121773, -5.31837403671518]\n",
      "[-2.9351429529518622, -1.34743862617182]\n",
      "[-2.548920251330669, -1.05639970890387]\n",
      "[-2.55685697094586, 0.214702244292828]\n",
      "[-3.1209972007273636, 0.813234905628672]\n",
      "[-3.069427942887624, 2.75473428779663]\n",
      "[-2.9051385698471366, 3.68939394570537]\n",
      "[-1.9704830414262535, 6.79084886071439]\n",
      "[-1.6233505734071643, 5.74764068466443]\n",
      "[-1.2635803996804704, 6.54432979544131]\n",
      "[-1.4859847492314244, 8.63449677892373]\n",
      "[-0.9468986811698511, 9.54462888730932]\n",
      "[-0.613429572890097, 9.62824464063097]\n",
      "[0.7126582978034282, 8.93754259015527]\n",
      "[0.6351333981466627, 7.53318846072764]\n",
      "[1.0363587332073296, 7.04808446805336]\n",
      "[1.456376433642591, 8.68375263423078]\n",
      "[1.9620073515202363, 7.85185703190214]\n",
      "[2.1603289557813685, 7.11098557557869]\n",
      "[2.755043245292912, 3.59897784272587]\n",
      "[2.4447716447200376, 3.06148057655853]\n",
      "[2.547387213021074, 1.89231561986197]\n",
      "[3.0838102431812238, 1.70832008230268]\n",
      "[3.1927029091000776, -0.220030698840424]\n",
      "[3.108866512139168, -1.26080975368765]\n",
      "[2.4492297190359, -5.01257266143523]\n",
      "[2.0219608038268397, -4.26072677712372]\n",
      "[1.7356356409304927, -5.32436191717536]\n",
      "[2.128382843734885, -7.19520682567414]\n",
      "[1.6900354623932836, -8.46722668325898]\n",
      "[1.3836808316212357, -8.80851289863130]\n",
      "[0.07424349837500488, -9.26119131506244]\n",
      "[0.028949575692371887, -7.96352971757326]\n",
      "[-0.3831844350102771, -7.83372225016869]\n",
      "[-0.6438578870779077, -9.59899030528810]\n",
      "[-1.2441249933687386, -9.20400765484634]\n",
      "[-1.5164710427549528, -8.59224481948947]\n",
      "[-2.38677125220908, -5.37617946649577]\n",
      "[-2.035702538616368, -4.45671818306584]\n",
      "[-2.2423774639323137, -3.27164484540193]\n",
      "[-2.9034330772911616, -3.67536908841954]\n",
      "[-3.1348858506399493, -1.88170027042971]\n",
      "[-3.123538380524372, -0.824006867010217]\n",
      "[-2.745520072044179, 3.24758220584622]\n",
      "[-2.295935560538721, 2.82654224721882]\n",
      "[-2.093122320867404, 4.03483049554441]\n",
      "[-2.580280709968817, 5.55800656928560]\n",
      "[-2.251198694881948, 7.05672847543546]\n",
      "[-1.9868282392926688, 7.59105362798554]\n",
      "[-0.7804006189692809, 8.99291314342755]\n",
      "[-0.6462063695417624, 7.89166864404742]\n",
      "[-0.25321882534233264, 8.06371822245556]\n",
      "[-0.12803517196374825, 9.79999858431369]\n",
      "[0.497122009631243, 9.88012237875773]\n",
      "[0.8154507248514802, 9.48006137585625]\n",
      "[1.9143522051074457, 6.92675935781241]\n",
      "[1.6182162344766378, 5.69849607197063]\n",
      "[1.9166495515352469, 4.66585564838106]\n",
      "[2.5625559872122565, 5.63752596807442]\n",
      "[2.910775106779168, 4.08475848485426]\n",
      "[2.9769842781508955, 3.07099798165461]\n",
      "[2.9274776090743497, -1.09921552072415]\n",
      "[2.490004091890533, -1.04214500809049]\n",
      "[2.387902334613261, -2.32785686319030]\n",
      "[2.9359223709616744, -3.41174185859350]\n",
      "[2.7289451173066386, -5.15901190467884]\n",
      "[2.506206319499967, -5.89407010293961]\n",
      "[1.4094685468385195, -8.15369891792766]\n",
      "[1.1837879841328827, -7.07963751147274]\n",
      "[0.8001897725035878, -7.54658493975462]\n",
      "[0.820757271106622, -9.46503928257507]\n",
      "[0.21983963103047943, -9.97622213671633]\n",
      "[-0.11712998767790384, -9.81076807833331]\n",
      "[-1.3673209184474775, -8.11140986540680]\n",
      "[-1.1713423075035332, -6.72845639477279]\n",
      "[-1.5336480012451825, -5.93887313065486]\n",
      "[-2.0868509241999713, -7.31253064482272]\n",
      "[-2.5273629848948405, -6.07928231019571]\n",
      "[-2.6640407862303874, -5.16979181793198]\n",
      "[-2.940921071581341, -1.17500356197081]\n",
      "[-2.5499442573163997, -0.905934728429445]\n",
      "[-2.5503479297645715, 0.369424785941828]\n",
      "[-3.115012995294883, 1.00107464638148]\n",
      "[-3.0516329046922204, 2.93578191580244]\n",
      "[-2.8821412850753676, 3.85885012939683]\n",
      "[-1.931415676119892, 6.90343228454365]\n",
      "[-1.5921871267721726, 5.84735687330561]\n",
      "[-1.2287787807870194, 6.62130290898568]\n",
      "[-1.4368548024360395, 8.71423068920155]\n",
      "[-0.8919869079712714, 9.59557185778042]\n",
      "[-0.5575576636839535, 9.66025363703099]\n",
      "[0.7655316295372951, 8.88986497966667]\n",
      "[0.6789507682036444, 7.48321155499913]\n",
      "[1.0780863442142465, 6.97374363411694]\n",
      "[1.5089098343420029, 8.59383928742004]\n",
      "[2.0094624102325547, 7.73166559042279]\n",
      "[2.203243730472315, 6.97881751937842]\n",
      "[2.7762021916583124, 3.43094156107851]\n",
      "[2.4623275143720615, 2.91202082256935]\n",
      "[2.5577452671542433, 1.73647786854767]\n",
      "[3.0934051738496846, 1.52039759156855]\n",
      "[3.190364690565812, -0.414861356174644]\n",
      "[3.1000011654294073, -1.45073180785768]\n",
      "[2.4165461843831504, -5.16170354423851]\n",
      "[1.9934763180757566, -4.38221239688171]\n",
      "[1.7003429312963152, -5.42861742465447]\n",
      "[2.082038441265264, -7.32529557693354]\n",
      "[1.634789472924754, -8.57234005992278]\n",
      "[1.3255088166979192, -8.89449573398659]\n",
      "[0.011044208837815095, -9.25834991439842]\n",
      "[-0.025239946355234633, -7.94779538460969]\n",
      "[-0.4377145212913969, -7.79009392211707]\n",
      "[-0.7109182087169863, -9.55113616760555]\n",
      "[-1.306111419421344, -9.11653431105405]\n",
      "[-1.5732398083676742, -8.48989503680806]\n",
      "[-2.4215432742462744, -5.23300669143160]\n",
      "[-2.0696501364854005, -4.34504375431337]\n",
      "[-2.267695861134162, -3.15398791857605]\n",
      "[-2.9243075372173073, -3.50564387429927]\n",
      "[-3.1453720555735756, -1.69662416815543]\n",
      "[-3.1275687379156074, -0.638266327802994]\n",
      "[-2.7234842940426676, 3.41308236716339]\n",
      "[-2.2745521630558097, 2.96191208875342]\n",
      "[-2.0638833837364996, 4.16003441322816]\n",
      "[-2.5441469987673475, 5.71687049532261]\n",
      "[-2.2046626574028263, 7.19895375330139]\n",
      "[-1.9359087867912579, 7.71750939139015]\n",
      "[-0.7170039992228596, 9.03767838102157]\n",
      "[-0.5898346881011545, 7.91524183217908]\n",
      "[-0.1940678901250985, 8.06109848265224]\n",
      "[-0.057222647830381224, 9.80527718717904]\n",
      "[0.5679247832934354, 9.84106700870961]\n",
      "[0.8830655506462819, 9.41908967800496]\n",
      "[1.9630511361771972, 6.79191282206081]\n",
      "[1.6589757932778986, 5.58696835020592]\n",
      "[1.9496981844518486, 4.53481227483572]\n",
      "[2.6013048154973095, 5.45834441863920]\n",
      "[2.9391596325652243, 3.87880877089842]\n",
      "[2.9980975649524293, 2.85824890771837]\n",
      "[2.916615435376923, -1.31366871331354]\n",
      "[2.4765006548347532, -1.22257473876304]\n",
      "[2.3644931860876897, -2.50439127151063]\n",
      "[2.9084542722446196, -3.63176140387687]\n",
      "[2.6895668894370566, -5.35139003385996]\n",
      "[2.463525330110794, -6.06560961128378]\n",
      "[1.359765055402344, -8.24935882963757]\n",
      "[1.144835354833385, -7.18917374462391]\n",
      "[0.7621910204021844, -7.62762527128437]\n",
      "[0.7665000456082343, -9.50822798426802]\n",
      "[0.6684134087721725, -9.58579756601329]\n",
      "[0.6184698588038876, -9.61341522536717]\n",
      "[0.3697998488985005, -9.73747598629558]\n",
      "[0.32709870123532486, -9.75110991573307]\n",
      "[0.270920722201721, -9.76780530672546]\n",
      "[0.26821656748707373, -9.77058134353137]\n"
     ]
    }
   ],
   "source": [
    "from scipy.integrate import solve_ivp\n",
    "sol = solve_ivp(fun=qdot,t_span=[0,10],y0=[1,0])"
   ]
  },
  {
   "cell_type": "code",
   "execution_count": 18,
   "metadata": {},
   "outputs": [
    {
     "data": {
      "text/plain": [
       "[<matplotlib.lines.Line2D at 0x27c5e5a59b0>]"
      ]
     },
     "execution_count": 18,
     "metadata": {},
     "output_type": "execute_result"
    },
    {
     "data": {
      "image/png": "[encoded data removed]",
      "text/plain": [
       "<Figure size 640x480 with 1 Axes>"
      ]
     },
     "metadata": {},
     "output_type": "display_data"
    }
   ],
   "source": [
    "import matplotlib.pyplot as plt\n",
    "plt.plot(sol.t,sol.y[0])"
   ]
  }
 ],
 "metadata": {
  "kernelspec": {
   "display_name": "Python 3",
   "language": "python",
   "name": "python3"
  },
  "language_info": {
   "codemirror_mode": {
    "name": "ipython",
    "version": 3
   },
   "file_extension": ".py",
   "mimetype": "text/x-python",
   "name": "python",
   "nbconvert_exporter": "python",
   "pygments_lexer": "ipython3",
   "version": "3.10.9 (tags/v3.10.9:1dd9be6, Dec  6 2022, 20:01:21) [MSC v.1934 64 bit (AMD64)]"
  },
  "vscode": {
   "interpreter": {
    "hash": "cbd884b27ce8a521f14a4395d2fc856cd6c799b684d9efdb8253cb562c6eeba0"
   }
  }
 },
 "nbformat": 4,
 "nbformat_minor": 4
}
