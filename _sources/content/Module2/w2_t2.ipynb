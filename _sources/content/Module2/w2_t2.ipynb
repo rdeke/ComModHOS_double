{
 "cells": [
  {
   "attachments": {},
   "cell_type": "markdown",
   "metadata": {},
   "source": [
    "# Tutorial 2.2: Deriving the EOM of a pendulum\n",
    "In this tutorial you will learn to derive the Equations of Motion of the pendulum as covered in the lecture. That is, a pendulum attached to the floor with a spring. We also consider an external horizontal force acting on the mass.\n",
    "\n",
    "<center><img src=\"../../images/Module2/w2_t2_representation.png\" width=\"200\" /></center>"
   ]
  },
  {
   "attachments": {},
   "cell_type": "markdown",
   "metadata": {},
   "source": [
    "## Part 1: Kinematic equations\n",
    "Using the following rotation matrix R($\\phi$): https://en.wikipedia.org/wiki/Rotation_matrix the zero angle points to the right for this matrix.\n",
    "\n",
    "We first start by defining the variables. Assuming that x1, z1 and r1 do not change in time:"
   ]
  },
  {
   "cell_type": "code",
   "execution_count": null,
   "metadata": {},
   "outputs": [],
   "source": [
    "import numpy as np\n",
    "from sympy import *\n",
    "\n",
    "var(\"t s x1 z1 r1\")      \n",
    "phi1 = Function(\"phi1\")(t)"
   ]
  },
  {
   "attachments": {},
   "cell_type": "markdown",
   "metadata": {},
   "source": [
    "-----------------------------------------------------------------------------------------------------\n",
    "**Problem**: Define the kinematic relations\n",
    "\n",
    "*Hint*: How do you write the position of the pendulum (x2, z2) as a function of x1, z1, r1 and phi1?\n",
    "\n",
    "---------------------------------------------------------------------------------------------------"
   ]
  },
  {
   "cell_type": "code",
   "execution_count": null,
   "metadata": {},
   "outputs": [],
   "source": [
    "# Define the kinematic relations here\n"
   ]
  },
  {
   "attachments": {},
   "cell_type": "markdown",
   "metadata": {},
   "source": [
    "The velocities can then be obtained using:\n",
    "\n",
    "-----------------------------------------------------------------------------------------------------\n",
    "**Problem**: Define the velocities\n",
    "\n",
    "*Hint*: Use derivatives.\n",
    "\n",
    "---------------------------------------------------------------------------------------------------"
   ]
  },
  {
   "cell_type": "code",
   "execution_count": null,
   "metadata": {},
   "outputs": [],
   "source": [
    "# Compute/define the velocities here\n"
   ]
  },
  {
   "attachments": {},
   "cell_type": "markdown",
   "metadata": {},
   "source": [
    "## Part 2: Energy equations\n",
    "### Kinetic energy:\n",
    "The only mass in this system is the point mass located at P2 with mass $M$\n",
    "\n",
    "-----------------------------------------------------------------------------------------------------\n",
    "**Problem**: Define the kinetic energy\n",
    "\n",
    "---------------------------------------------------------------------------------------------------"
   ]
  },
  {
   "cell_type": "code",
   "execution_count": null,
   "metadata": {},
   "outputs": [],
   "source": [
    "var(\"M\")\n",
    "# Define the kinetic energy here (T)\n"
   ]
  },
  {
   "cell_type": "markdown",
   "metadata": {},
   "source": [
    "This expression can be simplified to:"
   ]
  },
  {
   "cell_type": "code",
   "execution_count": null,
   "metadata": {},
   "outputs": [],
   "source": [
    "T = simplify(T)\n",
    "T.evalf()"
   ]
  },
  {
   "attachments": {},
   "cell_type": "markdown",
   "metadata": {},
   "source": [
    "### Potential energy:\n",
    "Assuming again that $l0$, the original length of the spring, does not change in time, then the elongation of the spring $dl$ is given by:\n",
    "\n",
    "-----------------------------------------------------------------------------------------------------\n",
    "**Problem**: Define the spring elongation dl\n",
    "\n",
    "---------------------------------------------------------------------------------------------------"
   ]
  },
  {
   "cell_type": "code",
   "execution_count": null,
   "metadata": {},
   "outputs": [],
   "source": [
    "var(\"dx dz l0 x3 z3\")\n",
    "# Define the spring elongation here dl(l0,x2,z2,x3,z3)\n"
   ]
  },
  {
   "attachments": {},
   "cell_type": "markdown",
   "metadata": {},
   "source": [
    "The work done by the spring between P2 and P3 with stiffness $k$ and gravity.\n",
    "\n",
    "-----------------------------------------------------------------------------------------------------\n",
    "**Problem**: Define the potential energy V.\n",
    "\n",
    "---------------------------------------------------------------------------------------------------"
   ]
  },
  {
   "cell_type": "code",
   "execution_count": null,
   "metadata": {},
   "outputs": [],
   "source": [
    "var(\"k g\")\n",
    "# Define the potential energy here (V)\n"
   ]
  },
  {
   "attachments": {},
   "cell_type": "markdown",
   "metadata": {},
   "source": [
    "### Work by external force\n",
    "The work done by an external force working in the horizontal direction:\n",
    "\n",
    "-----------------------------------------------------------------------------------------------------\n",
    "**Problem**: Define the external work.\n",
    "\n",
    "---------------------------------------------------------------------------------------------------"
   ]
  },
  {
   "cell_type": "code",
   "execution_count": null,
   "metadata": {},
   "outputs": [],
   "source": [
    "Fx = Function(\"Fx\")(t)\n",
    "\n",
    "# Define your external work here (W)\n"
   ]
  },
  {
   "attachments": {},
   "cell_type": "markdown",
   "metadata": {},
   "source": [
    "## Step 3: Construct the Lagrangian\n",
    "\n",
    "-----------------------------------------------------------------------------------------------------\n",
    "**Problem**: Use T, V and W to find the lagrangian L. Simplify it using L.evalf()\n",
    "\n",
    "---------------------------------------------------------------------------------------------------"
   ]
  },
  {
   "cell_type": "code",
   "execution_count": null,
   "metadata": {},
   "outputs": [],
   "source": [
    "# Define your Lagrangian here (L)\n"
   ]
  },
  {
   "attachments": {},
   "cell_type": "markdown",
   "metadata": {},
   "source": [
    "## Step 4: Obtaining the EoM\n",
    "\n",
    "In order to obtain the EoMs we have to take derivatives w.r.t. $\\phi_1$ and its velocity. \n",
    "\n",
    "-----------------------------------------------------------------------------------------------------\n",
    "**Problem**: USe the Lagrangian expression to obtain the equation of motion.\n",
    "\n",
    "*Hint*: Put all terms on the left hand side\n",
    "\n",
    "---------------------------------------------------------------------------------------------------"
   ]
  },
  {
   "cell_type": "code",
   "execution_count": null,
   "metadata": {},
   "outputs": [],
   "source": [
    "# Compute the EOM here\n"
   ]
  },
  {
   "attachments": {},
   "cell_type": "markdown",
   "metadata": {},
   "source": [
    "Now we isolate it for the acceleration.\n",
    "\n",
    "These cells can in practice take quite some time to execute. For this illustration the added spring stiffness k is set to 0, but it can take any value."
   ]
  },
  {
   "cell_type": "code",
   "execution_count": null,
   "metadata": {},
   "outputs": [],
   "source": [
    "var(\"phi0 epsilon\")\n",
    "psi = Function(\"psi\")(t) # perturbation function\n",
    "\n",
    "tmp1 = symbols(\"tmp1\") # the acceleration, to be linearized as phi0+epsilon*psi\n",
    "tmp2 = symbols(\"tmp2\") # the displacement\n",
    "EOM_psi2 = EOM_phi.evalf(subs={diff(phi1, (t, 2)): tmp2, phi1: tmp1})\n",
    "EOM_psi2 = EOM_psi2.evalf(subs={tmp2: diff(phi0 + epsilon*psi, (t, 2)), tmp1: phi0 + epsilon*psi})\n",
    "EOM_psi2.evalf()"
   ]
  },
  {
   "cell_type": "code",
   "execution_count": null,
   "metadata": {},
   "outputs": [],
   "source": [
    "# Linearize by doing series expansion up to order 2 (see last term of output)\n",
    "EOM_lin = series(EOM_psi2, epsilon, n=2)\n",
    "EOM_lin.evalf()"
   ]
  },
  {
   "cell_type": "code",
   "execution_count": null,
   "metadata": {},
   "outputs": [],
   "source": [
    "EOM_lin2 = EOM_lin.evalf(subs={k: 0}) # For faster execution\n",
    "EOM_lin2.evalf()"
   ]
  },
  {
   "cell_type": "code",
   "execution_count": null,
   "metadata": {},
   "outputs": [],
   "source": [
    "# Simplify and say that the \"epsilon\" was just a temorary value for perturbations\n",
    "EOM_lin3 = EOM_lin2.removeO().evalf(subs={epsilon: 1})\n",
    "EOM_lin3.evalf()"
   ]
  },
  {
   "cell_type": "code",
   "execution_count": null,
   "metadata": {},
   "outputs": [],
   "source": [
    "# Isolate the acceleration\n",
    "EOM_lin_iso = solve(EOM_lin3, diff(psi, (t, 2)))\n",
    "EOM_lin_iso[0].evalf()"
   ]
  },
  {
   "cell_type": "markdown",
   "metadata": {},
   "source": [
    "The EOM of an actual pendulum can be recovered by removing the spring and the external force. Note that this returns a cos because $\\phi (t)=0$ was set to the right, rather than downward which is more conventional for a pendulum."
   ]
  },
  {
   "cell_type": "code",
   "execution_count": null,
   "metadata": {},
   "outputs": [],
   "source": [
    "# Setting k=0 (done before) and phi0 straight down, you should recover the pendulum equation found in tutorial 2_1\n",
    "EOM_lin_iso2 = EOM_lin_iso[0].evalf(subs={phi0: 3*pi/2, k: 0})\n",
    "print(EOM_lin_iso2)"
   ]
  },
  {
   "attachments": {},
   "cell_type": "markdown",
   "metadata": {},
   "source": [
    "In the code above the high length of the expressions is a consequence of machine precision. This makes the execution times a multitude larger as well. Depending on the application it becomes more and more usefulf to simplify as early as possible in hte process. addinh $k: 0$ to one of the earlier dictionaries for example does the trick here, but it can only be applied if the goal was to not include an additional spring in the first place."
   ]
  },
  {
   "cell_type": "markdown",
   "metadata": {},
   "source": [
    "## Bonus: Obtaining the EOMs for nDOF system\n",
    "\n",
    "If your system contains multiple DOFs, you will have to take the derivative of $L$ towards each of these separately, thereby obtaining the EOM for each DOF. Let's say you obtained the following two EOMs (the EOMs are just random things I entered):"
   ]
  },
  {
   "cell_type": "code",
   "execution_count": null,
   "metadata": {},
   "outputs": [],
   "source": [
    "var(\"m c k J d q\")\n",
    "u = Function(\"u\")(t)\n",
    "w = Function(\"w\")(t)\n",
    "\n",
    "eom1 = m*cos(w)*diff(u, (t, 2)) + m*sin(u)*diff(w, (t, 2)) - c*diff(w, t) - c*diff(w, t)**2*u*ln(sqrt(t))**2*exp(u*w) - k*u\n",
    "eom1.evalf()"
   ]
  },
  {
   "cell_type": "code",
   "execution_count": null,
   "metadata": {},
   "outputs": [],
   "source": [
    "eom2 = J*w**2*diff(u, (t, 2)) + J*diff(w, t)*diff(w, (t, 2)) - d*diff(w, t) + q*u\n",
    "eom2.evalf()"
   ]
  },
  {
   "cell_type": "markdown",
   "metadata": {},
   "source": [
    "You can collect both EOMs into matrix form using the following code:"
   ]
  },
  {
   "cell_type": "code",
   "execution_count": null,
   "metadata": {},
   "outputs": [],
   "source": [
    "# linear_eq_to_matrix only accepts symbols, therefore we have to substitute the second derivative functions with symbols a1 and a2\n",
    "a1, a2 = symbols(\"a1 a2\") # acceler u and acceler w\n",
    "eom1 = eom1.evalf(subs={diff(u, (t, 2)): a1, diff(w, (t, 2)): a2})\n",
    "eom2 = eom2.evalf(subs={diff(u, (t, 2)): a1, diff(w, (t, 2)): a2})\n",
    "MTRX = linear_eq_to_matrix([eom1, eom2], [a1, a2])"
   ]
  },
  {
   "cell_type": "markdown",
   "metadata": {},
   "source": [
    "Resulting in the following system of equations:"
   ]
  },
  {
   "cell_type": "code",
   "execution_count": null,
   "metadata": {},
   "outputs": [],
   "source": [
    "M = MTRX[0]\n",
    "M.evalf()"
   ]
  },
  {
   "cell_type": "markdown",
   "metadata": {},
   "source": [
    "And the following right-hand-side:"
   ]
  },
  {
   "cell_type": "code",
   "execution_count": null,
   "metadata": {},
   "outputs": [],
   "source": [
    "F = MTRX[1]\n",
    "F.evalf()"
   ]
  },
  {
   "attachments": {},
   "cell_type": "markdown",
   "metadata": {},
   "source": [
    "-----------------------------------------------------------------------------------------------------\n",
    "[The solution can be found here.](w2_t2_sol.ipynb)"
   ]
  }
 ],
 "metadata": {
  "kernelspec": {
   "display_name": "Python 3",
   "language": "python",
   "name": "python3"
  },
  "language_info": {
   "codemirror_mode": {
    "name": "ipython",
    "version": 3
   },
   "file_extension": ".py",
   "mimetype": "text/x-python",
   "name": "python",
   "nbconvert_exporter": "python",
   "pygments_lexer": "ipython3",
   "version": "3.10.10"
  },
  "vscode": {
   "interpreter": {
    "hash": "cbd884b27ce8a521f14a4395d2fc856cd6c799b684d9efdb8253cb562c6eeba0"
   }
  }
 },
 "nbformat": 4,
 "nbformat_minor": 4
}
