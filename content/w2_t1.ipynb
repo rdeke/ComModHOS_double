{
 "cells": [
  {
   "attachments": {},
   "cell_type": "markdown",
   "metadata": {},
   "source": [
    "# Tutorial 2.1: Linearizing the Equations of Motion (Example only)\n",
    "In this tutorial you will learn to linearize the Equations of Motion of the pendulum as covered in the lecture. "
   ]
  },
  {
   "cell_type": "markdown",
   "metadata": {},
   "source": [
    "## Part 1: Kinematic equations\n",
    "\n",
    "We first start by defining the variables. Let's start with the kinematic relations of a pendulum hanging from the point $(x_0, z_0)$."
   ]
  },
  {
   "cell_type": "code",
   "execution_count": null,
   "metadata": {},
   "outputs": [],
   "source": [
    "from sympy import *\n",
    "var(\"t x1 z1 r phi0\") # independent variables      \n",
    "phi1 = Function(\"phi1\")(t)\n",
    "x2 = x1 + r*cos(phi1)\n",
    "z2 = z1 + r*sin(phi1)"
   ]
  },
  {
   "cell_type": "markdown",
   "metadata": {},
   "source": [
    "The velocities can then be obtained using:"
   ]
  },
  {
   "cell_type": "code",
   "execution_count": null,
   "metadata": {},
   "outputs": [],
   "source": [
    "xdot = diff(x2, t)\n",
    "zdot = diff(z2, t)"
   ]
  },
  {
   "cell_type": "markdown",
   "metadata": {},
   "source": [
    "## Part 2: Energy equations\n",
    "### Kinetic energy:\n",
    "The in this system is $m$, such that the kinetic energy is given by:"
   ]
  },
  {
   "cell_type": "code",
   "execution_count": null,
   "metadata": {},
   "outputs": [],
   "source": [
    "var(\"m\")\n",
    "T = 0.5*m*(xdot**2 + zdot**2)\n",
    "T.evalf()"
   ]
  },
  {
   "cell_type": "markdown",
   "metadata": {},
   "source": [
    "This expression can be simplified to:"
   ]
  },
  {
   "cell_type": "code",
   "execution_count": null,
   "metadata": {},
   "outputs": [],
   "source": [
    "T = simplify(T) # Linearization\n",
    "T.evalf()"
   ]
  },
  {
   "cell_type": "markdown",
   "metadata": {},
   "source": [
    "### Potential energy:\n",
    "The potential energy on the pendulum is due to gravity:"
   ]
  },
  {
   "cell_type": "code",
   "execution_count": null,
   "metadata": {},
   "outputs": [],
   "source": [
    "var(\"g\")\n",
    "V = m*g*z2\n",
    "V.evalf()"
   ]
  },
  {
   "cell_type": "markdown",
   "metadata": {},
   "source": [
    "## Step 3: Construct the Lagrangian"
   ]
  },
  {
   "cell_type": "code",
   "execution_count": null,
   "metadata": {},
   "outputs": [],
   "source": [
    "L = T - V\n",
    "L.evalf()"
   ]
  },
  {
   "cell_type": "markdown",
   "metadata": {},
   "source": [
    "## Step 4: Obtaining the EoM\n",
    "\n",
    "In order to obtain the EoMs we have to take derivatives w.r.t. $\\phi_1$ and its velocity. "
   ]
  },
  {
   "cell_type": "code",
   "execution_count": null,
   "metadata": {},
   "outputs": [],
   "source": [
    "EOM_phi = diff( diff(L, diff(phi1, t)), t) - diff(L, phi1)\n",
    "# ! LHS needs derivative to get \"velocity\"\n",
    "EOM_phi = simplify(EOM_phi)\n",
    "EOM_phi.evalf()"
   ]
  },
  {
   "cell_type": "markdown",
   "metadata": {},
   "source": [
    "The equation is nonlinear since it depends on the cosine of the angle. We want to obtain a linear function, so let's linearize. We consider a perturbation around the point we want to linearize ($\\phi_0$). We linearize with the following function substitution: $\\phi_1(t) = \\phi_0 + \\epsilon \\psi(t)$. The $\\epsilon$ is added in order to apply the Taylor series expansion. \n",
    "\n",
    "On a technical note: Using SymPy for function substitution can be tricky, hence we will use temporary symbols called `tmp1` and `tmp2` in order to do the substitution."
   ]
  },
  {
   "cell_type": "code",
   "execution_count": null,
   "metadata": {},
   "outputs": [],
   "source": [
    "var(\"phi0 epsilon\")\n",
    "psi = Function(\"psi\")(t) # perturbation function\n",
    "\n",
    "tmp1 = symbols(\"tmp1\")\n",
    "EOM_psi = EOM_phi.evalf(subs={phi1: tmp1})\n",
    "EOM_psi = EOM_psi.evalf(subs={tmp1: phi0 + epsilon*psi})\n",
    "print(EOM_psi)\n",
    "EOM_psi.evalf()"
   ]
  },
  {
   "cell_type": "markdown",
   "metadata": {},
   "source": [
    "Now, we can apply the Taylor series expansion using the function $\\epsilon$ as a variable."
   ]
  },
  {
   "cell_type": "code",
   "execution_count": null,
   "metadata": {},
   "outputs": [],
   "source": [
    "EOM_lin = series(EOM_psi, epsilon, n=2)\n",
    "EOM_lin.evalf()"
   ]
  },
  {
   "cell_type": "markdown",
   "metadata": {},
   "source": [
    "Note that we know that $\\frac{d^2\\phi_0}{dt^2}=0$, so we can redefine the derivative in terms of $\\psi$ only."
   ]
  },
  {
   "cell_type": "code",
   "execution_count": null,
   "metadata": {},
   "outputs": [],
   "source": [
    "tmp2 = symbols(\"tmp2\")\n",
    "EOM_psi2 = EOM_phi.evalf(subs={diff(phi1, (t, 2)): tmp2, phi1: tmp1})\n",
    "EOM_psi2 = EOM_psi2.evalf(subs={tmp2: diff(phi0 + epsilon*psi, (t, 2)), tmp1: phi0 + epsilon*psi})\n",
    "EOM_psi2.evalf()"
   ]
  },
  {
   "cell_type": "code",
   "execution_count": null,
   "metadata": {},
   "outputs": [],
   "source": [
    "EOM_lin = series(EOM_psi2, epsilon, n=2)\n",
    "EOM_lin.evalf()"
   ]
  },
  {
   "cell_type": "markdown",
   "metadata": {},
   "source": [
    "Then, we obtain the linearized EOM by setting $\\epsilon = 1$."
   ]
  },
  {
   "cell_type": "code",
   "execution_count": null,
   "metadata": {},
   "outputs": [],
   "source": [
    "EOM_lin = EOM_lin.removeO().evalf(subs={epsilon: 1})\n",
    "EOM_lin.evalf()"
   ]
  },
  {
   "cell_type": "markdown",
   "metadata": {},
   "source": [
    "We see that we get an expression that only depends on (linearly) on the perturbation $\\psi(t)$. Isolating the second derivative with respect to time of the perturbation, we get the final expression of the linearized system."
   ]
  },
  {
   "cell_type": "code",
   "execution_count": null,
   "metadata": {},
   "outputs": [],
   "source": [
    "EOM_lin_iso = solve(EOM_lin, diff(psi, (t, 2)))\n",
    "EOM_lin_iso[0].evalf()"
   ]
  },
  {
   "cell_type": "markdown",
   "metadata": {},
   "source": [
    "In this problem, our initial angle is $\\phi_0 = 3*\\frac{\\pi}{2}$, then the final Equation of Motion will be:"
   ]
  },
  {
   "cell_type": "code",
   "execution_count": null,
   "metadata": {},
   "outputs": [],
   "source": [
    "a = EOM_lin_iso[0].evalf(subs={phi0: 3*pi/2})\n",
    "a"
   ]
  },
  {
   "cell_type": "markdown",
   "metadata": {},
   "source": [
    "### Remarks\n",
    "\n",
    "1) The problem studied here is already linear with respect to the accelerations and does not depend on velocities. If we had a nonlinear dependency on accelerations and/or velocities, we should have taken into account the gradients with respect these two quantities.\n",
    "2) For a multiple DOF system, this process has to be done for all the EOM associated to each DOF.\n"
   ]
  },
  {
   "cell_type": "markdown",
   "metadata": {},
   "source": [
    "## Part 3: Solve the equation\n",
    "\n",
    "Now we can solve the equation using an ODE solver"
   ]
  },
  {
   "cell_type": "code",
   "execution_count": null,
   "metadata": {},
   "outputs": [],
   "source": [
    "tsym, psisym = symbols(\"tsym psisym\")\n",
    "print(a)\n",
    "a = a.evalf(subs={t: tsym, psi: psisym, g: 9.81, r: 1.0})\n",
    "print(a)\n",
    "def qdot(t,q):\n",
    "    vt = q[1]\n",
    "    at = a.evalf(subs={psisym: q[0], tsym: t})\n",
    "    return [vt,at]"
   ]
  },
  {
   "cell_type": "code",
   "execution_count": null,
   "metadata": {},
   "outputs": [],
   "source": [
    "# Just for demonstration\n",
    "qdot(0,[0,0])"
   ]
  },
  {
   "cell_type": "code",
   "execution_count": null,
   "metadata": {},
   "outputs": [],
   "source": [
    "from scipy.integrate import solve_ivp\n",
    "sol = solve_ivp(fun=qdot,t_span=[0,10],y0=[1,0])\n",
    "# Note: The initial \"angle\" of 1 would not be considered small, so the linearization would in practice not be physically accurate."
   ]
  },
  {
   "cell_type": "code",
   "execution_count": null,
   "metadata": {},
   "outputs": [],
   "source": [
    "import matplotlib.pyplot as plt\n",
    "plt.plot(sol.t,sol.y[0])\n",
    "plt.xlabel(\"Time [s]\")\n",
    "plt.ylabel(\"Excursion [rad]\")\n",
    "plt.title(\"Pendulum motion from Lagrangian equations\");"
   ]
  },
  {
   "attachments": {},
   "cell_type": "markdown",
   "metadata": {},
   "source": [
    "-----------------------------------------------------------------------------------------------------\n",
    "[The solution can be found here.](w2_t1_sol.ipynb)"
   ]
  }
 ],
 "metadata": {
  "kernelspec": {
   "display_name": "Python 3",
   "language": "python",
   "name": "python3"
  },
  "language_info": {
   "codemirror_mode": {
    "name": "ipython",
    "version": 3
   },
   "file_extension": ".py",
   "mimetype": "text/x-python",
   "name": "python",
   "nbconvert_exporter": "python",
   "pygments_lexer": "ipython3",
   "version": "3.10.9"
  },
  "vscode": {
   "interpreter": {
    "hash": "cbd884b27ce8a521f14a4395d2fc856cd6c799b684d9efdb8253cb562c6eeba0"
   }
  }
 },
 "nbformat": 4,
 "nbformat_minor": 4
}
